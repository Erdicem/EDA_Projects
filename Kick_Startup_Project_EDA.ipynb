{
 "cells": [
  {
   "cell_type": "code",
   "execution_count": 1,
   "metadata": {},
   "outputs": [],
   "source": [
    "import matplotlib.pyplot as plt \n",
    "import pandas as pd \n",
    "import numpy as np \n",
    "import seaborn as sns\n",
    "from scipy.stats.mstats import winsorize\n",
    "import scipy.stats as stats\n",
    "import warnings\n",
    "warnings.filterwarnings('ignore')\n",
    "\n",
    "pd.options.display.float_format= '{:.3f}'.format"
   ]
  },
  {
   "cell_type": "markdown",
   "metadata": {},
   "source": [
    "## Context\n",
    "I'm a crowdfunding enthusiast and i'm watching kickstarter since its early days. Right now I just collect data and the only app i've made is this twitter bot which tweet any project reaching some milestone: @bloomwatcher . I have a lot of other ideas, but sadly not enough time to develop them… But I hope you can!\n",
    "\n",
    "## Content\n",
    "You'll find most useful data for project analysis. Columns are self explanatory except:\n",
    "\n",
    "usd_pledged: conversion in US dollars of the pledged column (conversion done by kickstarter).\n",
    "\n",
    "usd pledge real: conversion in US dollars of the pledged column (conversion from Fixer.io API).\n",
    "\n",
    "usd goal real: conversion in US dollars of the goal column (conversion from Fixer.io API).\n",
    "\n",
    "## Acknowledgements\n",
    "Data are collected from Kickstarter Platform\n",
    "\n",
    "usd conversion (usdpledgedreal and usdgoalreal columns) were generated from convert ks pledges to usd script done by tonyplaysguitar"
   ]
  },
  {
   "cell_type": "markdown",
   "metadata": {},
   "source": [
    "# Explain Columns of Kickstarter Projects\n",
    "\n",
    "- ID: internal kickstarter id\n",
    "- name: name of project - A project is a finite work with a clear goal that you’d like to bring to life. Think albums, books, or films.\n",
    "- category: category\n",
    "- main_category: category of campaign\n",
    "- currency: currency used to support\n",
    "- deadline: deadline for crowdfunding\n",
    "- goal: fundraising goal The funding goal is the amount of money that a creator needs to complete their project.\n",
    "- launched: date launched\n",
    "- pledged: amount pledged by \"crowd\"\n",
    "- state: Current condition the project is in\n",
    "- backers: number of backers\n",
    "- country: country pledged from\n",
    "- usd pledged: amount of money pledged"
   ]
  },
  {
   "cell_type": "markdown",
   "metadata": {},
   "source": [
    "## Questions\n",
    "\n",
    "- Under what conditions an initiative was successful (main question)\n",
    "- Investors donated to which category most\n",
    "- Which year has the most investment \n",
    "- Which category has been the most successful\n",
    "- Which year is the number of successful ventures\n",
    "- How many of the startup have received the investment they targeted \n",
    "- How many ventures were successful despite collecting the money he had targeted or not targeted\n",
    "- how many ventures failed despite collecting the money he was aiming  \n",
    "- Which country got the most investment\n",
    "- which country has a higher success rate than others\n"
   ]
  },
  {
   "cell_type": "code",
   "execution_count": 2,
   "metadata": {},
   "outputs": [
    {
     "data": {
      "text/html": [
       "<div>\n",
       "<style scoped>\n",
       "    .dataframe tbody tr th:only-of-type {\n",
       "        vertical-align: middle;\n",
       "    }\n",
       "\n",
       "    .dataframe tbody tr th {\n",
       "        vertical-align: top;\n",
       "    }\n",
       "\n",
       "    .dataframe thead th {\n",
       "        text-align: right;\n",
       "    }\n",
       "</style>\n",
       "<table border=\"1\" class=\"dataframe\">\n",
       "  <thead>\n",
       "    <tr style=\"text-align: right;\">\n",
       "      <th></th>\n",
       "      <th>ID</th>\n",
       "      <th>name</th>\n",
       "      <th>category</th>\n",
       "      <th>main_category</th>\n",
       "      <th>currency</th>\n",
       "      <th>deadline</th>\n",
       "      <th>goal</th>\n",
       "      <th>launched</th>\n",
       "      <th>pledged</th>\n",
       "      <th>state</th>\n",
       "      <th>backers</th>\n",
       "      <th>country</th>\n",
       "      <th>usd pledged</th>\n",
       "      <th>usd_pledged_real</th>\n",
       "      <th>usd_goal_real</th>\n",
       "    </tr>\n",
       "  </thead>\n",
       "  <tbody>\n",
       "    <tr>\n",
       "      <td>0</td>\n",
       "      <td>1000002330</td>\n",
       "      <td>The Songs of Adelaide &amp; Abullah</td>\n",
       "      <td>Poetry</td>\n",
       "      <td>Publishing</td>\n",
       "      <td>GBP</td>\n",
       "      <td>2015-10-09</td>\n",
       "      <td>1000.000</td>\n",
       "      <td>2015-08-11 12:12:28</td>\n",
       "      <td>0.000</td>\n",
       "      <td>failed</td>\n",
       "      <td>0</td>\n",
       "      <td>GB</td>\n",
       "      <td>0.000</td>\n",
       "      <td>0.000</td>\n",
       "      <td>1533.950</td>\n",
       "    </tr>\n",
       "    <tr>\n",
       "      <td>1</td>\n",
       "      <td>1000003930</td>\n",
       "      <td>Greeting From Earth: ZGAC Arts Capsule For ET</td>\n",
       "      <td>Narrative Film</td>\n",
       "      <td>Film &amp; Video</td>\n",
       "      <td>USD</td>\n",
       "      <td>2017-11-01</td>\n",
       "      <td>30000.000</td>\n",
       "      <td>2017-09-02 04:43:57</td>\n",
       "      <td>2421.000</td>\n",
       "      <td>failed</td>\n",
       "      <td>15</td>\n",
       "      <td>US</td>\n",
       "      <td>100.000</td>\n",
       "      <td>2421.000</td>\n",
       "      <td>30000.000</td>\n",
       "    </tr>\n",
       "    <tr>\n",
       "      <td>2</td>\n",
       "      <td>1000004038</td>\n",
       "      <td>Where is Hank?</td>\n",
       "      <td>Narrative Film</td>\n",
       "      <td>Film &amp; Video</td>\n",
       "      <td>USD</td>\n",
       "      <td>2013-02-26</td>\n",
       "      <td>45000.000</td>\n",
       "      <td>2013-01-12 00:20:50</td>\n",
       "      <td>220.000</td>\n",
       "      <td>failed</td>\n",
       "      <td>3</td>\n",
       "      <td>US</td>\n",
       "      <td>220.000</td>\n",
       "      <td>220.000</td>\n",
       "      <td>45000.000</td>\n",
       "    </tr>\n",
       "    <tr>\n",
       "      <td>3</td>\n",
       "      <td>1000007540</td>\n",
       "      <td>ToshiCapital Rekordz Needs Help to Complete Album</td>\n",
       "      <td>Music</td>\n",
       "      <td>Music</td>\n",
       "      <td>USD</td>\n",
       "      <td>2012-04-16</td>\n",
       "      <td>5000.000</td>\n",
       "      <td>2012-03-17 03:24:11</td>\n",
       "      <td>1.000</td>\n",
       "      <td>failed</td>\n",
       "      <td>1</td>\n",
       "      <td>US</td>\n",
       "      <td>1.000</td>\n",
       "      <td>1.000</td>\n",
       "      <td>5000.000</td>\n",
       "    </tr>\n",
       "    <tr>\n",
       "      <td>4</td>\n",
       "      <td>1000011046</td>\n",
       "      <td>Community Film Project: The Art of Neighborhoo...</td>\n",
       "      <td>Film &amp; Video</td>\n",
       "      <td>Film &amp; Video</td>\n",
       "      <td>USD</td>\n",
       "      <td>2015-08-29</td>\n",
       "      <td>19500.000</td>\n",
       "      <td>2015-07-04 08:35:03</td>\n",
       "      <td>1283.000</td>\n",
       "      <td>canceled</td>\n",
       "      <td>14</td>\n",
       "      <td>US</td>\n",
       "      <td>1283.000</td>\n",
       "      <td>1283.000</td>\n",
       "      <td>19500.000</td>\n",
       "    </tr>\n",
       "  </tbody>\n",
       "</table>\n",
       "</div>"
      ],
      "text/plain": [
       "           ID                                               name  \\\n",
       "0  1000002330                    The Songs of Adelaide & Abullah   \n",
       "1  1000003930      Greeting From Earth: ZGAC Arts Capsule For ET   \n",
       "2  1000004038                                     Where is Hank?   \n",
       "3  1000007540  ToshiCapital Rekordz Needs Help to Complete Album   \n",
       "4  1000011046  Community Film Project: The Art of Neighborhoo...   \n",
       "\n",
       "         category main_category currency    deadline      goal  \\\n",
       "0          Poetry    Publishing      GBP  2015-10-09  1000.000   \n",
       "1  Narrative Film  Film & Video      USD  2017-11-01 30000.000   \n",
       "2  Narrative Film  Film & Video      USD  2013-02-26 45000.000   \n",
       "3           Music         Music      USD  2012-04-16  5000.000   \n",
       "4    Film & Video  Film & Video      USD  2015-08-29 19500.000   \n",
       "\n",
       "              launched  pledged     state  backers country  usd pledged  \\\n",
       "0  2015-08-11 12:12:28    0.000    failed        0      GB        0.000   \n",
       "1  2017-09-02 04:43:57 2421.000    failed       15      US      100.000   \n",
       "2  2013-01-12 00:20:50  220.000    failed        3      US      220.000   \n",
       "3  2012-03-17 03:24:11    1.000    failed        1      US        1.000   \n",
       "4  2015-07-04 08:35:03 1283.000  canceled       14      US     1283.000   \n",
       "\n",
       "   usd_pledged_real  usd_goal_real  \n",
       "0             0.000       1533.950  \n",
       "1          2421.000      30000.000  \n",
       "2           220.000      45000.000  \n",
       "3             1.000       5000.000  \n",
       "4          1283.000      19500.000  "
      ]
     },
     "execution_count": 2,
     "metadata": {},
     "output_type": "execute_result"
    }
   ],
   "source": [
    "starts= pd.read_csv('ks-projects-201801.csv')\n",
    "starts.head()"
   ]
  },
  {
   "cell_type": "markdown",
   "metadata": {},
   "source": [
    "### Data Recognition"
   ]
  },
  {
   "cell_type": "code",
   "execution_count": 4,
   "metadata": {},
   "outputs": [
    {
     "data": {
      "text/plain": [
       "ID                 0.000\n",
       "name               0.001\n",
       "category           0.000\n",
       "main_category      0.000\n",
       "currency           0.000\n",
       "deadline           0.000\n",
       "goal               0.000\n",
       "launched           0.000\n",
       "pledged            0.000\n",
       "state              0.000\n",
       "backers            0.000\n",
       "country            0.000\n",
       "usd pledged        1.003\n",
       "usd_pledged_real   0.000\n",
       "usd_goal_real      0.000\n",
       "dtype: float64"
      ]
     },
     "execution_count": 4,
     "metadata": {},
     "output_type": "execute_result"
    }
   ],
   "source": [
    "starts.isnull().sum()*100/starts.shape[0]"
   ]
  },
  {
   "cell_type": "code",
   "execution_count": 5,
   "metadata": {},
   "outputs": [
    {
     "data": {
      "text/plain": [
       "Index(['ID', 'name', 'category', 'main_category', 'currency', 'deadline',\n",
       "       'goal', 'launched', 'pledged', 'state', 'backers', 'country',\n",
       "       'usd pledged', 'usd_pledged_real', 'usd_goal_real'],\n",
       "      dtype='object')"
      ]
     },
     "execution_count": 5,
     "metadata": {},
     "output_type": "execute_result"
    }
   ],
   "source": [
    "starts.columns"
   ]
  },
  {
   "cell_type": "code",
   "execution_count": 6,
   "metadata": {},
   "outputs": [
    {
     "name": "stdout",
     "output_type": "stream",
     "text": [
      "<class 'pandas.core.frame.DataFrame'>\n",
      "RangeIndex: 378661 entries, 0 to 378660\n",
      "Data columns (total 15 columns):\n",
      "ID                  378661 non-null int64\n",
      "name                378657 non-null object\n",
      "category            378661 non-null object\n",
      "main_category       378661 non-null object\n",
      "currency            378661 non-null object\n",
      "deadline            378661 non-null object\n",
      "goal                378661 non-null float64\n",
      "launched            378661 non-null object\n",
      "pledged             378661 non-null float64\n",
      "state               378661 non-null object\n",
      "backers             378661 non-null int64\n",
      "country             378661 non-null object\n",
      "usd pledged         374864 non-null float64\n",
      "usd_pledged_real    378661 non-null float64\n",
      "usd_goal_real       378661 non-null float64\n",
      "dtypes: float64(5), int64(2), object(8)\n",
      "memory usage: 43.3+ MB\n"
     ]
    }
   ],
   "source": [
    "starts.info()"
   ]
  },
  {
   "cell_type": "code",
   "execution_count": 8,
   "metadata": {},
   "outputs": [
    {
     "data": {
      "text/html": [
       "<div>\n",
       "<style scoped>\n",
       "    .dataframe tbody tr th:only-of-type {\n",
       "        vertical-align: middle;\n",
       "    }\n",
       "\n",
       "    .dataframe tbody tr th {\n",
       "        vertical-align: top;\n",
       "    }\n",
       "\n",
       "    .dataframe thead th {\n",
       "        text-align: right;\n",
       "    }\n",
       "</style>\n",
       "<table border=\"1\" class=\"dataframe\">\n",
       "  <thead>\n",
       "    <tr style=\"text-align: right;\">\n",
       "      <th></th>\n",
       "      <th>count</th>\n",
       "      <th>mean</th>\n",
       "      <th>std</th>\n",
       "      <th>min</th>\n",
       "      <th>25%</th>\n",
       "      <th>50%</th>\n",
       "      <th>75%</th>\n",
       "      <th>max</th>\n",
       "    </tr>\n",
       "  </thead>\n",
       "  <tbody>\n",
       "    <tr>\n",
       "      <td>ID</td>\n",
       "      <td>378661.000</td>\n",
       "      <td>1074731191.989</td>\n",
       "      <td>619086204.323</td>\n",
       "      <td>5971.000</td>\n",
       "      <td>538263516.000</td>\n",
       "      <td>1075275634.000</td>\n",
       "      <td>1610148624.000</td>\n",
       "      <td>2147476221.000</td>\n",
       "    </tr>\n",
       "    <tr>\n",
       "      <td>goal</td>\n",
       "      <td>378661.000</td>\n",
       "      <td>49080.792</td>\n",
       "      <td>1183391.259</td>\n",
       "      <td>0.010</td>\n",
       "      <td>2000.000</td>\n",
       "      <td>5200.000</td>\n",
       "      <td>16000.000</td>\n",
       "      <td>100000000.000</td>\n",
       "    </tr>\n",
       "    <tr>\n",
       "      <td>pledged</td>\n",
       "      <td>378661.000</td>\n",
       "      <td>9682.979</td>\n",
       "      <td>95636.010</td>\n",
       "      <td>0.000</td>\n",
       "      <td>30.000</td>\n",
       "      <td>620.000</td>\n",
       "      <td>4076.000</td>\n",
       "      <td>20338986.270</td>\n",
       "    </tr>\n",
       "    <tr>\n",
       "      <td>backers</td>\n",
       "      <td>378661.000</td>\n",
       "      <td>105.617</td>\n",
       "      <td>907.185</td>\n",
       "      <td>0.000</td>\n",
       "      <td>2.000</td>\n",
       "      <td>12.000</td>\n",
       "      <td>56.000</td>\n",
       "      <td>219382.000</td>\n",
       "    </tr>\n",
       "    <tr>\n",
       "      <td>usd pledged</td>\n",
       "      <td>374864.000</td>\n",
       "      <td>7036.729</td>\n",
       "      <td>78639.745</td>\n",
       "      <td>0.000</td>\n",
       "      <td>16.980</td>\n",
       "      <td>394.720</td>\n",
       "      <td>3034.090</td>\n",
       "      <td>20338986.270</td>\n",
       "    </tr>\n",
       "    <tr>\n",
       "      <td>usd_pledged_real</td>\n",
       "      <td>378661.000</td>\n",
       "      <td>9058.924</td>\n",
       "      <td>90973.343</td>\n",
       "      <td>0.000</td>\n",
       "      <td>31.000</td>\n",
       "      <td>624.330</td>\n",
       "      <td>4050.000</td>\n",
       "      <td>20338986.270</td>\n",
       "    </tr>\n",
       "    <tr>\n",
       "      <td>usd_goal_real</td>\n",
       "      <td>378661.000</td>\n",
       "      <td>45454.401</td>\n",
       "      <td>1152950.055</td>\n",
       "      <td>0.010</td>\n",
       "      <td>2000.000</td>\n",
       "      <td>5500.000</td>\n",
       "      <td>15500.000</td>\n",
       "      <td>166361390.710</td>\n",
       "    </tr>\n",
       "  </tbody>\n",
       "</table>\n",
       "</div>"
      ],
      "text/plain": [
       "                      count           mean           std      min  \\\n",
       "ID               378661.000 1074731191.989 619086204.323 5971.000   \n",
       "goal             378661.000      49080.792   1183391.259    0.010   \n",
       "pledged          378661.000       9682.979     95636.010    0.000   \n",
       "backers          378661.000        105.617       907.185    0.000   \n",
       "usd pledged      374864.000       7036.729     78639.745    0.000   \n",
       "usd_pledged_real 378661.000       9058.924     90973.343    0.000   \n",
       "usd_goal_real    378661.000      45454.401   1152950.055    0.010   \n",
       "\n",
       "                           25%            50%            75%            max  \n",
       "ID               538263516.000 1075275634.000 1610148624.000 2147476221.000  \n",
       "goal                  2000.000       5200.000      16000.000  100000000.000  \n",
       "pledged                 30.000        620.000       4076.000   20338986.270  \n",
       "backers                  2.000         12.000         56.000     219382.000  \n",
       "usd pledged             16.980        394.720       3034.090   20338986.270  \n",
       "usd_pledged_real        31.000        624.330       4050.000   20338986.270  \n",
       "usd_goal_real         2000.000       5500.000      15500.000  166361390.710  "
      ]
     },
     "execution_count": 8,
     "metadata": {},
     "output_type": "execute_result"
    }
   ],
   "source": [
    "starts.describe().T"
   ]
  },
  {
   "cell_type": "code",
   "execution_count": 9,
   "metadata": {},
   "outputs": [
    {
     "data": {
      "text/plain": [
       "array([  1000.,  30000.,  45000., ..., 186037.,  33975.,  28559.])"
      ]
     },
     "execution_count": 9,
     "metadata": {},
     "output_type": "execute_result"
    }
   ],
   "source": [
    "starts['goal'].unique()"
   ]
  },
  {
   "cell_type": "code",
   "execution_count": 10,
   "metadata": {},
   "outputs": [
    {
     "data": {
      "text/plain": [
       "array([   0.  ,  100.  ,  220.  , ..., 1732.02, 5019.92, 2698.97])"
      ]
     },
     "execution_count": 10,
     "metadata": {},
     "output_type": "execute_result"
    }
   ],
   "source": [
    "starts['usd pledged'].unique()"
   ]
  },
  {
   "cell_type": "markdown",
   "metadata": {},
   "source": [
    "## Filling Missing Values "
   ]
  },
  {
   "cell_type": "code",
   "execution_count": 11,
   "metadata": {},
   "outputs": [],
   "source": [
    "starts['usd pledged'].fillna(starts['usd_pledged_real'], inplace=True)"
   ]
  },
  {
   "cell_type": "code",
   "execution_count": 12,
   "metadata": {},
   "outputs": [
    {
     "data": {
      "text/plain": [
       "ID                 0.000\n",
       "name               0.001\n",
       "category           0.000\n",
       "main_category      0.000\n",
       "currency           0.000\n",
       "deadline           0.000\n",
       "goal               0.000\n",
       "launched           0.000\n",
       "pledged            0.000\n",
       "state              0.000\n",
       "backers            0.000\n",
       "country            0.000\n",
       "usd pledged        0.000\n",
       "usd_pledged_real   0.000\n",
       "usd_goal_real      0.000\n",
       "dtype: float64"
      ]
     },
     "execution_count": 12,
     "metadata": {},
     "output_type": "execute_result"
    }
   ],
   "source": [
    "starts.isnull().sum()*100/starts.shape[0]"
   ]
  },
  {
   "cell_type": "code",
   "execution_count": 66,
   "metadata": {},
   "outputs": [
    {
     "data": {
      "text/plain": [
       "Int64Index([166851, 307234, 309991, 338931], dtype='int64')"
      ]
     },
     "execution_count": 66,
     "metadata": {},
     "output_type": "execute_result"
    }
   ],
   "source": [
    "# Check missing values in the column \"name\"\n",
    "starts[pd.isnull(starts['name'])].index"
   ]
  },
  {
   "cell_type": "code",
   "execution_count": 67,
   "metadata": {},
   "outputs": [
    {
     "data": {
      "text/html": [
       "<div>\n",
       "<style scoped>\n",
       "    .dataframe tbody tr th:only-of-type {\n",
       "        vertical-align: middle;\n",
       "    }\n",
       "\n",
       "    .dataframe tbody tr th {\n",
       "        vertical-align: top;\n",
       "    }\n",
       "\n",
       "    .dataframe thead th {\n",
       "        text-align: right;\n",
       "    }\n",
       "</style>\n",
       "<table border=\"1\" class=\"dataframe\">\n",
       "  <thead>\n",
       "    <tr style=\"text-align: right;\">\n",
       "      <th></th>\n",
       "      <th>ID</th>\n",
       "      <th>name</th>\n",
       "      <th>category</th>\n",
       "      <th>main_category</th>\n",
       "      <th>currency</th>\n",
       "      <th>deadline</th>\n",
       "      <th>goal</th>\n",
       "      <th>launched</th>\n",
       "      <th>pledged</th>\n",
       "      <th>state</th>\n",
       "      <th>backers</th>\n",
       "      <th>country</th>\n",
       "      <th>usd pledged</th>\n",
       "      <th>usd_pledged_real</th>\n",
       "      <th>usd_goal_real</th>\n",
       "    </tr>\n",
       "  </thead>\n",
       "  <tbody>\n",
       "    <tr>\n",
       "      <td>307234</td>\n",
       "      <td>634871725</td>\n",
       "      <td>NaN</td>\n",
       "      <td>Video Games</td>\n",
       "      <td>Games</td>\n",
       "      <td>GBP</td>\n",
       "      <td>2013-01-06</td>\n",
       "      <td>2000.000</td>\n",
       "      <td>2012-12-19 23:57:48</td>\n",
       "      <td>196.000</td>\n",
       "      <td>failed</td>\n",
       "      <td>12</td>\n",
       "      <td>GB</td>\n",
       "      <td>317.730</td>\n",
       "      <td>316.050</td>\n",
       "      <td>3224.970</td>\n",
       "    </tr>\n",
       "  </tbody>\n",
       "</table>\n",
       "</div>"
      ],
      "text/plain": [
       "               ID name     category main_category currency    deadline  \\\n",
       "307234  634871725  NaN  Video Games         Games      GBP  2013-01-06   \n",
       "\n",
       "           goal             launched  pledged   state  backers country  \\\n",
       "307234 2000.000  2012-12-19 23:57:48  196.000  failed       12      GB   \n",
       "\n",
       "        usd pledged  usd_pledged_real  usd_goal_real  \n",
       "307234      317.730           316.050       3224.970  "
      ]
     },
     "execution_count": 67,
     "metadata": {},
     "output_type": "execute_result"
    }
   ],
   "source": [
    "starts[starts.index == 166851]\n",
    "starts[starts.index == 307234]"
   ]
  },
  {
   "cell_type": "code",
   "execution_count": 68,
   "metadata": {},
   "outputs": [
    {
     "data": {
      "text/plain": [
       "array(['The Songs of Adelaide & Abullah',\n",
       "       'Greeting From Earth: ZGAC Arts Capsule For ET', 'Where is Hank?',\n",
       "       ...,\n",
       "       'Walls of Remedy- New lesbian Romantic Comedy feature unlike any other!!',\n",
       "       'BioDefense Education Kit', 'Nou Renmen Ayiti!  We Love Haiti!'],\n",
       "      dtype=object)"
      ]
     },
     "execution_count": 68,
     "metadata": {},
     "output_type": "execute_result"
    }
   ],
   "source": [
    "starts['name'].unique()"
   ]
  },
  {
   "cell_type": "code",
   "execution_count": 69,
   "metadata": {},
   "outputs": [
    {
     "data": {
      "text/plain": [
       "(378661, 15)"
      ]
     },
     "execution_count": 69,
     "metadata": {},
     "output_type": "execute_result"
    }
   ],
   "source": [
    "starts.shape"
   ]
  },
  {
   "cell_type": "code",
   "execution_count": 14,
   "metadata": {},
   "outputs": [],
   "source": [
    "# we have a lot data so we can delete mising value of name feature but we fill with 'unknown'\n",
    "starts['name'].fillna('unknown',inplace=True)"
   ]
  },
  {
   "cell_type": "code",
   "execution_count": 15,
   "metadata": {},
   "outputs": [
    {
     "data": {
      "text/plain": [
       "ID                 0.000\n",
       "name               0.000\n",
       "category           0.000\n",
       "main_category      0.000\n",
       "currency           0.000\n",
       "deadline           0.000\n",
       "goal               0.000\n",
       "launched           0.000\n",
       "pledged            0.000\n",
       "state              0.000\n",
       "backers            0.000\n",
       "country            0.000\n",
       "usd pledged        0.000\n",
       "usd_pledged_real   0.000\n",
       "usd_goal_real      0.000\n",
       "dtype: float64"
      ]
     },
     "execution_count": 15,
     "metadata": {},
     "output_type": "execute_result"
    }
   ],
   "source": [
    "starts.isnull().sum()*100/starts.shape[0] # our data has correct values and no missing values."
   ]
  },
  {
   "cell_type": "code",
   "execution_count": 16,
   "metadata": {},
   "outputs": [
    {
     "data": {
      "text/html": [
       "<div>\n",
       "<style scoped>\n",
       "    .dataframe tbody tr th:only-of-type {\n",
       "        vertical-align: middle;\n",
       "    }\n",
       "\n",
       "    .dataframe tbody tr th {\n",
       "        vertical-align: top;\n",
       "    }\n",
       "\n",
       "    .dataframe thead th {\n",
       "        text-align: right;\n",
       "    }\n",
       "</style>\n",
       "<table border=\"1\" class=\"dataframe\">\n",
       "  <thead>\n",
       "    <tr style=\"text-align: right;\">\n",
       "      <th></th>\n",
       "      <th>ID</th>\n",
       "      <th>name</th>\n",
       "      <th>category</th>\n",
       "      <th>main_category</th>\n",
       "      <th>currency</th>\n",
       "      <th>deadline</th>\n",
       "      <th>goal</th>\n",
       "      <th>launched</th>\n",
       "      <th>pledged</th>\n",
       "      <th>state</th>\n",
       "      <th>backers</th>\n",
       "      <th>country</th>\n",
       "      <th>usd pledged</th>\n",
       "      <th>usd_pledged_real</th>\n",
       "      <th>usd_goal_real</th>\n",
       "    </tr>\n",
       "  </thead>\n",
       "  <tbody>\n",
       "    <tr>\n",
       "      <td>0</td>\n",
       "      <td>1000002330</td>\n",
       "      <td>The Songs of Adelaide &amp; Abullah</td>\n",
       "      <td>Poetry</td>\n",
       "      <td>Publishing</td>\n",
       "      <td>GBP</td>\n",
       "      <td>2015-10-09</td>\n",
       "      <td>1000.000</td>\n",
       "      <td>2015-08-11 12:12:28</td>\n",
       "      <td>0.000</td>\n",
       "      <td>failed</td>\n",
       "      <td>0</td>\n",
       "      <td>GB</td>\n",
       "      <td>0.000</td>\n",
       "      <td>0.000</td>\n",
       "      <td>1533.950</td>\n",
       "    </tr>\n",
       "    <tr>\n",
       "      <td>1</td>\n",
       "      <td>1000003930</td>\n",
       "      <td>Greeting From Earth: ZGAC Arts Capsule For ET</td>\n",
       "      <td>Narrative Film</td>\n",
       "      <td>Film &amp; Video</td>\n",
       "      <td>USD</td>\n",
       "      <td>2017-11-01</td>\n",
       "      <td>30000.000</td>\n",
       "      <td>2017-09-02 04:43:57</td>\n",
       "      <td>2421.000</td>\n",
       "      <td>failed</td>\n",
       "      <td>15</td>\n",
       "      <td>US</td>\n",
       "      <td>100.000</td>\n",
       "      <td>2421.000</td>\n",
       "      <td>30000.000</td>\n",
       "    </tr>\n",
       "    <tr>\n",
       "      <td>2</td>\n",
       "      <td>1000004038</td>\n",
       "      <td>Where is Hank?</td>\n",
       "      <td>Narrative Film</td>\n",
       "      <td>Film &amp; Video</td>\n",
       "      <td>USD</td>\n",
       "      <td>2013-02-26</td>\n",
       "      <td>45000.000</td>\n",
       "      <td>2013-01-12 00:20:50</td>\n",
       "      <td>220.000</td>\n",
       "      <td>failed</td>\n",
       "      <td>3</td>\n",
       "      <td>US</td>\n",
       "      <td>220.000</td>\n",
       "      <td>220.000</td>\n",
       "      <td>45000.000</td>\n",
       "    </tr>\n",
       "    <tr>\n",
       "      <td>3</td>\n",
       "      <td>1000007540</td>\n",
       "      <td>ToshiCapital Rekordz Needs Help to Complete Album</td>\n",
       "      <td>Music</td>\n",
       "      <td>Music</td>\n",
       "      <td>USD</td>\n",
       "      <td>2012-04-16</td>\n",
       "      <td>5000.000</td>\n",
       "      <td>2012-03-17 03:24:11</td>\n",
       "      <td>1.000</td>\n",
       "      <td>failed</td>\n",
       "      <td>1</td>\n",
       "      <td>US</td>\n",
       "      <td>1.000</td>\n",
       "      <td>1.000</td>\n",
       "      <td>5000.000</td>\n",
       "    </tr>\n",
       "    <tr>\n",
       "      <td>4</td>\n",
       "      <td>1000011046</td>\n",
       "      <td>Community Film Project: The Art of Neighborhoo...</td>\n",
       "      <td>Film &amp; Video</td>\n",
       "      <td>Film &amp; Video</td>\n",
       "      <td>USD</td>\n",
       "      <td>2015-08-29</td>\n",
       "      <td>19500.000</td>\n",
       "      <td>2015-07-04 08:35:03</td>\n",
       "      <td>1283.000</td>\n",
       "      <td>canceled</td>\n",
       "      <td>14</td>\n",
       "      <td>US</td>\n",
       "      <td>1283.000</td>\n",
       "      <td>1283.000</td>\n",
       "      <td>19500.000</td>\n",
       "    </tr>\n",
       "  </tbody>\n",
       "</table>\n",
       "</div>"
      ],
      "text/plain": [
       "           ID                                               name  \\\n",
       "0  1000002330                    The Songs of Adelaide & Abullah   \n",
       "1  1000003930      Greeting From Earth: ZGAC Arts Capsule For ET   \n",
       "2  1000004038                                     Where is Hank?   \n",
       "3  1000007540  ToshiCapital Rekordz Needs Help to Complete Album   \n",
       "4  1000011046  Community Film Project: The Art of Neighborhoo...   \n",
       "\n",
       "         category main_category currency    deadline      goal  \\\n",
       "0          Poetry    Publishing      GBP  2015-10-09  1000.000   \n",
       "1  Narrative Film  Film & Video      USD  2017-11-01 30000.000   \n",
       "2  Narrative Film  Film & Video      USD  2013-02-26 45000.000   \n",
       "3           Music         Music      USD  2012-04-16  5000.000   \n",
       "4    Film & Video  Film & Video      USD  2015-08-29 19500.000   \n",
       "\n",
       "              launched  pledged     state  backers country  usd pledged  \\\n",
       "0  2015-08-11 12:12:28    0.000    failed        0      GB        0.000   \n",
       "1  2017-09-02 04:43:57 2421.000    failed       15      US      100.000   \n",
       "2  2013-01-12 00:20:50  220.000    failed        3      US      220.000   \n",
       "3  2012-03-17 03:24:11    1.000    failed        1      US        1.000   \n",
       "4  2015-07-04 08:35:03 1283.000  canceled       14      US     1283.000   \n",
       "\n",
       "   usd_pledged_real  usd_goal_real  \n",
       "0             0.000       1533.950  \n",
       "1          2421.000      30000.000  \n",
       "2           220.000      45000.000  \n",
       "3             1.000       5000.000  \n",
       "4          1283.000      19500.000  "
      ]
     },
     "execution_count": 16,
     "metadata": {},
     "output_type": "execute_result"
    }
   ],
   "source": [
    "starts.head()"
   ]
  },
  {
   "cell_type": "markdown",
   "metadata": {},
   "source": [
    "# Outlier values"
   ]
  },
  {
   "cell_type": "code",
   "execution_count": 17,
   "metadata": {},
   "outputs": [
    {
     "data": {
      "image/png": "[encoded data removed]",
      "text/plain": [
       "<Figure size 2160x1080 with 12 Axes>"
      ]
     },
     "metadata": {
      "needs_background": "light"
     },
     "output_type": "display_data"
    }
   ],
   "source": [
    "plt.figure(figsize=(30,15))\n",
    "title_font = {'family': 'arial', 'color': 'darkred','weight': 'bold','size': 13 }\n",
    "curve_font  = {'family': 'arial', 'color': 'darkblue','weight': 'bold','size': 10 }\n",
    "\n",
    "variables = ['goal', 'pledged' , 'backers',\"usd pledged\",\"usd_pledged_real\",\"usd_goal_real\"]\n",
    "\n",
    "for i in range(6):\n",
    "    plt.subplot(2, 6, i+1)\n",
    "    plt.hist(starts[variables[i]])\n",
    "    plt.title(variables[i], fontdict=title_font)\n",
    "    \n",
    "for i in range(6):\n",
    "    plt.subplot(2, 6, i+7)\n",
    "    plt.hist(np.log(starts[variables[i]]+1))\n",
    "    plt.title(variables[i] + ' (logarithm expression)', fontdict=title_font)"
   ]
  },
  {
   "cell_type": "code",
   "execution_count": 18,
   "metadata": {},
   "outputs": [
    {
     "data": {
      "image/png": "[encoded data removed]",
      "text/plain": [
       "<Figure size 2160x1080 with 12 Axes>"
      ]
     },
     "metadata": {
      "needs_background": "light"
     },
     "output_type": "display_data"
    }
   ],
   "source": [
    "plt.figure(figsize=(30,15))\n",
    "title_font = {'family': 'arial', 'color': 'darkred','weight': 'bold','size': 13 }\n",
    "curve_font  = {'family': 'arial', 'color': 'darkblue','weight': 'bold','size': 10 }\n",
    "\n",
    "variables = ['goal', 'pledged' , 'backers',\"usd pledged\",\"usd_pledged_real\",\"usd_goal_real\"]\n",
    "\n",
    "for i in range(6):\n",
    "    plt.subplot(2, 6, i+1)\n",
    "    plt.boxplot(starts[variables[i]])\n",
    "    plt.title(variables[i], fontdict=title_font)\n",
    "    \n",
    "for i in range(6):\n",
    "    plt.subplot(2, 6, i+7)\n",
    "    plt.boxplot(np.log(starts[variables[i]]+1))\n",
    "    plt.title(variables[i] + ' (logarithm expression)', fontdict=title_font)"
   ]
  },
  {
   "cell_type": "markdown",
   "metadata": {},
   "source": [
    "We implement IQR MEthod because we will learning how much has data outliner values."
   ]
  },
  {
   "cell_type": "code",
   "execution_count": 19,
   "metadata": {},
   "outputs": [],
   "source": [
    "# IQR Method \n",
    "\n",
    "q75,q25= np.percentile(starts['goal'],[75,25])\n",
    "caa= q75-q25"
   ]
  },
  {
   "cell_type": "code",
   "execution_count": 20,
   "metadata": {},
   "outputs": [
    {
     "data": {
      "text/plain": [
       "[(1, 52172), (2, 41784), (3, 28166), (4, 23545)]"
      ]
     },
     "execution_count": 20,
     "metadata": {},
     "output_type": "execute_result"
    }
   ],
   "source": [
    "threshold_variables=[]\n",
    "for threshold_worth in np.arange(1,5):\n",
    "    min_worth=q25 - (caa*threshold_worth)\n",
    "    max_worth=q75 + (caa*threshold_worth)\n",
    "    \n",
    "    number_of_outliers=len((np.where((starts['goal']>max_worth) | (starts['goal']<min_worth))[0]))\n",
    "    threshold_variables.append((threshold_worth,number_of_outliers))\n",
    "threshold_variables"
   ]
  },
  {
   "cell_type": "code",
   "execution_count": 21,
   "metadata": {},
   "outputs": [
    {
     "name": "stdout",
     "output_type": "stream",
     "text": [
      "----------  goal ----------\n"
     ]
    },
    {
     "data": {
      "text/html": [
       "<div>\n",
       "<style scoped>\n",
       "    .dataframe tbody tr th:only-of-type {\n",
       "        vertical-align: middle;\n",
       "    }\n",
       "\n",
       "    .dataframe tbody tr th {\n",
       "        vertical-align: top;\n",
       "    }\n",
       "\n",
       "    .dataframe thead th {\n",
       "        text-align: right;\n",
       "    }\n",
       "</style>\n",
       "<table border=\"1\" class=\"dataframe\">\n",
       "  <thead>\n",
       "    <tr style=\"text-align: right;\">\n",
       "      <th></th>\n",
       "      <th>number_of_outliers</th>\n",
       "      <th>number_of_outliers_log</th>\n",
       "      <th>threshold_worth</th>\n",
       "    </tr>\n",
       "  </thead>\n",
       "  <tbody>\n",
       "    <tr>\n",
       "      <td>0</td>\n",
       "      <td>52172.000</td>\n",
       "      <td>22697.000</td>\n",
       "      <td>1.000</td>\n",
       "    </tr>\n",
       "    <tr>\n",
       "      <td>1</td>\n",
       "      <td>41784.000</td>\n",
       "      <td>3582.000</td>\n",
       "      <td>2.000</td>\n",
       "    </tr>\n",
       "    <tr>\n",
       "      <td>2</td>\n",
       "      <td>28166.000</td>\n",
       "      <td>700.000</td>\n",
       "      <td>3.000</td>\n",
       "    </tr>\n",
       "    <tr>\n",
       "      <td>3</td>\n",
       "      <td>23545.000</td>\n",
       "      <td>46.000</td>\n",
       "      <td>4.000</td>\n",
       "    </tr>\n",
       "  </tbody>\n",
       "</table>\n",
       "</div>"
      ],
      "text/plain": [
       "   number_of_outliers  number_of_outliers_log  threshold_worth\n",
       "0           52172.000               22697.000            1.000\n",
       "1           41784.000                3582.000            2.000\n",
       "2           28166.000                 700.000            3.000\n",
       "3           23545.000                  46.000            4.000"
      ]
     },
     "metadata": {},
     "output_type": "display_data"
    },
    {
     "name": "stdout",
     "output_type": "stream",
     "text": [
      "----------  pledged ----------\n"
     ]
    },
    {
     "data": {
      "text/html": [
       "<div>\n",
       "<style scoped>\n",
       "    .dataframe tbody tr th:only-of-type {\n",
       "        vertical-align: middle;\n",
       "    }\n",
       "\n",
       "    .dataframe tbody tr th {\n",
       "        vertical-align: top;\n",
       "    }\n",
       "\n",
       "    .dataframe thead th {\n",
       "        text-align: right;\n",
       "    }\n",
       "</style>\n",
       "<table border=\"1\" class=\"dataframe\">\n",
       "  <thead>\n",
       "    <tr style=\"text-align: right;\">\n",
       "      <th></th>\n",
       "      <th>number_of_outliers</th>\n",
       "      <th>number_of_outliers_log</th>\n",
       "      <th>threshold_worth</th>\n",
       "    </tr>\n",
       "  </thead>\n",
       "  <tbody>\n",
       "    <tr>\n",
       "      <td>0</td>\n",
       "      <td>59490.000</td>\n",
       "      <td>53251.000</td>\n",
       "      <td>1.000</td>\n",
       "    </tr>\n",
       "    <tr>\n",
       "      <td>1</td>\n",
       "      <td>42702.000</td>\n",
       "      <td>52527.000</td>\n",
       "      <td>2.000</td>\n",
       "    </tr>\n",
       "    <tr>\n",
       "      <td>2</td>\n",
       "      <td>33112.000</td>\n",
       "      <td>52527.000</td>\n",
       "      <td>3.000</td>\n",
       "    </tr>\n",
       "    <tr>\n",
       "      <td>3</td>\n",
       "      <td>27613.000</td>\n",
       "      <td>52527.000</td>\n",
       "      <td>4.000</td>\n",
       "    </tr>\n",
       "  </tbody>\n",
       "</table>\n",
       "</div>"
      ],
      "text/plain": [
       "   number_of_outliers  number_of_outliers_log  threshold_worth\n",
       "0           59490.000               53251.000            1.000\n",
       "1           42702.000               52527.000            2.000\n",
       "2           33112.000               52527.000            3.000\n",
       "3           27613.000               52527.000            4.000"
      ]
     },
     "metadata": {},
     "output_type": "display_data"
    },
    {
     "name": "stdout",
     "output_type": "stream",
     "text": [
      "----------  backers ----------\n"
     ]
    },
    {
     "data": {
      "text/html": [
       "<div>\n",
       "<style scoped>\n",
       "    .dataframe tbody tr th:only-of-type {\n",
       "        vertical-align: middle;\n",
       "    }\n",
       "\n",
       "    .dataframe tbody tr th {\n",
       "        vertical-align: top;\n",
       "    }\n",
       "\n",
       "    .dataframe thead th {\n",
       "        text-align: right;\n",
       "    }\n",
       "</style>\n",
       "<table border=\"1\" class=\"dataframe\">\n",
       "  <thead>\n",
       "    <tr style=\"text-align: right;\">\n",
       "      <th></th>\n",
       "      <th>number_of_outliers</th>\n",
       "      <th>number_of_outliers_log</th>\n",
       "      <th>threshold_worth</th>\n",
       "    </tr>\n",
       "  </thead>\n",
       "  <tbody>\n",
       "    <tr>\n",
       "      <td>0</td>\n",
       "      <td>55141.000</td>\n",
       "      <td>59197.000</td>\n",
       "      <td>1.000</td>\n",
       "    </tr>\n",
       "    <tr>\n",
       "      <td>1</td>\n",
       "      <td>38255.000</td>\n",
       "      <td>55633.000</td>\n",
       "      <td>2.000</td>\n",
       "    </tr>\n",
       "    <tr>\n",
       "      <td>2</td>\n",
       "      <td>29013.000</td>\n",
       "      <td>55609.000</td>\n",
       "      <td>3.000</td>\n",
       "    </tr>\n",
       "    <tr>\n",
       "      <td>3</td>\n",
       "      <td>23258.000</td>\n",
       "      <td>55609.000</td>\n",
       "      <td>4.000</td>\n",
       "    </tr>\n",
       "  </tbody>\n",
       "</table>\n",
       "</div>"
      ],
      "text/plain": [
       "   number_of_outliers  number_of_outliers_log  threshold_worth\n",
       "0           55141.000               59197.000            1.000\n",
       "1           38255.000               55633.000            2.000\n",
       "2           29013.000               55609.000            3.000\n",
       "3           23258.000               55609.000            4.000"
      ]
     },
     "metadata": {},
     "output_type": "display_data"
    },
    {
     "name": "stdout",
     "output_type": "stream",
     "text": [
      "----------  usd pledged ----------\n"
     ]
    },
    {
     "data": {
      "text/html": [
       "<div>\n",
       "<style scoped>\n",
       "    .dataframe tbody tr th:only-of-type {\n",
       "        vertical-align: middle;\n",
       "    }\n",
       "\n",
       "    .dataframe tbody tr th {\n",
       "        vertical-align: top;\n",
       "    }\n",
       "\n",
       "    .dataframe thead th {\n",
       "        text-align: right;\n",
       "    }\n",
       "</style>\n",
       "<table border=\"1\" class=\"dataframe\">\n",
       "  <thead>\n",
       "    <tr style=\"text-align: right;\">\n",
       "      <th></th>\n",
       "      <th>number_of_outliers</th>\n",
       "      <th>number_of_outliers_log</th>\n",
       "      <th>threshold_worth</th>\n",
       "    </tr>\n",
       "  </thead>\n",
       "  <tbody>\n",
       "    <tr>\n",
       "      <td>0</td>\n",
       "      <td>59985.000</td>\n",
       "      <td>69256.000</td>\n",
       "      <td>1.000</td>\n",
       "    </tr>\n",
       "    <tr>\n",
       "      <td>1</td>\n",
       "      <td>44337.000</td>\n",
       "      <td>68830.000</td>\n",
       "      <td>2.000</td>\n",
       "    </tr>\n",
       "    <tr>\n",
       "      <td>2</td>\n",
       "      <td>33973.000</td>\n",
       "      <td>68830.000</td>\n",
       "      <td>3.000</td>\n",
       "    </tr>\n",
       "    <tr>\n",
       "      <td>3</td>\n",
       "      <td>27991.000</td>\n",
       "      <td>68830.000</td>\n",
       "      <td>4.000</td>\n",
       "    </tr>\n",
       "  </tbody>\n",
       "</table>\n",
       "</div>"
      ],
      "text/plain": [
       "   number_of_outliers  number_of_outliers_log  threshold_worth\n",
       "0           59985.000               69256.000            1.000\n",
       "1           44337.000               68830.000            2.000\n",
       "2           33973.000               68830.000            3.000\n",
       "3           27991.000               68830.000            4.000"
      ]
     },
     "metadata": {},
     "output_type": "display_data"
    },
    {
     "name": "stdout",
     "output_type": "stream",
     "text": [
      "----------  usd_pledged_real ----------\n"
     ]
    },
    {
     "data": {
      "text/html": [
       "<div>\n",
       "<style scoped>\n",
       "    .dataframe tbody tr th:only-of-type {\n",
       "        vertical-align: middle;\n",
       "    }\n",
       "\n",
       "    .dataframe tbody tr th {\n",
       "        vertical-align: top;\n",
       "    }\n",
       "\n",
       "    .dataframe thead th {\n",
       "        text-align: right;\n",
       "    }\n",
       "</style>\n",
       "<table border=\"1\" class=\"dataframe\">\n",
       "  <thead>\n",
       "    <tr style=\"text-align: right;\">\n",
       "      <th></th>\n",
       "      <th>number_of_outliers</th>\n",
       "      <th>number_of_outliers_log</th>\n",
       "      <th>threshold_worth</th>\n",
       "    </tr>\n",
       "  </thead>\n",
       "  <tbody>\n",
       "    <tr>\n",
       "      <td>0</td>\n",
       "      <td>59139.000</td>\n",
       "      <td>53190.000</td>\n",
       "      <td>1.000</td>\n",
       "    </tr>\n",
       "    <tr>\n",
       "      <td>1</td>\n",
       "      <td>42158.000</td>\n",
       "      <td>52527.000</td>\n",
       "      <td>2.000</td>\n",
       "    </tr>\n",
       "    <tr>\n",
       "      <td>2</td>\n",
       "      <td>32535.000</td>\n",
       "      <td>52527.000</td>\n",
       "      <td>3.000</td>\n",
       "    </tr>\n",
       "    <tr>\n",
       "      <td>3</td>\n",
       "      <td>26846.000</td>\n",
       "      <td>52527.000</td>\n",
       "      <td>4.000</td>\n",
       "    </tr>\n",
       "  </tbody>\n",
       "</table>\n",
       "</div>"
      ],
      "text/plain": [
       "   number_of_outliers  number_of_outliers_log  threshold_worth\n",
       "0           59139.000               53190.000            1.000\n",
       "1           42158.000               52527.000            2.000\n",
       "2           32535.000               52527.000            3.000\n",
       "3           26846.000               52527.000            4.000"
      ]
     },
     "metadata": {},
     "output_type": "display_data"
    },
    {
     "name": "stdout",
     "output_type": "stream",
     "text": [
      "----------  usd_goal_real ----------\n"
     ]
    },
    {
     "data": {
      "text/html": [
       "<div>\n",
       "<style scoped>\n",
       "    .dataframe tbody tr th:only-of-type {\n",
       "        vertical-align: middle;\n",
       "    }\n",
       "\n",
       "    .dataframe tbody tr th {\n",
       "        vertical-align: top;\n",
       "    }\n",
       "\n",
       "    .dataframe thead th {\n",
       "        text-align: right;\n",
       "    }\n",
       "</style>\n",
       "<table border=\"1\" class=\"dataframe\">\n",
       "  <thead>\n",
       "    <tr style=\"text-align: right;\">\n",
       "      <th></th>\n",
       "      <th>number_of_outliers</th>\n",
       "      <th>number_of_outliers_log</th>\n",
       "      <th>threshold_worth</th>\n",
       "    </tr>\n",
       "  </thead>\n",
       "  <tbody>\n",
       "    <tr>\n",
       "      <td>0</td>\n",
       "      <td>57848.000</td>\n",
       "      <td>23703.000</td>\n",
       "      <td>1.000</td>\n",
       "    </tr>\n",
       "    <tr>\n",
       "      <td>1</td>\n",
       "      <td>39758.000</td>\n",
       "      <td>3842.000</td>\n",
       "      <td>2.000</td>\n",
       "    </tr>\n",
       "    <tr>\n",
       "      <td>2</td>\n",
       "      <td>26943.000</td>\n",
       "      <td>724.000</td>\n",
       "      <td>3.000</td>\n",
       "    </tr>\n",
       "    <tr>\n",
       "      <td>3</td>\n",
       "      <td>22752.000</td>\n",
       "      <td>47.000</td>\n",
       "      <td>4.000</td>\n",
       "    </tr>\n",
       "  </tbody>\n",
       "</table>\n",
       "</div>"
      ],
      "text/plain": [
       "   number_of_outliers  number_of_outliers_log  threshold_worth\n",
       "0           57848.000               23703.000            1.000\n",
       "1           39758.000                3842.000            2.000\n",
       "2           26943.000                 724.000            3.000\n",
       "3           22752.000                  47.000            4.000"
      ]
     },
     "metadata": {},
     "output_type": "display_data"
    }
   ],
   "source": [
    "log_threshold_variables= pd.DataFrame()\n",
    "variables = ['goal', 'pledged' , 'backers',\"usd pledged\",\"usd_pledged_real\",\"usd_goal_real\"]\n",
    "for j in variables:\n",
    "    for threshold_worth in np.arange(1,5,1):\n",
    "        q75_log, q25_log = np.percentile(np.log(starts[j]), [75 ,25])\n",
    "        caa_log = q75_log - q25_log\n",
    "        q75, q25 = np.percentile(starts[j], [75 ,25])\n",
    "        caa= q75 - q25\n",
    "        min_worth_log = q25_log - (caa_log*threshold_worth) \n",
    "        max_worth_log = q75_log + (caa_log*threshold_worth)\n",
    "        min_worth= q25 - (caa*threshold_worth) #logarithm expression\n",
    "        max_worth = q75 + (caa*threshold_worth) #logarithm expression\n",
    "        number_of_outliers_log = len((np.where((np.log(starts[j]) > max_worth_log)| \n",
    "                                               (np.log(starts[j]) < min_worth_log))[0]))\n",
    "        number_of_outliers = len((np.where((starts[j] > max_worth)| \n",
    "                                               (starts[j] < min_worth))[0]))\n",
    "        log_threshold_variables = log_threshold_variables.append({'threshold_worth': threshold_worth,\n",
    "                                                            'number_of_outliers' : number_of_outliers, #logarithm expression\n",
    "                                                            'number_of_outliers_log': number_of_outliers_log \n",
    "                                                            }, ignore_index=True)\n",
    "    print(\"-\"*10,\"\",j,\"-\"*10)\n",
    "    display(log_threshold_variables)\n",
    "    log_threshold_variables = pd.DataFrame()"
   ]
  },
  {
   "cell_type": "markdown",
   "metadata": {},
   "source": [
    "We control the standard deviation distance that it will give to the column recognition, we will find out how much we need to keep our threshold high."
   ]
  },
  {
   "cell_type": "code",
   "execution_count": 22,
   "metadata": {},
   "outputs": [
    {
     "data": {
      "image/png": "[encoded data removed]",
      "text/plain": [
       "<Figure size 432x288 with 1 Axes>"
      ]
     },
     "metadata": {
      "needs_background": "light"
     },
     "output_type": "display_data"
    }
   ],
   "source": [
    "plt.boxplot(np.log(starts['goal']),whis=4)\n",
    "plt.show()"
   ]
  },
  {
   "cell_type": "code",
   "execution_count": 79,
   "metadata": {},
   "outputs": [],
   "source": [
    "# starts['success_pleged_ration']= (starts['pledged']*100)/starts['goal']"
   ]
  },
  {
   "cell_type": "code",
   "execution_count": 23,
   "metadata": {},
   "outputs": [
    {
     "data": {
      "text/html": [
       "<div>\n",
       "<style scoped>\n",
       "    .dataframe tbody tr th:only-of-type {\n",
       "        vertical-align: middle;\n",
       "    }\n",
       "\n",
       "    .dataframe tbody tr th {\n",
       "        vertical-align: top;\n",
       "    }\n",
       "\n",
       "    .dataframe thead th {\n",
       "        text-align: right;\n",
       "    }\n",
       "</style>\n",
       "<table border=\"1\" class=\"dataframe\">\n",
       "  <thead>\n",
       "    <tr style=\"text-align: right;\">\n",
       "      <th></th>\n",
       "      <th>ID</th>\n",
       "      <th>name</th>\n",
       "      <th>category</th>\n",
       "      <th>main_category</th>\n",
       "      <th>currency</th>\n",
       "      <th>deadline</th>\n",
       "      <th>goal</th>\n",
       "      <th>launched</th>\n",
       "      <th>pledged</th>\n",
       "      <th>state</th>\n",
       "      <th>backers</th>\n",
       "      <th>country</th>\n",
       "      <th>usd pledged</th>\n",
       "      <th>usd_pledged_real</th>\n",
       "      <th>usd_goal_real</th>\n",
       "    </tr>\n",
       "  </thead>\n",
       "  <tbody>\n",
       "    <tr>\n",
       "      <td>0</td>\n",
       "      <td>1000002330</td>\n",
       "      <td>The Songs of Adelaide &amp; Abullah</td>\n",
       "      <td>Poetry</td>\n",
       "      <td>Publishing</td>\n",
       "      <td>GBP</td>\n",
       "      <td>2015-10-09</td>\n",
       "      <td>1000.000</td>\n",
       "      <td>2015-08-11 12:12:28</td>\n",
       "      <td>0.000</td>\n",
       "      <td>failed</td>\n",
       "      <td>0</td>\n",
       "      <td>GB</td>\n",
       "      <td>0.000</td>\n",
       "      <td>0.000</td>\n",
       "      <td>1533.950</td>\n",
       "    </tr>\n",
       "    <tr>\n",
       "      <td>1</td>\n",
       "      <td>1000003930</td>\n",
       "      <td>Greeting From Earth: ZGAC Arts Capsule For ET</td>\n",
       "      <td>Narrative Film</td>\n",
       "      <td>Film &amp; Video</td>\n",
       "      <td>USD</td>\n",
       "      <td>2017-11-01</td>\n",
       "      <td>30000.000</td>\n",
       "      <td>2017-09-02 04:43:57</td>\n",
       "      <td>2421.000</td>\n",
       "      <td>failed</td>\n",
       "      <td>15</td>\n",
       "      <td>US</td>\n",
       "      <td>100.000</td>\n",
       "      <td>2421.000</td>\n",
       "      <td>30000.000</td>\n",
       "    </tr>\n",
       "    <tr>\n",
       "      <td>2</td>\n",
       "      <td>1000004038</td>\n",
       "      <td>Where is Hank?</td>\n",
       "      <td>Narrative Film</td>\n",
       "      <td>Film &amp; Video</td>\n",
       "      <td>USD</td>\n",
       "      <td>2013-02-26</td>\n",
       "      <td>45000.000</td>\n",
       "      <td>2013-01-12 00:20:50</td>\n",
       "      <td>220.000</td>\n",
       "      <td>failed</td>\n",
       "      <td>3</td>\n",
       "      <td>US</td>\n",
       "      <td>220.000</td>\n",
       "      <td>220.000</td>\n",
       "      <td>45000.000</td>\n",
       "    </tr>\n",
       "    <tr>\n",
       "      <td>3</td>\n",
       "      <td>1000007540</td>\n",
       "      <td>ToshiCapital Rekordz Needs Help to Complete Album</td>\n",
       "      <td>Music</td>\n",
       "      <td>Music</td>\n",
       "      <td>USD</td>\n",
       "      <td>2012-04-16</td>\n",
       "      <td>5000.000</td>\n",
       "      <td>2012-03-17 03:24:11</td>\n",
       "      <td>1.000</td>\n",
       "      <td>failed</td>\n",
       "      <td>1</td>\n",
       "      <td>US</td>\n",
       "      <td>1.000</td>\n",
       "      <td>1.000</td>\n",
       "      <td>5000.000</td>\n",
       "    </tr>\n",
       "    <tr>\n",
       "      <td>4</td>\n",
       "      <td>1000011046</td>\n",
       "      <td>Community Film Project: The Art of Neighborhoo...</td>\n",
       "      <td>Film &amp; Video</td>\n",
       "      <td>Film &amp; Video</td>\n",
       "      <td>USD</td>\n",
       "      <td>2015-08-29</td>\n",
       "      <td>19500.000</td>\n",
       "      <td>2015-07-04 08:35:03</td>\n",
       "      <td>1283.000</td>\n",
       "      <td>canceled</td>\n",
       "      <td>14</td>\n",
       "      <td>US</td>\n",
       "      <td>1283.000</td>\n",
       "      <td>1283.000</td>\n",
       "      <td>19500.000</td>\n",
       "    </tr>\n",
       "  </tbody>\n",
       "</table>\n",
       "</div>"
      ],
      "text/plain": [
       "           ID                                               name  \\\n",
       "0  1000002330                    The Songs of Adelaide & Abullah   \n",
       "1  1000003930      Greeting From Earth: ZGAC Arts Capsule For ET   \n",
       "2  1000004038                                     Where is Hank?   \n",
       "3  1000007540  ToshiCapital Rekordz Needs Help to Complete Album   \n",
       "4  1000011046  Community Film Project: The Art of Neighborhoo...   \n",
       "\n",
       "         category main_category currency    deadline      goal  \\\n",
       "0          Poetry    Publishing      GBP  2015-10-09  1000.000   \n",
       "1  Narrative Film  Film & Video      USD  2017-11-01 30000.000   \n",
       "2  Narrative Film  Film & Video      USD  2013-02-26 45000.000   \n",
       "3           Music         Music      USD  2012-04-16  5000.000   \n",
       "4    Film & Video  Film & Video      USD  2015-08-29 19500.000   \n",
       "\n",
       "              launched  pledged     state  backers country  usd pledged  \\\n",
       "0  2015-08-11 12:12:28    0.000    failed        0      GB        0.000   \n",
       "1  2017-09-02 04:43:57 2421.000    failed       15      US      100.000   \n",
       "2  2013-01-12 00:20:50  220.000    failed        3      US      220.000   \n",
       "3  2012-03-17 03:24:11    1.000    failed        1      US        1.000   \n",
       "4  2015-07-04 08:35:03 1283.000  canceled       14      US     1283.000   \n",
       "\n",
       "   usd_pledged_real  usd_goal_real  \n",
       "0             0.000       1533.950  \n",
       "1          2421.000      30000.000  \n",
       "2           220.000      45000.000  \n",
       "3             1.000       5000.000  \n",
       "4          1283.000      19500.000  "
      ]
     },
     "execution_count": 23,
     "metadata": {},
     "output_type": "execute_result"
    }
   ],
   "source": [
    "starts.head()"
   ]
  },
  {
   "cell_type": "markdown",
   "metadata": {},
   "source": [
    "### Summary\n",
    "- We have examined how distributions of continuous variables are. We are not dealing with 'backers' here, because having realistic values. This situaiton will make easier our job.\n",
    "- We observed that columns of logistic expressions that they close to normal distribution, but the despite of  logarithmic expression of 'goal', which is one of our target variables, it contains that too much number of outliner values.\n",
    "- We will apply winsorized to the logarithmic expression of the 'goal' variable.\n",
    "- and then we will create a new column that called 'succes_pledged_ration'."
   ]
  },
  {
   "cell_type": "code",
   "execution_count": 24,
   "metadata": {},
   "outputs": [],
   "source": [
    "starts_2= starts.copy()"
   ]
  },
  {
   "cell_type": "code",
   "execution_count": 25,
   "metadata": {},
   "outputs": [],
   "source": [
    "starts_2['goal']= np.log(starts_2['goal'])\n",
    "starts_2['pledged']= np.log(starts_2['pledged']+1) # we have 0.. if there is 0 log will write -inf\n",
    "starts_2['usd pledged']= np.log(starts_2['usd pledged']+1)  \n",
    "starts_2['usd_pledged_real']=np.log(starts_2['usd_pledged_real']+1) \n",
    "starts_2['usd_goal_real']= np.log(starts_2['usd_goal_real'])"
   ]
  },
  {
   "cell_type": "code",
   "execution_count": 27,
   "metadata": {},
   "outputs": [
    {
     "data": {
      "text/plain": [
       "RangeIndex(start=0, stop=378661, step=1)"
      ]
     },
     "execution_count": 27,
     "metadata": {},
     "output_type": "execute_result"
    }
   ],
   "source": [
    "np.log(starts_2['goal']).isnull().index # There is no empty value "
   ]
  },
  {
   "cell_type": "code",
   "execution_count": 28,
   "metadata": {},
   "outputs": [
    {
     "data": {
      "text/plain": [
       "0        0.000\n",
       "1        7.792\n",
       "2        5.398\n",
       "3        0.693\n",
       "4        7.158\n",
       "          ... \n",
       "378656   3.258\n",
       "378657   5.050\n",
       "378658   3.045\n",
       "378659   5.303\n",
       "378660   6.263\n",
       "Name: pledged, Length: 378661, dtype: float64"
      ]
     },
     "execution_count": 28,
     "metadata": {},
     "output_type": "execute_result"
    }
   ],
   "source": [
    "starts_2['pledged']"
   ]
  },
  {
   "cell_type": "code",
   "execution_count": 29,
   "metadata": {},
   "outputs": [
    {
     "data": {
      "image/png": "[encoded data removed]",
      "text/plain": [
       "<Figure size 1296x1080 with 10 Axes>"
      ]
     },
     "metadata": {
      "needs_background": "light"
     },
     "output_type": "display_data"
    }
   ],
   "source": [
    "plt.figure(figsize=(18,15))\n",
    "log_columns=['goal','pledged','usd pledged','usd_pledged_real','usd_goal_real']\n",
    "    \n",
    "for i in range(5):\n",
    "    plt.subplot(2, 5, i+1)\n",
    "    plt.hist(starts_2[log_columns[i]])\n",
    "    plt.title(log_columns[i] + ' (logarithm expression)', fontdict=title_font)\n",
    "for i in range(5):\n",
    "    plt.subplot(2, 5, i+6)\n",
    "    plt.boxplot(starts_2[log_columns[i]])\n",
    "    plt.title(log_columns[i] + ' (logarithm expression)', fontdict=title_font)"
   ]
  },
  {
   "cell_type": "code",
   "execution_count": 30,
   "metadata": {},
   "outputs": [
    {
     "data": {
      "text/plain": [
       "masked_array(data=[ 6.90775528, 10.30895266, 10.71441777, ...,\n",
       "                    9.61580548,  9.61580548,  7.60090246],\n",
       "             mask=False,\n",
       "       fill_value=1e+20)"
      ]
     },
     "execution_count": 30,
     "metadata": {},
     "output_type": "execute_result"
    }
   ],
   "source": [
    "from scipy.stats.mstats import winsorize\n",
    "#winsorize_goruntulenme = winsorize(starts_2[\"goal\"], (0.00010, 0.0005))\n",
    "winsorize_starts = winsorize(starts_2[\"goal\"], (0.01, 0.01))\n",
    "\n",
    "winsorize_starts"
   ]
  },
  {
   "cell_type": "code",
   "execution_count": 31,
   "metadata": {},
   "outputs": [
    {
     "data": {
      "text/plain": [
       "{'whiskers': [<matplotlib.lines.Line2D at 0x1bcb095a148>,\n",
       "  <matplotlib.lines.Line2D at 0x1bcb0793b88>],\n",
       " 'caps': [<matplotlib.lines.Line2D at 0x1bcb099da88>,\n",
       "  <matplotlib.lines.Line2D at 0x1bcb078e148>],\n",
       " 'boxes': [<matplotlib.lines.Line2D at 0x1bcb0991c48>],\n",
       " 'medians': [<matplotlib.lines.Line2D at 0x1bcb07c2ec8>],\n",
       " 'fliers': [<matplotlib.lines.Line2D at 0x1bcb074bd48>],\n",
       " 'means': []}"
      ]
     },
     "execution_count": 31,
     "metadata": {},
     "output_type": "execute_result"
    },
    {
     "data": {
      "image/png": "[encoded data removed]",
      "text/plain": [
       "<Figure size 432x288 with 1 Axes>"
      ]
     },
     "metadata": {
      "needs_background": "light"
     },
     "output_type": "display_data"
    }
   ],
   "source": [
    "plt.boxplot(winsorize_starts )"
   ]
  },
  {
   "cell_type": "code",
   "execution_count": 32,
   "metadata": {},
   "outputs": [
    {
     "data": {
      "text/plain": [
       "(array([ 8305., 12028., 26317., 56758., 86588., 75569., 60949., 28550.,\n",
       "        14634.,  8963.]),\n",
       " array([ 4.31748811,  5.17566128,  6.03383446,  6.89200763,  7.7501808 ,\n",
       "         8.60835397,  9.46652714, 10.32470031, 11.18287348, 12.04104665,\n",
       "        12.89921983]),\n",
       " <a list of 10 Patch objects>)"
      ]
     },
     "execution_count": 32,
     "metadata": {},
     "output_type": "execute_result"
    },
    {
     "data": {
      "image/png": "[encoded data removed]",
      "text/plain": [
       "<Figure size 432x288 with 1 Axes>"
      ]
     },
     "metadata": {
      "needs_background": "light"
     },
     "output_type": "display_data"
    }
   ],
   "source": [
    "plt.hist(winsorize_starts)"
   ]
  },
  {
   "cell_type": "code",
   "execution_count": null,
   "metadata": {},
   "outputs": [],
   "source": []
  },
  {
   "cell_type": "code",
   "execution_count": 33,
   "metadata": {},
   "outputs": [],
   "source": [
    "starts_2['goal']=winsorize(starts_2[\"goal\"], (0.01, 0.01))\n",
    "starts_2['usd_goal_real']=winsorize(starts_2[\"usd_goal_real\"], (0.01, 0.01))"
   ]
  },
  {
   "cell_type": "code",
   "execution_count": 34,
   "metadata": {},
   "outputs": [
    {
     "data": {
      "text/plain": [
       "{'whiskers': [<matplotlib.lines.Line2D at 0x1bcb0c5efc8>,\n",
       "  <matplotlib.lines.Line2D at 0x1bcb0c6b9c8>],\n",
       " 'caps': [<matplotlib.lines.Line2D at 0x1bcb0cb1a08>,\n",
       "  <matplotlib.lines.Line2D at 0x1bcb05d7488>],\n",
       " 'boxes': [<matplotlib.lines.Line2D at 0x1bcb0c23788>],\n",
       " 'medians': [<matplotlib.lines.Line2D at 0x1bcb0562dc8>],\n",
       " 'fliers': [<matplotlib.lines.Line2D at 0x1bcb05d4808>],\n",
       " 'means': []}"
      ]
     },
     "execution_count": 34,
     "metadata": {},
     "output_type": "execute_result"
    },
    {
     "data": {
      "image/png": "[encoded data removed]",
      "text/plain": [
       "<Figure size 432x288 with 1 Axes>"
      ]
     },
     "metadata": {
      "needs_background": "light"
     },
     "output_type": "display_data"
    }
   ],
   "source": [
    "plt.boxplot(starts_2['goal'])"
   ]
  },
  {
   "cell_type": "code",
   "execution_count": 35,
   "metadata": {},
   "outputs": [
    {
     "data": {
      "text/plain": [
       "(array([ 8305., 12028., 26317., 56758., 86588., 75569., 60949., 28550.,\n",
       "        14634.,  8963.]),\n",
       " array([ 4.31748811,  5.17566128,  6.03383446,  6.89200763,  7.7501808 ,\n",
       "         8.60835397,  9.46652714, 10.32470031, 11.18287348, 12.04104665,\n",
       "        12.89921983]),\n",
       " <a list of 10 Patch objects>)"
      ]
     },
     "execution_count": 35,
     "metadata": {},
     "output_type": "execute_result"
    },
    {
     "data": {
      "image/png": "[encoded data removed]",
      "text/plain": [
       "<Figure size 432x288 with 1 Axes>"
      ]
     },
     "metadata": {
      "needs_background": "light"
     },
     "output_type": "display_data"
    }
   ],
   "source": [
    "plt.hist(starts_2['goal'])"
   ]
  },
  {
   "cell_type": "markdown",
   "metadata": {},
   "source": [
    "### Let's apply the 'jarque bera' and 'normal test' methods to statistically prove whether our variables are normally distributed."
   ]
  },
  {
   "cell_type": "code",
   "execution_count": 36,
   "metadata": {},
   "outputs": [
    {
     "data": {
      "text/html": [
       "<div>\n",
       "<style scoped>\n",
       "    .dataframe tbody tr th:only-of-type {\n",
       "        vertical-align: middle;\n",
       "    }\n",
       "\n",
       "    .dataframe tbody tr th {\n",
       "        vertical-align: top;\n",
       "    }\n",
       "\n",
       "    .dataframe thead th {\n",
       "        text-align: right;\n",
       "    }\n",
       "</style>\n",
       "<table border=\"1\" class=\"dataframe\">\n",
       "  <thead>\n",
       "    <tr style=\"text-align: right;\">\n",
       "      <th></th>\n",
       "      <th>column</th>\n",
       "      <th>jarque_bera_stats</th>\n",
       "      <th>jarque_bera_p_value</th>\n",
       "      <th>normal_stats</th>\n",
       "      <th>normal_p_value</th>\n",
       "    </tr>\n",
       "  </thead>\n",
       "  <tbody>\n",
       "    <tr>\n",
       "      <td>0</td>\n",
       "      <td>goal</td>\n",
       "      <td>207.45786</td>\n",
       "      <td>0.00000</td>\n",
       "      <td>202.56986</td>\n",
       "      <td>0.00000</td>\n",
       "    </tr>\n",
       "    <tr>\n",
       "      <td>1</td>\n",
       "      <td>pledged</td>\n",
       "      <td>20771.79666</td>\n",
       "      <td>0.00000</td>\n",
       "      <td>44804.48053</td>\n",
       "      <td>0.00000</td>\n",
       "    </tr>\n",
       "    <tr>\n",
       "      <td>2</td>\n",
       "      <td>usd pledged</td>\n",
       "      <td>21919.76947</td>\n",
       "      <td>0.00000</td>\n",
       "      <td>95660.29753</td>\n",
       "      <td>0.00000</td>\n",
       "    </tr>\n",
       "    <tr>\n",
       "      <td>3</td>\n",
       "      <td>usd_pledged_real</td>\n",
       "      <td>21490.19489</td>\n",
       "      <td>0.00000</td>\n",
       "      <td>46191.14992</td>\n",
       "      <td>0.00000</td>\n",
       "    </tr>\n",
       "    <tr>\n",
       "      <td>4</td>\n",
       "      <td>usd_goal_real</td>\n",
       "      <td>433.96575</td>\n",
       "      <td>0.00000</td>\n",
       "      <td>429.21546</td>\n",
       "      <td>0.00000</td>\n",
       "    </tr>\n",
       "  </tbody>\n",
       "</table>\n",
       "</div>"
      ],
      "text/plain": [
       "             column  jarque_bera_stats  jarque_bera_p_value  normal_stats  \\\n",
       "0              goal          207.45786              0.00000     202.56986   \n",
       "1           pledged        20771.79666              0.00000   44804.48053   \n",
       "2       usd pledged        21919.76947              0.00000   95660.29753   \n",
       "3  usd_pledged_real        21490.19489              0.00000   46191.14992   \n",
       "4     usd_goal_real          433.96575              0.00000     429.21546   \n",
       "\n",
       "   normal_p_value  \n",
       "0         0.00000  \n",
       "1         0.00000  \n",
       "2         0.00000  \n",
       "3         0.00000  \n",
       "4         0.00000  "
      ]
     },
     "execution_count": 36,
     "metadata": {},
     "output_type": "execute_result"
    }
   ],
   "source": [
    "from scipy.stats import jarque_bera\n",
    "from scipy.stats import normaltest\n",
    "\n",
    "pd.options.display.float_format = '{:.5f}'.format\n",
    "\n",
    "columns = [\"goal\", \"pledged\", \"usd pledged\",\"usd_pledged_real\",\"usd_goal_real\"]\n",
    "dispersion_tests = pd.DataFrame(columns=['column', 'jarque_bera_stats', 'jarque_bera_p_value', \n",
    "                                         'normal_stats', 'normal_p_value'])\n",
    "\n",
    "for column in columns:\n",
    "    jb_stats = jarque_bera(starts_2[column])\n",
    "    norm_stats = normaltest(starts_2[column])\n",
    "    dispersion_tests = dispersion_tests.append({\"column\": column,\n",
    "                                                \"jarque_bera_stats\" : jb_stats[0] ,\n",
    "                                                \"jarque_bera_p_value\" : jb_stats[1] ,\n",
    "                                                \"normal_stats\": norm_stats[0] , \n",
    "                                                \"normal_p_value\" : norm_stats[1]\n",
    "                                               }, ignore_index=True)\n",
    "dispersion_tests"
   ]
  },
  {
   "cell_type": "markdown",
   "metadata": {},
   "source": [
    "As it seems, the variables are not normally distributed because the p value is 0. let's see, is there any outlier value?"
   ]
  },
  {
   "cell_type": "code",
   "execution_count": 39,
   "metadata": {},
   "outputs": [
    {
     "name": "stdout",
     "output_type": "stream",
     "text": [
      "----------  goal ----------\n"
     ]
    },
    {
     "data": {
      "text/html": [
       "<div>\n",
       "<style scoped>\n",
       "    .dataframe tbody tr th:only-of-type {\n",
       "        vertical-align: middle;\n",
       "    }\n",
       "\n",
       "    .dataframe tbody tr th {\n",
       "        vertical-align: top;\n",
       "    }\n",
       "\n",
       "    .dataframe thead th {\n",
       "        text-align: right;\n",
       "    }\n",
       "</style>\n",
       "<table border=\"1\" class=\"dataframe\">\n",
       "  <thead>\n",
       "    <tr style=\"text-align: right;\">\n",
       "      <th></th>\n",
       "      <th>number_of_outliers</th>\n",
       "      <th>number_of_outliers_log</th>\n",
       "      <th>threshold_worth</th>\n",
       "    </tr>\n",
       "  </thead>\n",
       "  <tbody>\n",
       "    <tr>\n",
       "      <td>0</td>\n",
       "      <td>22697.00000</td>\n",
       "      <td>25168.00000</td>\n",
       "      <td>1.00000</td>\n",
       "    </tr>\n",
       "    <tr>\n",
       "      <td>1</td>\n",
       "      <td>0.00000</td>\n",
       "      <td>6680.00000</td>\n",
       "      <td>2.00000</td>\n",
       "    </tr>\n",
       "    <tr>\n",
       "      <td>2</td>\n",
       "      <td>0.00000</td>\n",
       "      <td>0.00000</td>\n",
       "      <td>3.00000</td>\n",
       "    </tr>\n",
       "    <tr>\n",
       "      <td>3</td>\n",
       "      <td>0.00000</td>\n",
       "      <td>0.00000</td>\n",
       "      <td>4.00000</td>\n",
       "    </tr>\n",
       "  </tbody>\n",
       "</table>\n",
       "</div>"
      ],
      "text/plain": [
       "   number_of_outliers  number_of_outliers_log  threshold_worth\n",
       "0         22697.00000             25168.00000          1.00000\n",
       "1             0.00000              6680.00000          2.00000\n",
       "2             0.00000                 0.00000          3.00000\n",
       "3             0.00000                 0.00000          4.00000"
      ]
     },
     "metadata": {},
     "output_type": "display_data"
    },
    {
     "name": "stdout",
     "output_type": "stream",
     "text": [
      "----------  pledged ----------\n"
     ]
    },
    {
     "data": {
      "text/html": [
       "<div>\n",
       "<style scoped>\n",
       "    .dataframe tbody tr th:only-of-type {\n",
       "        vertical-align: middle;\n",
       "    }\n",
       "\n",
       "    .dataframe tbody tr th {\n",
       "        vertical-align: top;\n",
       "    }\n",
       "\n",
       "    .dataframe thead th {\n",
       "        text-align: right;\n",
       "    }\n",
       "</style>\n",
       "<table border=\"1\" class=\"dataframe\">\n",
       "  <thead>\n",
       "    <tr style=\"text-align: right;\">\n",
       "      <th></th>\n",
       "      <th>number_of_outliers</th>\n",
       "      <th>number_of_outliers_log</th>\n",
       "      <th>threshold_worth</th>\n",
       "    </tr>\n",
       "  </thead>\n",
       "  <tbody>\n",
       "    <tr>\n",
       "      <td>0</td>\n",
       "      <td>752.00000</td>\n",
       "      <td>65141.00000</td>\n",
       "      <td>1.00000</td>\n",
       "    </tr>\n",
       "    <tr>\n",
       "      <td>1</td>\n",
       "      <td>0.00000</td>\n",
       "      <td>52527.00000</td>\n",
       "      <td>2.00000</td>\n",
       "    </tr>\n",
       "    <tr>\n",
       "      <td>2</td>\n",
       "      <td>0.00000</td>\n",
       "      <td>52527.00000</td>\n",
       "      <td>3.00000</td>\n",
       "    </tr>\n",
       "    <tr>\n",
       "      <td>3</td>\n",
       "      <td>0.00000</td>\n",
       "      <td>52527.00000</td>\n",
       "      <td>4.00000</td>\n",
       "    </tr>\n",
       "  </tbody>\n",
       "</table>\n",
       "</div>"
      ],
      "text/plain": [
       "   number_of_outliers  number_of_outliers_log  threshold_worth\n",
       "0           752.00000             65141.00000          1.00000\n",
       "1             0.00000             52527.00000          2.00000\n",
       "2             0.00000             52527.00000          3.00000\n",
       "3             0.00000             52527.00000          4.00000"
      ]
     },
     "metadata": {},
     "output_type": "display_data"
    },
    {
     "name": "stdout",
     "output_type": "stream",
     "text": [
      "----------  backers ----------\n"
     ]
    },
    {
     "data": {
      "text/html": [
       "<div>\n",
       "<style scoped>\n",
       "    .dataframe tbody tr th:only-of-type {\n",
       "        vertical-align: middle;\n",
       "    }\n",
       "\n",
       "    .dataframe tbody tr th {\n",
       "        vertical-align: top;\n",
       "    }\n",
       "\n",
       "    .dataframe thead th {\n",
       "        text-align: right;\n",
       "    }\n",
       "</style>\n",
       "<table border=\"1\" class=\"dataframe\">\n",
       "  <thead>\n",
       "    <tr style=\"text-align: right;\">\n",
       "      <th></th>\n",
       "      <th>number_of_outliers</th>\n",
       "      <th>number_of_outliers_log</th>\n",
       "      <th>threshold_worth</th>\n",
       "    </tr>\n",
       "  </thead>\n",
       "  <tbody>\n",
       "    <tr>\n",
       "      <td>0</td>\n",
       "      <td>55141.00000</td>\n",
       "      <td>59197.00000</td>\n",
       "      <td>1.00000</td>\n",
       "    </tr>\n",
       "    <tr>\n",
       "      <td>1</td>\n",
       "      <td>38255.00000</td>\n",
       "      <td>55633.00000</td>\n",
       "      <td>2.00000</td>\n",
       "    </tr>\n",
       "    <tr>\n",
       "      <td>2</td>\n",
       "      <td>29013.00000</td>\n",
       "      <td>55609.00000</td>\n",
       "      <td>3.00000</td>\n",
       "    </tr>\n",
       "    <tr>\n",
       "      <td>3</td>\n",
       "      <td>23258.00000</td>\n",
       "      <td>55609.00000</td>\n",
       "      <td>4.00000</td>\n",
       "    </tr>\n",
       "  </tbody>\n",
       "</table>\n",
       "</div>"
      ],
      "text/plain": [
       "   number_of_outliers  number_of_outliers_log  threshold_worth\n",
       "0         55141.00000             59197.00000          1.00000\n",
       "1         38255.00000             55633.00000          2.00000\n",
       "2         29013.00000             55609.00000          3.00000\n",
       "3         23258.00000             55609.00000          4.00000"
      ]
     },
     "metadata": {},
     "output_type": "display_data"
    },
    {
     "name": "stdout",
     "output_type": "stream",
     "text": [
      "----------  usd pledged ----------\n"
     ]
    },
    {
     "data": {
      "text/html": [
       "<div>\n",
       "<style scoped>\n",
       "    .dataframe tbody tr th:only-of-type {\n",
       "        vertical-align: middle;\n",
       "    }\n",
       "\n",
       "    .dataframe tbody tr th {\n",
       "        vertical-align: top;\n",
       "    }\n",
       "\n",
       "    .dataframe thead th {\n",
       "        text-align: right;\n",
       "    }\n",
       "</style>\n",
       "<table border=\"1\" class=\"dataframe\">\n",
       "  <thead>\n",
       "    <tr style=\"text-align: right;\">\n",
       "      <th></th>\n",
       "      <th>number_of_outliers</th>\n",
       "      <th>number_of_outliers_log</th>\n",
       "      <th>threshold_worth</th>\n",
       "    </tr>\n",
       "  </thead>\n",
       "  <tbody>\n",
       "    <tr>\n",
       "      <td>0</td>\n",
       "      <td>462.00000</td>\n",
       "      <td>76734.00000</td>\n",
       "      <td>1.00000</td>\n",
       "    </tr>\n",
       "    <tr>\n",
       "      <td>1</td>\n",
       "      <td>0.00000</td>\n",
       "      <td>68830.00000</td>\n",
       "      <td>2.00000</td>\n",
       "    </tr>\n",
       "    <tr>\n",
       "      <td>2</td>\n",
       "      <td>0.00000</td>\n",
       "      <td>68830.00000</td>\n",
       "      <td>3.00000</td>\n",
       "    </tr>\n",
       "    <tr>\n",
       "      <td>3</td>\n",
       "      <td>0.00000</td>\n",
       "      <td>68830.00000</td>\n",
       "      <td>4.00000</td>\n",
       "    </tr>\n",
       "  </tbody>\n",
       "</table>\n",
       "</div>"
      ],
      "text/plain": [
       "   number_of_outliers  number_of_outliers_log  threshold_worth\n",
       "0           462.00000             76734.00000          1.00000\n",
       "1             0.00000             68830.00000          2.00000\n",
       "2             0.00000             68830.00000          3.00000\n",
       "3             0.00000             68830.00000          4.00000"
      ]
     },
     "metadata": {},
     "output_type": "display_data"
    },
    {
     "name": "stdout",
     "output_type": "stream",
     "text": [
      "----------  usd_pledged_real ----------\n"
     ]
    },
    {
     "data": {
      "text/html": [
       "<div>\n",
       "<style scoped>\n",
       "    .dataframe tbody tr th:only-of-type {\n",
       "        vertical-align: middle;\n",
       "    }\n",
       "\n",
       "    .dataframe tbody tr th {\n",
       "        vertical-align: top;\n",
       "    }\n",
       "\n",
       "    .dataframe thead th {\n",
       "        text-align: right;\n",
       "    }\n",
       "</style>\n",
       "<table border=\"1\" class=\"dataframe\">\n",
       "  <thead>\n",
       "    <tr style=\"text-align: right;\">\n",
       "      <th></th>\n",
       "      <th>number_of_outliers</th>\n",
       "      <th>number_of_outliers_log</th>\n",
       "      <th>threshold_worth</th>\n",
       "    </tr>\n",
       "  </thead>\n",
       "  <tbody>\n",
       "    <tr>\n",
       "      <td>0</td>\n",
       "      <td>684.00000</td>\n",
       "      <td>65318.00000</td>\n",
       "      <td>1.00000</td>\n",
       "    </tr>\n",
       "    <tr>\n",
       "      <td>1</td>\n",
       "      <td>0.00000</td>\n",
       "      <td>53326.00000</td>\n",
       "      <td>2.00000</td>\n",
       "    </tr>\n",
       "    <tr>\n",
       "      <td>2</td>\n",
       "      <td>0.00000</td>\n",
       "      <td>52527.00000</td>\n",
       "      <td>3.00000</td>\n",
       "    </tr>\n",
       "    <tr>\n",
       "      <td>3</td>\n",
       "      <td>0.00000</td>\n",
       "      <td>52527.00000</td>\n",
       "      <td>4.00000</td>\n",
       "    </tr>\n",
       "  </tbody>\n",
       "</table>\n",
       "</div>"
      ],
      "text/plain": [
       "   number_of_outliers  number_of_outliers_log  threshold_worth\n",
       "0           684.00000             65318.00000          1.00000\n",
       "1             0.00000             53326.00000          2.00000\n",
       "2             0.00000             52527.00000          3.00000\n",
       "3             0.00000             52527.00000          4.00000"
      ]
     },
     "metadata": {},
     "output_type": "display_data"
    },
    {
     "name": "stdout",
     "output_type": "stream",
     "text": [
      "----------  usd_goal_real ----------\n"
     ]
    },
    {
     "data": {
      "text/html": [
       "<div>\n",
       "<style scoped>\n",
       "    .dataframe tbody tr th:only-of-type {\n",
       "        vertical-align: middle;\n",
       "    }\n",
       "\n",
       "    .dataframe tbody tr th {\n",
       "        vertical-align: top;\n",
       "    }\n",
       "\n",
       "    .dataframe thead th {\n",
       "        text-align: right;\n",
       "    }\n",
       "</style>\n",
       "<table border=\"1\" class=\"dataframe\">\n",
       "  <thead>\n",
       "    <tr style=\"text-align: right;\">\n",
       "      <th></th>\n",
       "      <th>number_of_outliers</th>\n",
       "      <th>number_of_outliers_log</th>\n",
       "      <th>threshold_worth</th>\n",
       "    </tr>\n",
       "  </thead>\n",
       "  <tbody>\n",
       "    <tr>\n",
       "      <td>0</td>\n",
       "      <td>23703.00000</td>\n",
       "      <td>24563.00000</td>\n",
       "      <td>1.00000</td>\n",
       "    </tr>\n",
       "    <tr>\n",
       "      <td>1</td>\n",
       "      <td>0.00000</td>\n",
       "      <td>6313.00000</td>\n",
       "      <td>2.00000</td>\n",
       "    </tr>\n",
       "    <tr>\n",
       "      <td>2</td>\n",
       "      <td>0.00000</td>\n",
       "      <td>0.00000</td>\n",
       "      <td>3.00000</td>\n",
       "    </tr>\n",
       "    <tr>\n",
       "      <td>3</td>\n",
       "      <td>0.00000</td>\n",
       "      <td>0.00000</td>\n",
       "      <td>4.00000</td>\n",
       "    </tr>\n",
       "  </tbody>\n",
       "</table>\n",
       "</div>"
      ],
      "text/plain": [
       "   number_of_outliers  number_of_outliers_log  threshold_worth\n",
       "0         23703.00000             24563.00000          1.00000\n",
       "1             0.00000              6313.00000          2.00000\n",
       "2             0.00000                 0.00000          3.00000\n",
       "3             0.00000                 0.00000          4.00000"
      ]
     },
     "metadata": {},
     "output_type": "display_data"
    }
   ],
   "source": [
    "log_threshold_variables= pd.DataFrame()\n",
    "variables = ['goal', 'pledged' , 'backers',\"usd pledged\",\"usd_pledged_real\",\"usd_goal_real\"]\n",
    "for j in variables:\n",
    "    for threshold_worth in np.arange(1,5,1):\n",
    "        q75_log, q25_log = np.percentile(np.log(starts_2[j]), [75 ,25])\n",
    "        caa_log = q75_log - q25_log\n",
    "        q75, q25 = np.percentile(starts_2[j], [75 ,25])\n",
    "        caa= q75 - q25\n",
    "        min_worth_log = q25_log - (caa_log*threshold_worth) \n",
    "        max_worth_log = q75_log + (caa_log*threshold_worth)\n",
    "        min_worth= q25 - (caa*threshold_worth) #logarithm expression\n",
    "        max_worth = q75 + (caa*threshold_worth) #logarithm expression\n",
    "        number_of_outliers_log = len((np.where((np.log(starts_2[j]) > max_worth_log)| \n",
    "                                               (np.log(starts_2[j]) < min_worth_log))[0]))\n",
    "        number_of_outliers = len((np.where((starts_2[j] > max_worth)| \n",
    "                                               (starts_2[j] < min_worth))[0]))\n",
    "        log_threshold_variables = log_threshold_variables.append({'threshold_worth': threshold_worth,\n",
    "                                                            'number_of_outliers' : number_of_outliers, #logarithm expression\n",
    "                                                            'number_of_outliers_log': number_of_outliers_log \n",
    "                                                            }, ignore_index=True)\n",
    "    print(\"-\"*10,\"\",j,\"-\"*10)\n",
    "    display(log_threshold_variables)\n",
    "    log_threshold_variables = pd.DataFrame()"
   ]
  },
  {
   "cell_type": "markdown",
   "metadata": {},
   "source": [
    "#### As can be seen, we apply the goal variable both logarithm and winsorized, and we remove almost 'goal' of outliers. we also made it closer to normal distribution."
   ]
  },
  {
   "cell_type": "code",
   "execution_count": 39,
   "metadata": {},
   "outputs": [],
   "source": [
    "starts_2.to_csv('Winsorize_log_starts',encoding='utf-8')"
   ]
  },
  {
   "cell_type": "markdown",
   "metadata": {},
   "source": [
    "### Now let's normalize all our variables and examine their distributions."
   ]
  },
  {
   "cell_type": "code",
   "execution_count": 40,
   "metadata": {},
   "outputs": [
    {
     "data": {
      "text/html": [
       "<div>\n",
       "<style scoped>\n",
       "    .dataframe tbody tr th:only-of-type {\n",
       "        vertical-align: middle;\n",
       "    }\n",
       "\n",
       "    .dataframe tbody tr th {\n",
       "        vertical-align: top;\n",
       "    }\n",
       "\n",
       "    .dataframe thead th {\n",
       "        text-align: right;\n",
       "    }\n",
       "</style>\n",
       "<table border=\"1\" class=\"dataframe\">\n",
       "  <thead>\n",
       "    <tr style=\"text-align: right;\">\n",
       "      <th></th>\n",
       "      <th>ID</th>\n",
       "      <th>name</th>\n",
       "      <th>category</th>\n",
       "      <th>main_category</th>\n",
       "      <th>currency</th>\n",
       "      <th>deadline</th>\n",
       "      <th>goal</th>\n",
       "      <th>launched</th>\n",
       "      <th>pledged</th>\n",
       "      <th>state</th>\n",
       "      <th>backers</th>\n",
       "      <th>country</th>\n",
       "      <th>usd pledged</th>\n",
       "      <th>usd_pledged_real</th>\n",
       "      <th>usd_goal_real</th>\n",
       "    </tr>\n",
       "  </thead>\n",
       "  <tbody>\n",
       "    <tr>\n",
       "      <td>0</td>\n",
       "      <td>1000002330</td>\n",
       "      <td>The Songs of Adelaide &amp; Abullah</td>\n",
       "      <td>Poetry</td>\n",
       "      <td>Publishing</td>\n",
       "      <td>GBP</td>\n",
       "      <td>2015-10-09</td>\n",
       "      <td>1000.00000</td>\n",
       "      <td>2015-08-11 12:12:28</td>\n",
       "      <td>0.00000</td>\n",
       "      <td>failed</td>\n",
       "      <td>0</td>\n",
       "      <td>GB</td>\n",
       "      <td>0.00000</td>\n",
       "      <td>0.00000</td>\n",
       "      <td>1533.95000</td>\n",
       "    </tr>\n",
       "    <tr>\n",
       "      <td>1</td>\n",
       "      <td>1000003930</td>\n",
       "      <td>Greeting From Earth: ZGAC Arts Capsule For ET</td>\n",
       "      <td>Narrative Film</td>\n",
       "      <td>Film &amp; Video</td>\n",
       "      <td>USD</td>\n",
       "      <td>2017-11-01</td>\n",
       "      <td>30000.00000</td>\n",
       "      <td>2017-09-02 04:43:57</td>\n",
       "      <td>2421.00000</td>\n",
       "      <td>failed</td>\n",
       "      <td>15</td>\n",
       "      <td>US</td>\n",
       "      <td>100.00000</td>\n",
       "      <td>2421.00000</td>\n",
       "      <td>30000.00000</td>\n",
       "    </tr>\n",
       "    <tr>\n",
       "      <td>2</td>\n",
       "      <td>1000004038</td>\n",
       "      <td>Where is Hank?</td>\n",
       "      <td>Narrative Film</td>\n",
       "      <td>Film &amp; Video</td>\n",
       "      <td>USD</td>\n",
       "      <td>2013-02-26</td>\n",
       "      <td>45000.00000</td>\n",
       "      <td>2013-01-12 00:20:50</td>\n",
       "      <td>220.00000</td>\n",
       "      <td>failed</td>\n",
       "      <td>3</td>\n",
       "      <td>US</td>\n",
       "      <td>220.00000</td>\n",
       "      <td>220.00000</td>\n",
       "      <td>45000.00000</td>\n",
       "    </tr>\n",
       "    <tr>\n",
       "      <td>3</td>\n",
       "      <td>1000007540</td>\n",
       "      <td>ToshiCapital Rekordz Needs Help to Complete Album</td>\n",
       "      <td>Music</td>\n",
       "      <td>Music</td>\n",
       "      <td>USD</td>\n",
       "      <td>2012-04-16</td>\n",
       "      <td>5000.00000</td>\n",
       "      <td>2012-03-17 03:24:11</td>\n",
       "      <td>1.00000</td>\n",
       "      <td>failed</td>\n",
       "      <td>1</td>\n",
       "      <td>US</td>\n",
       "      <td>1.00000</td>\n",
       "      <td>1.00000</td>\n",
       "      <td>5000.00000</td>\n",
       "    </tr>\n",
       "    <tr>\n",
       "      <td>4</td>\n",
       "      <td>1000011046</td>\n",
       "      <td>Community Film Project: The Art of Neighborhoo...</td>\n",
       "      <td>Film &amp; Video</td>\n",
       "      <td>Film &amp; Video</td>\n",
       "      <td>USD</td>\n",
       "      <td>2015-08-29</td>\n",
       "      <td>19500.00000</td>\n",
       "      <td>2015-07-04 08:35:03</td>\n",
       "      <td>1283.00000</td>\n",
       "      <td>canceled</td>\n",
       "      <td>14</td>\n",
       "      <td>US</td>\n",
       "      <td>1283.00000</td>\n",
       "      <td>1283.00000</td>\n",
       "      <td>19500.00000</td>\n",
       "    </tr>\n",
       "  </tbody>\n",
       "</table>\n",
       "</div>"
      ],
      "text/plain": [
       "           ID                                               name  \\\n",
       "0  1000002330                    The Songs of Adelaide & Abullah   \n",
       "1  1000003930      Greeting From Earth: ZGAC Arts Capsule For ET   \n",
       "2  1000004038                                     Where is Hank?   \n",
       "3  1000007540  ToshiCapital Rekordz Needs Help to Complete Album   \n",
       "4  1000011046  Community Film Project: The Art of Neighborhoo...   \n",
       "\n",
       "         category main_category currency    deadline        goal  \\\n",
       "0          Poetry    Publishing      GBP  2015-10-09  1000.00000   \n",
       "1  Narrative Film  Film & Video      USD  2017-11-01 30000.00000   \n",
       "2  Narrative Film  Film & Video      USD  2013-02-26 45000.00000   \n",
       "3           Music         Music      USD  2012-04-16  5000.00000   \n",
       "4    Film & Video  Film & Video      USD  2015-08-29 19500.00000   \n",
       "\n",
       "              launched    pledged     state  backers country  usd pledged  \\\n",
       "0  2015-08-11 12:12:28    0.00000    failed        0      GB      0.00000   \n",
       "1  2017-09-02 04:43:57 2421.00000    failed       15      US    100.00000   \n",
       "2  2013-01-12 00:20:50  220.00000    failed        3      US    220.00000   \n",
       "3  2012-03-17 03:24:11    1.00000    failed        1      US      1.00000   \n",
       "4  2015-07-04 08:35:03 1283.00000  canceled       14      US   1283.00000   \n",
       "\n",
       "   usd_pledged_real  usd_goal_real  \n",
       "0           0.00000     1533.95000  \n",
       "1        2421.00000    30000.00000  \n",
       "2         220.00000    45000.00000  \n",
       "3           1.00000     5000.00000  \n",
       "4        1283.00000    19500.00000  "
      ]
     },
     "execution_count": 40,
     "metadata": {},
     "output_type": "execute_result"
    }
   ],
   "source": [
    "starts.head()"
   ]
  },
  {
   "cell_type": "code",
   "execution_count": 41,
   "metadata": {},
   "outputs": [
    {
     "data": {
      "text/plain": [
       "ID                 0.00000\n",
       "name               0.00000\n",
       "category           0.00000\n",
       "main_category      0.00000\n",
       "currency           0.00000\n",
       "deadline           0.00000\n",
       "goal               0.00000\n",
       "launched           0.00000\n",
       "pledged            0.00000\n",
       "state              0.00000\n",
       "backers            0.00000\n",
       "country            0.00000\n",
       "usd pledged        0.00000\n",
       "usd_pledged_real   0.00000\n",
       "usd_goal_real      0.00000\n",
       "dtype: float64"
      ]
     },
     "execution_count": 41,
     "metadata": {},
     "output_type": "execute_result"
    }
   ],
   "source": [
    "starts.isnull().sum()*100/starts.shape[0]"
   ]
  },
  {
   "cell_type": "code",
   "execution_count": 42,
   "metadata": {},
   "outputs": [
    {
     "name": "stdout",
     "output_type": "stream",
     "text": [
      "Minimum Worths\n",
      "-----------------\n",
      "goal                    0.01000\n",
      "norm_goal               0.00000\n",
      "pledged                 0.00000\n",
      "norm_pledged            0.00000\n",
      "usd_pledged_real        0.00000\n",
      "norm_usd_pledged_real   0.00000\n",
      "usd_goal_real           0.01000\n",
      "norm_usd_goal_real      0.00000\n",
      "dtype: float64\n",
      "\n",
      "Maksimum Worths\n",
      "-----------------\n",
      "goal                    100000000.00000\n",
      "norm_goal                       0.13721\n",
      "pledged                  20338986.27000\n",
      "norm_pledged                    0.34385\n",
      "usd_pledged_real         20338986.27000\n",
      "norm_usd_pledged_real           0.36153\n",
      "usd_goal_real           166361390.71000\n",
      "norm_usd_goal_real              0.23430\n",
      "dtype: float64\n"
     ]
    }
   ],
   "source": [
    "from sklearn.preprocessing import normalize\n",
    "\n",
    "starts[\"norm_goal\"] = normalize(np.array(starts[\"goal\"]).reshape(1,-1)).reshape(-1,1)\n",
    "starts[\"norm_pledged\"] = normalize(np.array(starts[\"pledged\"]).reshape(1,-1)).reshape(-1,1)\n",
    "#starts[\"norm_usd_pledged\"] = normalize(np.array(starts[\"usd pledged\"]).reshape(1,-1)).reshape(-1,1)\n",
    "starts[\"norm_usd_pledged_real\"] = normalize(np.array(starts[\"usd_pledged_real\"]).reshape(1,-1)).reshape(-1,1)\n",
    "starts[\"norm_usd_goal_real\"] = normalize(np.array(starts[\"usd_goal_real\"]).reshape(1,-1)).reshape(-1,1)\n",
    "\n",
    "normal_ozellikler=[\"goal\",\"norm_goal\",\"pledged\",\"norm_pledged\",\n",
    "                    \"usd_pledged_real\",\"norm_usd_pledged_real\",\"usd_goal_real\",\"norm_usd_goal_real\"]\n",
    "\n",
    "\n",
    "print('Minimum Worths\\n-----------------',)\n",
    "print(starts[normal_ozellikler].min())\n",
    "print('\\nMaksimum Worths\\n-----------------',)\n",
    "print(starts[normal_ozellikler].max())"
   ]
  },
  {
   "cell_type": "code",
   "execution_count": 43,
   "metadata": {},
   "outputs": [
    {
     "data": {
      "image/png": "[encoded data removed]",
      "text/plain": [
       "<Figure size 1296x360 with 4 Axes>"
      ]
     },
     "metadata": {
      "needs_background": "light"
     },
     "output_type": "display_data"
    }
   ],
   "source": [
    "plt.figure(figsize=(18,5))\n",
    "\n",
    "for i in range(4):\n",
    "    plt.subplot(1,4,i+1)\n",
    "    plt.scatter(starts[normal_ozellikler[2*i]], starts[normal_ozellikler[2*i+1]])\n",
    "    plt.title(\"Orjinal and Normalize Worths \\n ({})\".format(normal_ozellikler[2*i]), fontdict=title_font)\n",
    "    plt.xlabel(\"Orjinal Worths\", fontdict=curve_font)\n",
    "    plt.ylabel(\"Normalize Worths\", fontdict=curve_font)\n",
    "\n",
    "plt.show()"
   ]
  },
  {
   "cell_type": "markdown",
   "metadata": {},
   "source": [
    "#### As it seems, the number of our outliers has decreased to a few. Now we can use winsorize here."
   ]
  },
  {
   "cell_type": "code",
   "execution_count": 45,
   "metadata": {},
   "outputs": [
    {
     "data": {
      "text/plain": [
       "(array([227628.,  60789.,  28956.,  14420.,   6676.,  10698.,   3723.,\n",
       "          2226.,   3590.,  19955.]),\n",
       " array([1.37206195e-11, 1.23485699e-05, 2.46971261e-05, 3.70456823e-05,\n",
       "        4.93942385e-05, 6.17427947e-05, 7.40913510e-05, 8.64399072e-05,\n",
       "        9.87884634e-05, 1.11137020e-04, 1.23485576e-04]),\n",
       " <a list of 10 Patch objects>)"
      ]
     },
     "execution_count": 45,
     "metadata": {},
     "output_type": "execute_result"
    },
    {
     "data": {
      "image/png": "[encoded data removed]",
      "text/plain": [
       "<Figure size 432x288 with 1 Axes>"
      ]
     },
     "metadata": {
      "needs_background": "light"
     },
     "output_type": "display_data"
    }
   ],
   "source": [
    "plt.hist(winsorize(starts['norm_goal'], (0,.05)))"
   ]
  },
  {
   "cell_type": "code",
   "execution_count": 47,
   "metadata": {},
   "outputs": [
    {
     "data": {
      "text/plain": [
       "(array([3.78507e+05, 4.40000e+01, 3.20000e+01, 1.40000e+01, 1.60000e+01,\n",
       "        5.00000e+00, 1.00000e+00, 4.00000e+00, 0.00000e+00, 3.80000e+01]),\n",
       " array([1.37206195e-11, 1.37206195e-02, 2.74412391e-02, 4.11618586e-02,\n",
       "        5.48824781e-02, 6.86030977e-02, 8.23237172e-02, 9.60443367e-02,\n",
       "        1.09764956e-01, 1.23485576e-01, 1.37206195e-01]),\n",
       " <a list of 10 Patch objects>)"
      ]
     },
     "execution_count": 47,
     "metadata": {},
     "output_type": "execute_result"
    },
    {
     "data": {
      "image/png": "[encoded data removed]",
      "text/plain": [
       "<Figure size 432x288 with 1 Axes>"
      ]
     },
     "metadata": {
      "needs_background": "light"
     },
     "output_type": "display_data"
    }
   ],
   "source": [
    "plt.hist(starts['norm_goal'])"
   ]
  },
  {
   "cell_type": "markdown",
   "metadata": {},
   "source": [
    "### Yes, as can be seen, after the normalization process, our target variable has moved far from its normal distribution. Rather than working over this data, we will work with the data set whose logarithm statement has been taken and the target variable has been winsorized. This data set will provide convenience to us."
   ]
  },
  {
   "cell_type": "code",
   "execution_count": 48,
   "metadata": {},
   "outputs": [
    {
     "data": {
      "text/html": [
       "<div>\n",
       "<style scoped>\n",
       "    .dataframe tbody tr th:only-of-type {\n",
       "        vertical-align: middle;\n",
       "    }\n",
       "\n",
       "    .dataframe tbody tr th {\n",
       "        vertical-align: top;\n",
       "    }\n",
       "\n",
       "    .dataframe thead th {\n",
       "        text-align: right;\n",
       "    }\n",
       "</style>\n",
       "<table border=\"1\" class=\"dataframe\">\n",
       "  <thead>\n",
       "    <tr style=\"text-align: right;\">\n",
       "      <th></th>\n",
       "      <th>ID</th>\n",
       "      <th>name</th>\n",
       "      <th>category</th>\n",
       "      <th>main_category</th>\n",
       "      <th>currency</th>\n",
       "      <th>deadline</th>\n",
       "      <th>goal</th>\n",
       "      <th>launched</th>\n",
       "      <th>pledged</th>\n",
       "      <th>state</th>\n",
       "      <th>backers</th>\n",
       "      <th>country</th>\n",
       "      <th>usd pledged</th>\n",
       "      <th>usd_pledged_real</th>\n",
       "      <th>usd_goal_real</th>\n",
       "    </tr>\n",
       "  </thead>\n",
       "  <tbody>\n",
       "    <tr>\n",
       "      <td>0</td>\n",
       "      <td>1000002330</td>\n",
       "      <td>The Songs of Adelaide &amp; Abullah</td>\n",
       "      <td>Poetry</td>\n",
       "      <td>Publishing</td>\n",
       "      <td>GBP</td>\n",
       "      <td>2015-10-09</td>\n",
       "      <td>6.90776</td>\n",
       "      <td>2015-08-11 12:12:28</td>\n",
       "      <td>0.00000</td>\n",
       "      <td>failed</td>\n",
       "      <td>0</td>\n",
       "      <td>GB</td>\n",
       "      <td>0.00000</td>\n",
       "      <td>0.00000</td>\n",
       "      <td>7.33560</td>\n",
       "    </tr>\n",
       "    <tr>\n",
       "      <td>1</td>\n",
       "      <td>1000003930</td>\n",
       "      <td>Greeting From Earth: ZGAC Arts Capsule For ET</td>\n",
       "      <td>Narrative Film</td>\n",
       "      <td>Film &amp; Video</td>\n",
       "      <td>USD</td>\n",
       "      <td>2017-11-01</td>\n",
       "      <td>10.30895</td>\n",
       "      <td>2017-09-02 04:43:57</td>\n",
       "      <td>7.79235</td>\n",
       "      <td>failed</td>\n",
       "      <td>15</td>\n",
       "      <td>US</td>\n",
       "      <td>4.61512</td>\n",
       "      <td>7.79235</td>\n",
       "      <td>10.30895</td>\n",
       "    </tr>\n",
       "    <tr>\n",
       "      <td>2</td>\n",
       "      <td>1000004038</td>\n",
       "      <td>Where is Hank?</td>\n",
       "      <td>Narrative Film</td>\n",
       "      <td>Film &amp; Video</td>\n",
       "      <td>USD</td>\n",
       "      <td>2013-02-26</td>\n",
       "      <td>10.71442</td>\n",
       "      <td>2013-01-12 00:20:50</td>\n",
       "      <td>5.39816</td>\n",
       "      <td>failed</td>\n",
       "      <td>3</td>\n",
       "      <td>US</td>\n",
       "      <td>5.39816</td>\n",
       "      <td>5.39816</td>\n",
       "      <td>10.71442</td>\n",
       "    </tr>\n",
       "    <tr>\n",
       "      <td>3</td>\n",
       "      <td>1000007540</td>\n",
       "      <td>ToshiCapital Rekordz Needs Help to Complete Album</td>\n",
       "      <td>Music</td>\n",
       "      <td>Music</td>\n",
       "      <td>USD</td>\n",
       "      <td>2012-04-16</td>\n",
       "      <td>8.51719</td>\n",
       "      <td>2012-03-17 03:24:11</td>\n",
       "      <td>0.69315</td>\n",
       "      <td>failed</td>\n",
       "      <td>1</td>\n",
       "      <td>US</td>\n",
       "      <td>0.69315</td>\n",
       "      <td>0.69315</td>\n",
       "      <td>8.51719</td>\n",
       "    </tr>\n",
       "    <tr>\n",
       "      <td>4</td>\n",
       "      <td>1000011046</td>\n",
       "      <td>Community Film Project: The Art of Neighborhoo...</td>\n",
       "      <td>Film &amp; Video</td>\n",
       "      <td>Film &amp; Video</td>\n",
       "      <td>USD</td>\n",
       "      <td>2015-08-29</td>\n",
       "      <td>9.87817</td>\n",
       "      <td>2015-07-04 08:35:03</td>\n",
       "      <td>7.15774</td>\n",
       "      <td>canceled</td>\n",
       "      <td>14</td>\n",
       "      <td>US</td>\n",
       "      <td>7.15774</td>\n",
       "      <td>7.15774</td>\n",
       "      <td>9.87817</td>\n",
       "    </tr>\n",
       "  </tbody>\n",
       "</table>\n",
       "</div>"
      ],
      "text/plain": [
       "           ID                                               name  \\\n",
       "0  1000002330                    The Songs of Adelaide & Abullah   \n",
       "1  1000003930      Greeting From Earth: ZGAC Arts Capsule For ET   \n",
       "2  1000004038                                     Where is Hank?   \n",
       "3  1000007540  ToshiCapital Rekordz Needs Help to Complete Album   \n",
       "4  1000011046  Community Film Project: The Art of Neighborhoo...   \n",
       "\n",
       "         category main_category currency    deadline     goal  \\\n",
       "0          Poetry    Publishing      GBP  2015-10-09  6.90776   \n",
       "1  Narrative Film  Film & Video      USD  2017-11-01 10.30895   \n",
       "2  Narrative Film  Film & Video      USD  2013-02-26 10.71442   \n",
       "3           Music         Music      USD  2012-04-16  8.51719   \n",
       "4    Film & Video  Film & Video      USD  2015-08-29  9.87817   \n",
       "\n",
       "              launched  pledged     state  backers country  usd pledged  \\\n",
       "0  2015-08-11 12:12:28  0.00000    failed        0      GB      0.00000   \n",
       "1  2017-09-02 04:43:57  7.79235    failed       15      US      4.61512   \n",
       "2  2013-01-12 00:20:50  5.39816    failed        3      US      5.39816   \n",
       "3  2012-03-17 03:24:11  0.69315    failed        1      US      0.69315   \n",
       "4  2015-07-04 08:35:03  7.15774  canceled       14      US      7.15774   \n",
       "\n",
       "   usd_pledged_real  usd_goal_real  \n",
       "0           0.00000        7.33560  \n",
       "1           7.79235       10.30895  \n",
       "2           5.39816       10.71442  \n",
       "3           0.69315        8.51719  \n",
       "4           7.15774        9.87817  "
      ]
     },
     "execution_count": 48,
     "metadata": {},
     "output_type": "execute_result"
    }
   ],
   "source": [
    "starts_2.head()"
   ]
  },
  {
   "cell_type": "code",
   "execution_count": 51,
   "metadata": {},
   "outputs": [
    {
     "data": {
      "text/plain": [
       "(array([ 8305., 12028., 26317., 56758., 86588., 75569., 60949., 28550.,\n",
       "        14634.,  8963.]),\n",
       " array([ 4.31748811,  5.17566128,  6.03383446,  6.89200763,  7.7501808 ,\n",
       "         8.60835397,  9.46652714, 10.32470031, 11.18287348, 12.04104665,\n",
       "        12.89921983]),\n",
       " <a list of 10 Patch objects>)"
      ]
     },
     "execution_count": 51,
     "metadata": {},
     "output_type": "execute_result"
    },
    {
     "data": {
      "image/png": "[encoded data removed]",
      "text/plain": [
       "<Figure size 432x288 with 1 Axes>"
      ]
     },
     "metadata": {
      "needs_background": "light"
     },
     "output_type": "display_data"
    }
   ],
   "source": [
    "plt.hist(starts_2['goal'])"
   ]
  },
  {
   "cell_type": "code",
   "execution_count": 52,
   "metadata": {},
   "outputs": [],
   "source": [
    "starts_2['success_pleged_ration']= (starts['pledged']*100)/starts['goal']"
   ]
  },
  {
   "cell_type": "code",
   "execution_count": 53,
   "metadata": {},
   "outputs": [
    {
     "data": {
      "text/html": [
       "<div>\n",
       "<style scoped>\n",
       "    .dataframe tbody tr th:only-of-type {\n",
       "        vertical-align: middle;\n",
       "    }\n",
       "\n",
       "    .dataframe tbody tr th {\n",
       "        vertical-align: top;\n",
       "    }\n",
       "\n",
       "    .dataframe thead th {\n",
       "        text-align: right;\n",
       "    }\n",
       "</style>\n",
       "<table border=\"1\" class=\"dataframe\">\n",
       "  <thead>\n",
       "    <tr style=\"text-align: right;\">\n",
       "      <th></th>\n",
       "      <th>ID</th>\n",
       "      <th>name</th>\n",
       "      <th>category</th>\n",
       "      <th>main_category</th>\n",
       "      <th>currency</th>\n",
       "      <th>deadline</th>\n",
       "      <th>goal</th>\n",
       "      <th>launched</th>\n",
       "      <th>pledged</th>\n",
       "      <th>state</th>\n",
       "      <th>backers</th>\n",
       "      <th>country</th>\n",
       "      <th>usd pledged</th>\n",
       "      <th>usd_pledged_real</th>\n",
       "      <th>usd_goal_real</th>\n",
       "      <th>success_pleged_ration</th>\n",
       "    </tr>\n",
       "  </thead>\n",
       "  <tbody>\n",
       "    <tr>\n",
       "      <td>0</td>\n",
       "      <td>1000002330</td>\n",
       "      <td>The Songs of Adelaide &amp; Abullah</td>\n",
       "      <td>Poetry</td>\n",
       "      <td>Publishing</td>\n",
       "      <td>GBP</td>\n",
       "      <td>2015-10-09</td>\n",
       "      <td>6.90776</td>\n",
       "      <td>2015-08-11 12:12:28</td>\n",
       "      <td>0.00000</td>\n",
       "      <td>failed</td>\n",
       "      <td>0</td>\n",
       "      <td>GB</td>\n",
       "      <td>0.00000</td>\n",
       "      <td>0.00000</td>\n",
       "      <td>7.33560</td>\n",
       "      <td>0.00000</td>\n",
       "    </tr>\n",
       "    <tr>\n",
       "      <td>1</td>\n",
       "      <td>1000003930</td>\n",
       "      <td>Greeting From Earth: ZGAC Arts Capsule For ET</td>\n",
       "      <td>Narrative Film</td>\n",
       "      <td>Film &amp; Video</td>\n",
       "      <td>USD</td>\n",
       "      <td>2017-11-01</td>\n",
       "      <td>10.30895</td>\n",
       "      <td>2017-09-02 04:43:57</td>\n",
       "      <td>7.79235</td>\n",
       "      <td>failed</td>\n",
       "      <td>15</td>\n",
       "      <td>US</td>\n",
       "      <td>4.61512</td>\n",
       "      <td>7.79235</td>\n",
       "      <td>10.30895</td>\n",
       "      <td>8.07000</td>\n",
       "    </tr>\n",
       "    <tr>\n",
       "      <td>2</td>\n",
       "      <td>1000004038</td>\n",
       "      <td>Where is Hank?</td>\n",
       "      <td>Narrative Film</td>\n",
       "      <td>Film &amp; Video</td>\n",
       "      <td>USD</td>\n",
       "      <td>2013-02-26</td>\n",
       "      <td>10.71442</td>\n",
       "      <td>2013-01-12 00:20:50</td>\n",
       "      <td>5.39816</td>\n",
       "      <td>failed</td>\n",
       "      <td>3</td>\n",
       "      <td>US</td>\n",
       "      <td>5.39816</td>\n",
       "      <td>5.39816</td>\n",
       "      <td>10.71442</td>\n",
       "      <td>0.48889</td>\n",
       "    </tr>\n",
       "    <tr>\n",
       "      <td>3</td>\n",
       "      <td>1000007540</td>\n",
       "      <td>ToshiCapital Rekordz Needs Help to Complete Album</td>\n",
       "      <td>Music</td>\n",
       "      <td>Music</td>\n",
       "      <td>USD</td>\n",
       "      <td>2012-04-16</td>\n",
       "      <td>8.51719</td>\n",
       "      <td>2012-03-17 03:24:11</td>\n",
       "      <td>0.69315</td>\n",
       "      <td>failed</td>\n",
       "      <td>1</td>\n",
       "      <td>US</td>\n",
       "      <td>0.69315</td>\n",
       "      <td>0.69315</td>\n",
       "      <td>8.51719</td>\n",
       "      <td>0.02000</td>\n",
       "    </tr>\n",
       "    <tr>\n",
       "      <td>4</td>\n",
       "      <td>1000011046</td>\n",
       "      <td>Community Film Project: The Art of Neighborhoo...</td>\n",
       "      <td>Film &amp; Video</td>\n",
       "      <td>Film &amp; Video</td>\n",
       "      <td>USD</td>\n",
       "      <td>2015-08-29</td>\n",
       "      <td>9.87817</td>\n",
       "      <td>2015-07-04 08:35:03</td>\n",
       "      <td>7.15774</td>\n",
       "      <td>canceled</td>\n",
       "      <td>14</td>\n",
       "      <td>US</td>\n",
       "      <td>7.15774</td>\n",
       "      <td>7.15774</td>\n",
       "      <td>9.87817</td>\n",
       "      <td>6.57949</td>\n",
       "    </tr>\n",
       "  </tbody>\n",
       "</table>\n",
       "</div>"
      ],
      "text/plain": [
       "           ID                                               name  \\\n",
       "0  1000002330                    The Songs of Adelaide & Abullah   \n",
       "1  1000003930      Greeting From Earth: ZGAC Arts Capsule For ET   \n",
       "2  1000004038                                     Where is Hank?   \n",
       "3  1000007540  ToshiCapital Rekordz Needs Help to Complete Album   \n",
       "4  1000011046  Community Film Project: The Art of Neighborhoo...   \n",
       "\n",
       "         category main_category currency    deadline     goal  \\\n",
       "0          Poetry    Publishing      GBP  2015-10-09  6.90776   \n",
       "1  Narrative Film  Film & Video      USD  2017-11-01 10.30895   \n",
       "2  Narrative Film  Film & Video      USD  2013-02-26 10.71442   \n",
       "3           Music         Music      USD  2012-04-16  8.51719   \n",
       "4    Film & Video  Film & Video      USD  2015-08-29  9.87817   \n",
       "\n",
       "              launched  pledged     state  backers country  usd pledged  \\\n",
       "0  2015-08-11 12:12:28  0.00000    failed        0      GB      0.00000   \n",
       "1  2017-09-02 04:43:57  7.79235    failed       15      US      4.61512   \n",
       "2  2013-01-12 00:20:50  5.39816    failed        3      US      5.39816   \n",
       "3  2012-03-17 03:24:11  0.69315    failed        1      US      0.69315   \n",
       "4  2015-07-04 08:35:03  7.15774  canceled       14      US      7.15774   \n",
       "\n",
       "   usd_pledged_real  usd_goal_real  success_pleged_ration  \n",
       "0           0.00000        7.33560                0.00000  \n",
       "1           7.79235       10.30895                8.07000  \n",
       "2           5.39816       10.71442                0.48889  \n",
       "3           0.69315        8.51719                0.02000  \n",
       "4           7.15774        9.87817                6.57949  "
      ]
     },
     "execution_count": 53,
     "metadata": {},
     "output_type": "execute_result"
    }
   ],
   "source": [
    "starts_2.head()"
   ]
  },
  {
   "cell_type": "code",
   "execution_count": 55,
   "metadata": {},
   "outputs": [
    {
     "data": {
      "image/png": "[encoded data removed]",
      "text/plain": [
       "<Figure size 1584x1080 with 10 Axes>"
      ]
     },
     "metadata": {
      "needs_background": "light"
     },
     "output_type": "display_data"
    }
   ],
   "source": [
    "plt.figure(figsize=(22,15))\n",
    "log_columns=['goal','pledged','usd pledged','usd_pledged_real','usd_goal_real','success_pleged_ration']\n",
    "    \n",
    "for i in range(5):\n",
    "    plt.subplot(2, 5, i+1)\n",
    "    plt.hist(starts_2[log_columns[i]])\n",
    "    plt.title(log_columns[i] + ' (logarithmic expression)', fontdict=title_font)\n",
    "for i in range(5):\n",
    "    plt.subplot(2, 5, i+6)\n",
    "    plt.boxplot(starts_2[log_columns[i]])\n",
    "    plt.title(log_columns[i] + ' (logarithmic expression)', fontdict=title_font)"
   ]
  },
  {
   "cell_type": "code",
   "execution_count": 56,
   "metadata": {},
   "outputs": [
    {
     "data": {
      "text/html": [
       "<div>\n",
       "<style scoped>\n",
       "    .dataframe tbody tr th:only-of-type {\n",
       "        vertical-align: middle;\n",
       "    }\n",
       "\n",
       "    .dataframe tbody tr th {\n",
       "        vertical-align: top;\n",
       "    }\n",
       "\n",
       "    .dataframe thead th {\n",
       "        text-align: right;\n",
       "    }\n",
       "</style>\n",
       "<table border=\"1\" class=\"dataframe\">\n",
       "  <thead>\n",
       "    <tr style=\"text-align: right;\">\n",
       "      <th></th>\n",
       "      <th>ID</th>\n",
       "      <th>goal</th>\n",
       "      <th>pledged</th>\n",
       "      <th>backers</th>\n",
       "      <th>usd pledged</th>\n",
       "      <th>usd_pledged_real</th>\n",
       "      <th>usd_goal_real</th>\n",
       "      <th>success_pleged_ration</th>\n",
       "    </tr>\n",
       "  </thead>\n",
       "  <tbody>\n",
       "    <tr>\n",
       "      <td>ID</td>\n",
       "      <td>1.00000</td>\n",
       "      <td>-0.00109</td>\n",
       "      <td>-0.00127</td>\n",
       "      <td>0.00065</td>\n",
       "      <td>-0.00570</td>\n",
       "      <td>-0.00142</td>\n",
       "      <td>-0.00129</td>\n",
       "      <td>-0.00084</td>\n",
       "    </tr>\n",
       "    <tr>\n",
       "      <td>goal</td>\n",
       "      <td>-0.00109</td>\n",
       "      <td>1.00000</td>\n",
       "      <td>0.14642</td>\n",
       "      <td>0.08829</td>\n",
       "      <td>0.11993</td>\n",
       "      <td>0.13211</td>\n",
       "      <td>0.98070</td>\n",
       "      <td>-0.02462</td>\n",
       "    </tr>\n",
       "    <tr>\n",
       "      <td>pledged</td>\n",
       "      <td>-0.00127</td>\n",
       "      <td>0.14642</td>\n",
       "      <td>1.00000</td>\n",
       "      <td>0.18537</td>\n",
       "      <td>0.92398</td>\n",
       "      <td>0.99618</td>\n",
       "      <td>0.13905</td>\n",
       "      <td>0.01363</td>\n",
       "    </tr>\n",
       "    <tr>\n",
       "      <td>backers</td>\n",
       "      <td>0.00065</td>\n",
       "      <td>0.08829</td>\n",
       "      <td>0.18537</td>\n",
       "      <td>1.00000</td>\n",
       "      <td>0.17490</td>\n",
       "      <td>0.18614</td>\n",
       "      <td>0.08986</td>\n",
       "      <td>0.01661</td>\n",
       "    </tr>\n",
       "    <tr>\n",
       "      <td>usd pledged</td>\n",
       "      <td>-0.00570</td>\n",
       "      <td>0.11993</td>\n",
       "      <td>0.92398</td>\n",
       "      <td>0.17490</td>\n",
       "      <td>1.00000</td>\n",
       "      <td>0.93112</td>\n",
       "      <td>0.13433</td>\n",
       "      <td>0.01200</td>\n",
       "    </tr>\n",
       "    <tr>\n",
       "      <td>usd_pledged_real</td>\n",
       "      <td>-0.00142</td>\n",
       "      <td>0.13211</td>\n",
       "      <td>0.99618</td>\n",
       "      <td>0.18614</td>\n",
       "      <td>0.93112</td>\n",
       "      <td>1.00000</td>\n",
       "      <td>0.13997</td>\n",
       "      <td>0.01367</td>\n",
       "    </tr>\n",
       "    <tr>\n",
       "      <td>usd_goal_real</td>\n",
       "      <td>-0.00129</td>\n",
       "      <td>0.98070</td>\n",
       "      <td>0.13905</td>\n",
       "      <td>0.08986</td>\n",
       "      <td>0.13433</td>\n",
       "      <td>0.13997</td>\n",
       "      <td>1.00000</td>\n",
       "      <td>-0.02501</td>\n",
       "    </tr>\n",
       "    <tr>\n",
       "      <td>success_pleged_ration</td>\n",
       "      <td>-0.00084</td>\n",
       "      <td>-0.02462</td>\n",
       "      <td>0.01363</td>\n",
       "      <td>0.01661</td>\n",
       "      <td>0.01200</td>\n",
       "      <td>0.01367</td>\n",
       "      <td>-0.02501</td>\n",
       "      <td>1.00000</td>\n",
       "    </tr>\n",
       "  </tbody>\n",
       "</table>\n",
       "</div>"
      ],
      "text/plain": [
       "                            ID     goal  pledged  backers  usd pledged  \\\n",
       "ID                     1.00000 -0.00109 -0.00127  0.00065     -0.00570   \n",
       "goal                  -0.00109  1.00000  0.14642  0.08829      0.11993   \n",
       "pledged               -0.00127  0.14642  1.00000  0.18537      0.92398   \n",
       "backers                0.00065  0.08829  0.18537  1.00000      0.17490   \n",
       "usd pledged           -0.00570  0.11993  0.92398  0.17490      1.00000   \n",
       "usd_pledged_real      -0.00142  0.13211  0.99618  0.18614      0.93112   \n",
       "usd_goal_real         -0.00129  0.98070  0.13905  0.08986      0.13433   \n",
       "success_pleged_ration -0.00084 -0.02462  0.01363  0.01661      0.01200   \n",
       "\n",
       "                       usd_pledged_real  usd_goal_real  success_pleged_ration  \n",
       "ID                             -0.00142       -0.00129               -0.00084  \n",
       "goal                            0.13211        0.98070               -0.02462  \n",
       "pledged                         0.99618        0.13905                0.01363  \n",
       "backers                         0.18614        0.08986                0.01661  \n",
       "usd pledged                     0.93112        0.13433                0.01200  \n",
       "usd_pledged_real                1.00000        0.13997                0.01367  \n",
       "usd_goal_real                   0.13997        1.00000               -0.02501  \n",
       "success_pleged_ration           0.01367       -0.02501                1.00000  "
      ]
     },
     "metadata": {},
     "output_type": "display_data"
    }
   ],
   "source": [
    "corr_starts_2=starts_2.corr()\n",
    "display(corr_starts_2)"
   ]
  },
  {
   "cell_type": "code",
   "execution_count": 58,
   "metadata": {},
   "outputs": [
    {
     "data": {
      "image/png": "[encoded data removed]",
      "text/plain": [
       "<Figure size 1296x360 with 2 Axes>"
      ]
     },
     "metadata": {
      "needs_background": "light"
     },
     "output_type": "display_data"
    }
   ],
   "source": [
    "plt.figure(figsize=(18,5))\n",
    "sns.heatmap(corr_starts_2, square=True, annot=True, linewidths=.5, vmin=0, vmax=1, cmap='viridis')\n",
    "plt.title(\"Correlation Matrix (Starts_2)\", fontdict=title_font)\n",
    "\n",
    "plt.show()"
   ]
  },
  {
   "cell_type": "markdown",
   "metadata": {},
   "source": [
    "# Visualization Process"
   ]
  },
  {
   "cell_type": "code",
   "execution_count": 59,
   "metadata": {},
   "outputs": [
    {
     "data": {
      "text/html": [
       "<div>\n",
       "<style scoped>\n",
       "    .dataframe tbody tr th:only-of-type {\n",
       "        vertical-align: middle;\n",
       "    }\n",
       "\n",
       "    .dataframe tbody tr th {\n",
       "        vertical-align: top;\n",
       "    }\n",
       "\n",
       "    .dataframe thead th {\n",
       "        text-align: right;\n",
       "    }\n",
       "</style>\n",
       "<table border=\"1\" class=\"dataframe\">\n",
       "  <thead>\n",
       "    <tr style=\"text-align: right;\">\n",
       "      <th></th>\n",
       "      <th>ID</th>\n",
       "      <th>name</th>\n",
       "      <th>category</th>\n",
       "      <th>main_category</th>\n",
       "      <th>currency</th>\n",
       "      <th>deadline</th>\n",
       "      <th>goal</th>\n",
       "      <th>launched</th>\n",
       "      <th>pledged</th>\n",
       "      <th>state</th>\n",
       "      <th>backers</th>\n",
       "      <th>country</th>\n",
       "      <th>usd pledged</th>\n",
       "      <th>usd_pledged_real</th>\n",
       "      <th>usd_goal_real</th>\n",
       "      <th>success_pleged_ration</th>\n",
       "    </tr>\n",
       "  </thead>\n",
       "  <tbody>\n",
       "    <tr>\n",
       "      <td>0</td>\n",
       "      <td>1000002330</td>\n",
       "      <td>The Songs of Adelaide &amp; Abullah</td>\n",
       "      <td>Poetry</td>\n",
       "      <td>Publishing</td>\n",
       "      <td>GBP</td>\n",
       "      <td>2015-10-09</td>\n",
       "      <td>6.90776</td>\n",
       "      <td>2015-08-11 12:12:28</td>\n",
       "      <td>0.00000</td>\n",
       "      <td>failed</td>\n",
       "      <td>0</td>\n",
       "      <td>GB</td>\n",
       "      <td>0.00000</td>\n",
       "      <td>0.00000</td>\n",
       "      <td>7.33560</td>\n",
       "      <td>0.00000</td>\n",
       "    </tr>\n",
       "    <tr>\n",
       "      <td>1</td>\n",
       "      <td>1000003930</td>\n",
       "      <td>Greeting From Earth: ZGAC Arts Capsule For ET</td>\n",
       "      <td>Narrative Film</td>\n",
       "      <td>Film &amp; Video</td>\n",
       "      <td>USD</td>\n",
       "      <td>2017-11-01</td>\n",
       "      <td>10.30895</td>\n",
       "      <td>2017-09-02 04:43:57</td>\n",
       "      <td>7.79235</td>\n",
       "      <td>failed</td>\n",
       "      <td>15</td>\n",
       "      <td>US</td>\n",
       "      <td>4.61512</td>\n",
       "      <td>7.79235</td>\n",
       "      <td>10.30895</td>\n",
       "      <td>8.07000</td>\n",
       "    </tr>\n",
       "    <tr>\n",
       "      <td>2</td>\n",
       "      <td>1000004038</td>\n",
       "      <td>Where is Hank?</td>\n",
       "      <td>Narrative Film</td>\n",
       "      <td>Film &amp; Video</td>\n",
       "      <td>USD</td>\n",
       "      <td>2013-02-26</td>\n",
       "      <td>10.71442</td>\n",
       "      <td>2013-01-12 00:20:50</td>\n",
       "      <td>5.39816</td>\n",
       "      <td>failed</td>\n",
       "      <td>3</td>\n",
       "      <td>US</td>\n",
       "      <td>5.39816</td>\n",
       "      <td>5.39816</td>\n",
       "      <td>10.71442</td>\n",
       "      <td>0.48889</td>\n",
       "    </tr>\n",
       "    <tr>\n",
       "      <td>3</td>\n",
       "      <td>1000007540</td>\n",
       "      <td>ToshiCapital Rekordz Needs Help to Complete Album</td>\n",
       "      <td>Music</td>\n",
       "      <td>Music</td>\n",
       "      <td>USD</td>\n",
       "      <td>2012-04-16</td>\n",
       "      <td>8.51719</td>\n",
       "      <td>2012-03-17 03:24:11</td>\n",
       "      <td>0.69315</td>\n",
       "      <td>failed</td>\n",
       "      <td>1</td>\n",
       "      <td>US</td>\n",
       "      <td>0.69315</td>\n",
       "      <td>0.69315</td>\n",
       "      <td>8.51719</td>\n",
       "      <td>0.02000</td>\n",
       "    </tr>\n",
       "    <tr>\n",
       "      <td>4</td>\n",
       "      <td>1000011046</td>\n",
       "      <td>Community Film Project: The Art of Neighborhoo...</td>\n",
       "      <td>Film &amp; Video</td>\n",
       "      <td>Film &amp; Video</td>\n",
       "      <td>USD</td>\n",
       "      <td>2015-08-29</td>\n",
       "      <td>9.87817</td>\n",
       "      <td>2015-07-04 08:35:03</td>\n",
       "      <td>7.15774</td>\n",
       "      <td>canceled</td>\n",
       "      <td>14</td>\n",
       "      <td>US</td>\n",
       "      <td>7.15774</td>\n",
       "      <td>7.15774</td>\n",
       "      <td>9.87817</td>\n",
       "      <td>6.57949</td>\n",
       "    </tr>\n",
       "  </tbody>\n",
       "</table>\n",
       "</div>"
      ],
      "text/plain": [
       "           ID                                               name  \\\n",
       "0  1000002330                    The Songs of Adelaide & Abullah   \n",
       "1  1000003930      Greeting From Earth: ZGAC Arts Capsule For ET   \n",
       "2  1000004038                                     Where is Hank?   \n",
       "3  1000007540  ToshiCapital Rekordz Needs Help to Complete Album   \n",
       "4  1000011046  Community Film Project: The Art of Neighborhoo...   \n",
       "\n",
       "         category main_category currency    deadline     goal  \\\n",
       "0          Poetry    Publishing      GBP  2015-10-09  6.90776   \n",
       "1  Narrative Film  Film & Video      USD  2017-11-01 10.30895   \n",
       "2  Narrative Film  Film & Video      USD  2013-02-26 10.71442   \n",
       "3           Music         Music      USD  2012-04-16  8.51719   \n",
       "4    Film & Video  Film & Video      USD  2015-08-29  9.87817   \n",
       "\n",
       "              launched  pledged     state  backers country  usd pledged  \\\n",
       "0  2015-08-11 12:12:28  0.00000    failed        0      GB      0.00000   \n",
       "1  2017-09-02 04:43:57  7.79235    failed       15      US      4.61512   \n",
       "2  2013-01-12 00:20:50  5.39816    failed        3      US      5.39816   \n",
       "3  2012-03-17 03:24:11  0.69315    failed        1      US      0.69315   \n",
       "4  2015-07-04 08:35:03  7.15774  canceled       14      US      7.15774   \n",
       "\n",
       "   usd_pledged_real  usd_goal_real  success_pleged_ration  \n",
       "0           0.00000        7.33560                0.00000  \n",
       "1           7.79235       10.30895                8.07000  \n",
       "2           5.39816       10.71442                0.48889  \n",
       "3           0.69315        8.51719                0.02000  \n",
       "4           7.15774        9.87817                6.57949  "
      ]
     },
     "execution_count": 59,
     "metadata": {},
     "output_type": "execute_result"
    }
   ],
   "source": [
    "starts_2.head()"
   ]
  },
  {
   "cell_type": "code",
   "execution_count": 60,
   "metadata": {},
   "outputs": [
    {
     "name": "stdout",
     "output_type": "stream",
     "text": [
      "<class 'pandas.core.frame.DataFrame'>\n",
      "RangeIndex: 378661 entries, 0 to 378660\n",
      "Data columns (total 16 columns):\n",
      "ID                       378661 non-null int64\n",
      "name                     378661 non-null object\n",
      "category                 378661 non-null object\n",
      "main_category            378661 non-null object\n",
      "currency                 378661 non-null object\n",
      "deadline                 378661 non-null object\n",
      "goal                     378661 non-null float64\n",
      "launched                 378661 non-null object\n",
      "pledged                  378661 non-null float64\n",
      "state                    378661 non-null object\n",
      "backers                  378661 non-null int64\n",
      "country                  378661 non-null object\n",
      "usd pledged              378661 non-null float64\n",
      "usd_pledged_real         378661 non-null float64\n",
      "usd_goal_real            378661 non-null float64\n",
      "success_pleged_ration    378661 non-null float64\n",
      "dtypes: float64(6), int64(2), object(8)\n",
      "memory usage: 46.2+ MB\n"
     ]
    }
   ],
   "source": [
    "starts_2.info()"
   ]
  },
  {
   "cell_type": "code",
   "execution_count": 61,
   "metadata": {},
   "outputs": [],
   "source": [
    "def year_cut(string):\n",
    "    return string[0:4]\n",
    "starts_2['year'] = starts_2['launched'].apply(year_cut)\n",
    "starts_2['year'] = starts_2['year'].astype(int)"
   ]
  },
  {
   "cell_type": "code",
   "execution_count": 62,
   "metadata": {},
   "outputs": [],
   "source": [
    "from datetime import datetime\n",
    "starts_2['deadline']= pd.to_datetime(starts_2['deadline'])\n",
    "starts_2['launched']= pd.to_datetime(starts_2['launched'])"
   ]
  },
  {
   "cell_type": "code",
   "execution_count": 386,
   "metadata": {},
   "outputs": [
    {
     "name": "stdout",
     "output_type": "stream",
     "text": [
      "Categories in category:  159\n"
     ]
    },
    {
     "data": {
      "text/plain": [
       "<matplotlib.axes._subplots.AxesSubplot at 0x1d1409b5848>"
      ]
     },
     "execution_count": 386,
     "metadata": {},
     "output_type": "execute_result"
    },
    {
     "data": {
      "image/png": "[encoded data removed]",
      "text/plain": [
       "<Figure size 1008x432 with 1 Axes>"
      ]
     },
     "metadata": {
      "needs_background": "light"
     },
     "output_type": "display_data"
    }
   ],
   "source": [
    "print('Categories in category: ', starts_2['category'].nunique())\n",
    "starts_2['category'].value_counts()[:20].plot(kind='barh', \n",
    "                                        figsize=(14,6), \n",
    "                                        title='Top 20 most popular categories')"
   ]
  },
  {
   "cell_type": "code",
   "execution_count": 63,
   "metadata": {},
   "outputs": [
    {
     "data": {
      "image/png": "[encoded data removed]",
      "text/plain": [
       "<Figure size 2160x1440 with 1 Axes>"
      ]
     },
     "metadata": {
      "needs_background": "light"
     },
     "output_type": "display_data"
    }
   ],
   "source": [
    "#In which category did investors mostly donate?\n",
    "df=pd.DataFrame(starts_2.groupby('category')['pledged'].sum())\n",
    "df=df.reset_index()\n",
    "df\n",
    "\n",
    "df2=pd.DataFrame()\n",
    "df2= df[df.pledged>=40000]\n",
    "df2.head()\n",
    "df2.reset_index()\n",
    "df2\n",
    "plt.figure(figsize=(30,20))\n",
    "sns.barplot(df2['category'], y= df2['pledged'],\n",
    "            palette=\"Blues_d\", saturation = 0.5)\n",
    "sns.despine(right = True, top = True)"
   ]
  },
  {
   "cell_type": "code",
   "execution_count": 64,
   "metadata": {},
   "outputs": [
    {
     "data": {
      "image/png": "[encoded data removed]",
      "text/plain": [
       "<Figure size 1440x720 with 1 Axes>"
      ]
     },
     "metadata": {
      "needs_background": "light"
     },
     "output_type": "display_data"
    }
   ],
   "source": [
    "# In which year did investors invest the most?\n",
    "df=pd.DataFrame(starts_2.groupby(\"year\")[\"pledged\"].sum(),columns=['pledged'])\n",
    "df=df.reset_index()\n",
    "df\n",
    "plt.figure(figsize=(20,10))\n",
    "sns.barplot(df['year'], y= df['pledged'] ,\n",
    "            palette=\"Blues_d\", saturation = 0.5)\n",
    "sns.despine(right = True, top = True)"
   ]
  },
  {
   "cell_type": "code",
   "execution_count": 65,
   "metadata": {},
   "outputs": [
    {
     "data": {
      "image/png": "[encoded data removed]",
      "text/plain": [
       "<Figure size 2160x1440 with 1 Axes>"
      ]
     },
     "metadata": {
      "needs_background": "light"
     },
     "output_type": "display_data"
    }
   ],
   "source": [
    "#Which category has been the most successful?\n",
    "df=pd.DataFrame(starts_2.groupby('category')['success_pleged_ration'].mean())\n",
    "df=df.reset_index()\n",
    "df\n",
    "\n",
    "df2=pd.DataFrame()\n",
    "df2= df[df.success_pleged_ration>=1000]\n",
    "df2.head()\n",
    "df2.reset_index()\n",
    "df2\n",
    "\n",
    "\n",
    "plt.figure(figsize=(30,20))\n",
    "sns.barplot(df2['category'], y= df2['success_pleged_ration'],\n",
    "            palette=\"Blues_d\", saturation = 0.5)\n",
    "sns.despine(right = True, top = True)\n"
   ]
  },
  {
   "cell_type": "code",
   "execution_count": 67,
   "metadata": {},
   "outputs": [
    {
     "data": {
      "text/html": [
       "<div>\n",
       "<style scoped>\n",
       "    .dataframe tbody tr th:only-of-type {\n",
       "        vertical-align: middle;\n",
       "    }\n",
       "\n",
       "    .dataframe tbody tr th {\n",
       "        vertical-align: top;\n",
       "    }\n",
       "\n",
       "    .dataframe thead th {\n",
       "        text-align: right;\n",
       "    }\n",
       "</style>\n",
       "<table border=\"1\" class=\"dataframe\">\n",
       "  <thead>\n",
       "    <tr style=\"text-align: right;\">\n",
       "      <th>state</th>\n",
       "      <th>canceled</th>\n",
       "      <th>failed</th>\n",
       "      <th>live</th>\n",
       "      <th>successful</th>\n",
       "      <th>suspended</th>\n",
       "      <th>undefined</th>\n",
       "    </tr>\n",
       "    <tr>\n",
       "      <th>year</th>\n",
       "      <th></th>\n",
       "      <th></th>\n",
       "      <th></th>\n",
       "      <th></th>\n",
       "      <th></th>\n",
       "      <th></th>\n",
       "    </tr>\n",
       "  </thead>\n",
       "  <tbody>\n",
       "    <tr>\n",
       "      <td>1970</td>\n",
       "      <td>6</td>\n",
       "      <td>0</td>\n",
       "      <td>0</td>\n",
       "      <td>0</td>\n",
       "      <td>1</td>\n",
       "      <td>0</td>\n",
       "    </tr>\n",
       "    <tr>\n",
       "      <td>2009</td>\n",
       "      <td>150</td>\n",
       "      <td>600</td>\n",
       "      <td>0</td>\n",
       "      <td>579</td>\n",
       "      <td>0</td>\n",
       "      <td>0</td>\n",
       "    </tr>\n",
       "    <tr>\n",
       "      <td>2010</td>\n",
       "      <td>926</td>\n",
       "      <td>4984</td>\n",
       "      <td>0</td>\n",
       "      <td>4593</td>\n",
       "      <td>16</td>\n",
       "      <td>0</td>\n",
       "    </tr>\n",
       "    <tr>\n",
       "      <td>2011</td>\n",
       "      <td>2144</td>\n",
       "      <td>11878</td>\n",
       "      <td>0</td>\n",
       "      <td>12171</td>\n",
       "      <td>44</td>\n",
       "      <td>0</td>\n",
       "    </tr>\n",
       "    <tr>\n",
       "      <td>2012</td>\n",
       "      <td>2631</td>\n",
       "      <td>20588</td>\n",
       "      <td>0</td>\n",
       "      <td>17892</td>\n",
       "      <td>52</td>\n",
       "      <td>2</td>\n",
       "    </tr>\n",
       "    <tr>\n",
       "      <td>2013</td>\n",
       "      <td>3690</td>\n",
       "      <td>21686</td>\n",
       "      <td>0</td>\n",
       "      <td>19415</td>\n",
       "      <td>58</td>\n",
       "      <td>2</td>\n",
       "    </tr>\n",
       "    <tr>\n",
       "      <td>2014</td>\n",
       "      <td>7418</td>\n",
       "      <td>38199</td>\n",
       "      <td>0</td>\n",
       "      <td>21107</td>\n",
       "      <td>270</td>\n",
       "      <td>751</td>\n",
       "    </tr>\n",
       "    <tr>\n",
       "      <td>2015</td>\n",
       "      <td>8927</td>\n",
       "      <td>44301</td>\n",
       "      <td>0</td>\n",
       "      <td>20971</td>\n",
       "      <td>721</td>\n",
       "      <td>2380</td>\n",
       "    </tr>\n",
       "    <tr>\n",
       "      <td>2016</td>\n",
       "      <td>7119</td>\n",
       "      <td>30526</td>\n",
       "      <td>2</td>\n",
       "      <td>18766</td>\n",
       "      <td>344</td>\n",
       "      <td>427</td>\n",
       "    </tr>\n",
       "    <tr>\n",
       "      <td>2017</td>\n",
       "      <td>5766</td>\n",
       "      <td>24957</td>\n",
       "      <td>2675</td>\n",
       "      <td>18462</td>\n",
       "      <td>340</td>\n",
       "      <td>0</td>\n",
       "    </tr>\n",
       "    <tr>\n",
       "      <td>2018</td>\n",
       "      <td>2</td>\n",
       "      <td>0</td>\n",
       "      <td>122</td>\n",
       "      <td>0</td>\n",
       "      <td>0</td>\n",
       "      <td>0</td>\n",
       "    </tr>\n",
       "  </tbody>\n",
       "</table>\n",
       "</div>"
      ],
      "text/plain": [
       "state  canceled  failed  live  successful  suspended  undefined\n",
       "year                                                           \n",
       "1970          6       0     0           0          1          0\n",
       "2009        150     600     0         579          0          0\n",
       "2010        926    4984     0        4593         16          0\n",
       "2011       2144   11878     0       12171         44          0\n",
       "2012       2631   20588     0       17892         52          2\n",
       "2013       3690   21686     0       19415         58          2\n",
       "2014       7418   38199     0       21107        270        751\n",
       "2015       8927   44301     0       20971        721       2380\n",
       "2016       7119   30526     2       18766        344        427\n",
       "2017       5766   24957  2675       18462        340          0\n",
       "2018          2       0   122           0          0          0"
      ]
     },
     "execution_count": 67,
     "metadata": {},
     "output_type": "execute_result"
    }
   ],
   "source": [
    "# Which year has the most successful enterprise?\n",
    "adet_tablosu = pd.crosstab(starts_2[\"year\"], starts_2[\"state\"])\n",
    "adet_tablosu"
   ]
  },
  {
   "cell_type": "code",
   "execution_count": 69,
   "metadata": {},
   "outputs": [
    {
     "data": {
      "image/png": "[encoded data removed]",
      "text/plain": [
       "<Figure size 1296x720 with 1 Axes>"
      ]
     },
     "metadata": {
      "needs_background": "light"
     },
     "output_type": "display_data"
    }
   ],
   "source": [
    "#Which year has the most successful enterprise?\n",
    "\n",
    "plt.figure(figsize=(18,10))\n",
    "sns.countplot(y=\"year\", hue=\"state\", data=starts_2)\n",
    "plt.title(\"Yıllara Göre Başarılı Girişim Miktarı\", fontdict = title_font)\n",
    "plt.ylabel(\"YEARS\", fontdict = curve_font)\n",
    "plt.xlabel(\"STATE\", fontdict = curve_font)\n",
    "plt.show()"
   ]
  },
  {
   "cell_type": "code",
   "execution_count": 253,
   "metadata": {},
   "outputs": [],
   "source": [
    "#starts_2['success_pleged_ration']= (starts['pledged']*100)/starts['goal']"
   ]
  },
  {
   "cell_type": "code",
   "execution_count": 72,
   "metadata": {},
   "outputs": [
    {
     "data": {
      "image/png": "[encoded data removed]",
      "text/plain": [
       "<Figure size 1080x360 with 2 Axes>"
      ]
     },
     "metadata": {
      "needs_background": "light"
     },
     "output_type": "display_data"
    }
   ],
   "source": [
    "#How many of the startup have received the investment they targeted\n",
    "df=pd.DataFrame()\n",
    "df= starts_2[starts_2.success_pleged_ration<100]\n",
    "df=df.reset_index()\n",
    "df\n",
    "\n",
    "df2=pd.DataFrame()\n",
    "df2= starts_2[starts_2.success_pleged_ration>=100]\n",
    "df2.head()\n",
    "df2.reset_index()\n",
    "df2\n",
    "\n",
    "plt.figure(figsize=(15,5))\n",
    "plt.subplot(1,2,1)\n",
    "plt.hist(df['success_pleged_ration'])\n",
    "plt.title(\"not receive their targeted investment\",fontdict=title_font)\n",
    "plt.subplot(1,2,2)\n",
    "plt.hist(df2['success_pleged_ration'])\n",
    "plt.title(\"reaching their targeted investment\",fontdict=title_font)\n",
    "plt.show()"
   ]
  },
  {
   "cell_type": "code",
   "execution_count": 73,
   "metadata": {},
   "outputs": [
    {
     "data": {
      "image/png": "[encoded data removed]",
      "text/plain": [
       "<Figure size 432x288 with 1 Axes>"
      ]
     },
     "metadata": {
      "needs_background": "light"
     },
     "output_type": "display_data"
    }
   ],
   "source": [
    "plt.hist(starts_2[starts_2[\"success_pleged_ration\"]>=100].iloc[:,16], density=True, alpha=0.6)\n",
    "plt.hist(starts_2[starts_2[\"success_pleged_ration\"]<100].iloc[:,16], density=True, alpha=0.6)\n",
    "plt.title('reaching/not reaching their targeted investment',fontdict=title_font)\n",
    "plt.show()"
   ]
  },
  {
   "cell_type": "code",
   "execution_count": 74,
   "metadata": {},
   "outputs": [
    {
     "data": {
      "image/png": "[encoded data removed]",
      "text/plain": [
       "<Figure size 1440x720 with 1 Axes>"
      ]
     },
     "metadata": {
      "needs_background": "light"
     },
     "output_type": "display_data"
    }
   ],
   "source": [
    "#How many ventures were successful despite collecting the money he had targeted?\n",
    "df2=pd.DataFrame()\n",
    "df2= starts_2[starts_2.success_pleged_ration>=100]\n",
    "df2.reset_index()\n",
    "\n",
    "plt.figure(figsize=(20,10))\n",
    "sns.barplot(df2['state'], y= df2['success_pleged_ration'],\n",
    "            palette=\"Blues_d\", saturation = 0.5)\n",
    "plt.title(\"startups that take the investment they target\",fontdict=title_font)\n",
    "sns.despine(right = True, top = True)"
   ]
  },
  {
   "cell_type": "code",
   "execution_count": 75,
   "metadata": {},
   "outputs": [
    {
     "data": {
      "image/png": "[encoded data removed]",
      "text/plain": [
       "<Figure size 1440x720 with 1 Axes>"
      ]
     },
     "metadata": {
      "needs_background": "light"
     },
     "output_type": "display_data"
    }
   ],
   "source": [
    "#How many ventures were successful despite collecting the money he had not targeted?\n",
    "\n",
    "df=pd.DataFrame()\n",
    "df= starts_2[starts_2.success_pleged_ration<100]\n",
    "df=df.reset_index()\n",
    "\n",
    "plt.figure(figsize=(20,10))\n",
    "sns.barplot(df['state'], y= df['success_pleged_ration'],\n",
    "            palette=\"Blues_d\", saturation = 0.5)\n",
    "plt.title(\"startups that Not take the investment they target\",fontdict=title_font)\n",
    "sns.despine(right = True, top = True)\n"
   ]
  },
  {
   "cell_type": "code",
   "execution_count": 77,
   "metadata": {},
   "outputs": [
    {
     "data": {
      "image/png": "[encoded data removed]",
      "text/plain": [
       "<Figure size 1440x720 with 1 Axes>"
      ]
     },
     "metadata": {
      "needs_background": "light"
     },
     "output_type": "display_data"
    }
   ],
   "source": [
    "#which country has reached its targeted investment?\n",
    "\n",
    "df2=pd.DataFrame()\n",
    "df2= starts_2[starts_2.success_pleged_ration>=100]\n",
    "df2.reset_index()\n",
    "\n",
    "plt.figure(figsize=(20,10))\n",
    "sns.barplot(df2['country'], y= df2['success_pleged_ration'],\n",
    "            palette=\"Blues_d\", saturation = 0.5)\n",
    "plt.title(\"Most invested countries\",fontdict=title_font)\n",
    "sns.despine(right = True, top = True)"
   ]
  },
  {
   "cell_type": "code",
   "execution_count": 81,
   "metadata": {},
   "outputs": [],
   "source": [
    "# t-test\n",
    "country = df2[\"country\"].unique()\n",
    "grup_country = df2.groupby(\"country\")"
   ]
  },
  {
   "cell_type": "code",
   "execution_count": 82,
   "metadata": {},
   "outputs": [
    {
     "name": "stdout",
     "output_type": "stream",
     "text": [
      "success_pleged_ration için karşılaştırma"
     ]
    },
    {
     "data": {
      "text/html": [
       "<div>\n",
       "<style scoped>\n",
       "    .dataframe tbody tr th:only-of-type {\n",
       "        vertical-align: middle;\n",
       "    }\n",
       "\n",
       "    .dataframe tbody tr th {\n",
       "        vertical-align: top;\n",
       "    }\n",
       "\n",
       "    .dataframe thead th {\n",
       "        text-align: right;\n",
       "    }\n",
       "</style>\n",
       "<table border=\"1\" class=\"dataframe\">\n",
       "  <thead>\n",
       "    <tr style=\"text-align: right;\">\n",
       "      <th></th>\n",
       "      <th>grup_1</th>\n",
       "      <th>grup_2</th>\n",
       "      <th>istatistik</th>\n",
       "      <th>p_degeri</th>\n",
       "    </tr>\n",
       "  </thead>\n",
       "  <tbody>\n",
       "    <tr>\n",
       "      <td>0</td>\n",
       "      <td>US</td>\n",
       "      <td>GB</td>\n",
       "      <td>1.59378</td>\n",
       "      <td>0.11099</td>\n",
       "    </tr>\n",
       "    <tr>\n",
       "      <td>1</td>\n",
       "      <td>US</td>\n",
       "      <td>CA</td>\n",
       "      <td>-0.12791</td>\n",
       "      <td>0.89822</td>\n",
       "    </tr>\n",
       "    <tr>\n",
       "      <td>2</td>\n",
       "      <td>US</td>\n",
       "      <td>AU</td>\n",
       "      <td>0.53135</td>\n",
       "      <td>0.59518</td>\n",
       "    </tr>\n",
       "    <tr>\n",
       "      <td>3</td>\n",
       "      <td>US</td>\n",
       "      <td>IT</td>\n",
       "      <td>0.20867</td>\n",
       "      <td>0.83471</td>\n",
       "    </tr>\n",
       "    <tr>\n",
       "      <td>4</td>\n",
       "      <td>US</td>\n",
       "      <td>MX</td>\n",
       "      <td>0.23159</td>\n",
       "      <td>0.81685</td>\n",
       "    </tr>\n",
       "    <tr>\n",
       "      <td>...</td>\n",
       "      <td>...</td>\n",
       "      <td>...</td>\n",
       "      <td>...</td>\n",
       "      <td>...</td>\n",
       "    </tr>\n",
       "    <tr>\n",
       "      <td>248</td>\n",
       "      <td>DK</td>\n",
       "      <td>LU</td>\n",
       "      <td>0.83354</td>\n",
       "      <td>0.40505</td>\n",
       "    </tr>\n",
       "    <tr>\n",
       "      <td>249</td>\n",
       "      <td>DK</td>\n",
       "      <td>JP</td>\n",
       "      <td>0.83824</td>\n",
       "      <td>0.40242</td>\n",
       "    </tr>\n",
       "    <tr>\n",
       "      <td>250</td>\n",
       "      <td>AT</td>\n",
       "      <td>LU</td>\n",
       "      <td>0.78040</td>\n",
       "      <td>0.43657</td>\n",
       "    </tr>\n",
       "    <tr>\n",
       "      <td>251</td>\n",
       "      <td>AT</td>\n",
       "      <td>JP</td>\n",
       "      <td>0.60335</td>\n",
       "      <td>0.54744</td>\n",
       "    </tr>\n",
       "    <tr>\n",
       "      <td>252</td>\n",
       "      <td>LU</td>\n",
       "      <td>JP</td>\n",
       "      <td>0.82564</td>\n",
       "      <td>0.41714</td>\n",
       "    </tr>\n",
       "  </tbody>\n",
       "</table>\n",
       "<p>253 rows × 4 columns</p>\n",
       "</div>"
      ],
      "text/plain": [
       "    grup_1 grup_2  istatistik  p_degeri\n",
       "0       US     GB     1.59378   0.11099\n",
       "1       US     CA    -0.12791   0.89822\n",
       "2       US     AU     0.53135   0.59518\n",
       "3       US     IT     0.20867   0.83471\n",
       "4       US     MX     0.23159   0.81685\n",
       "..     ...    ...         ...       ...\n",
       "248     DK     LU     0.83354   0.40505\n",
       "249     DK     JP     0.83824   0.40242\n",
       "250     AT     LU     0.78040   0.43657\n",
       "251     AT     JP     0.60335   0.54744\n",
       "252     LU     JP     0.82564   0.41714\n",
       "\n",
       "[253 rows x 4 columns]"
      ]
     },
     "metadata": {},
     "output_type": "display_data"
    }
   ],
   "source": [
    "import scipy.stats as stats\n",
    "#pd.options.display.float_format = '{:.15f}'.format\n",
    "for var in [\"success_pleged_ration\"]:\n",
    "    karsilastirma = pd.DataFrame(columns=['grup_1', 'grup_2','istatistik', 'p_degeri'])\n",
    "    print(\"{} için karşılaştırma\".format(var),end='')\n",
    "    for i in range(0, len(country)):\n",
    "        for j in range(i+1, len(country)):\n",
    "            ttest = stats.ttest_ind(df2[df2[\"country\"]==country[i]][var], \n",
    "                                df2[df2[\"country\"]==country[j]][var])\n",
    "            grup_1 = country[i]\n",
    "            grup_2 = country[j]\n",
    "            istatistik = ttest[0]\n",
    "            p_degeri = ttest[1]\n",
    "            \n",
    "            karsilastirma = karsilastirma.append({\"grup_1\" : grup_1 ,\n",
    "                                                  \"grup_2\" : grup_2 ,\n",
    "                                                  \"istatistik\": istatistik , \n",
    "                                                  \"p_degeri\" : p_degeri}, ignore_index=True)\n",
    "    display(karsilastirma)"
   ]
  },
  {
   "cell_type": "code",
   "execution_count": 83,
   "metadata": {},
   "outputs": [
    {
     "data": {
      "text/plain": [
       "Text(0.5, 1, 'According to countries ; Success/Fail')"
      ]
     },
     "execution_count": 83,
     "metadata": {},
     "output_type": "execute_result"
    },
    {
     "data": {
      "text/plain": [
       "<Figure size 1440x1080 with 0 Axes>"
      ]
     },
     "metadata": {},
     "output_type": "display_data"
    },
    {
     "data": {
      "image/png": "[encoded data removed]",
      "text/plain": [
       "<Figure size 450.5x360 with 1 Axes>"
      ]
     },
     "metadata": {
      "needs_background": "light"
     },
     "output_type": "display_data"
    }
   ],
   "source": [
    "#which countries have been successful?\n",
    "plt.figure(figsize=(20,15))\n",
    "sns.catplot(y=\"country\", hue=\"state\", kind=\"count\",\n",
    "            palette=\"pastel\", edgecolor=\".6\",\n",
    "            data=starts_2)\n",
    "plt.title(\"According to countries ; Success/Fail\", fontdict = title_font)\n"
   ]
  },
  {
   "cell_type": "code",
   "execution_count": null,
   "metadata": {},
   "outputs": [],
   "source": []
  },
  {
   "cell_type": "code",
   "execution_count": null,
   "metadata": {},
   "outputs": [],
   "source": []
  },
  {
   "cell_type": "code",
   "execution_count": null,
   "metadata": {},
   "outputs": [],
   "source": []
  },
  {
   "cell_type": "code",
   "execution_count": null,
   "metadata": {},
   "outputs": [],
   "source": []
  },
  {
   "cell_type": "code",
   "execution_count": null,
   "metadata": {},
   "outputs": [],
   "source": []
  },
  {
   "cell_type": "code",
   "execution_count": null,
   "metadata": {},
   "outputs": [],
   "source": []
  },
  {
   "cell_type": "code",
   "execution_count": null,
   "metadata": {},
   "outputs": [],
   "source": []
  },
  {
   "cell_type": "code",
   "execution_count": null,
   "metadata": {},
   "outputs": [],
   "source": []
  },
  {
   "cell_type": "code",
   "execution_count": null,
   "metadata": {},
   "outputs": [],
   "source": []
  },
  {
   "cell_type": "code",
   "execution_count": null,
   "metadata": {},
   "outputs": [],
   "source": []
  },
  {
   "cell_type": "code",
   "execution_count": null,
   "metadata": {},
   "outputs": [],
   "source": []
  }
 ],
 "metadata": {
  "kernelspec": {
   "display_name": "Python 3",
   "language": "python",
   "name": "python3"
  },
  "language_info": {
   "codemirror_mode": {
    "name": "ipython",
    "version": 3
   },
   "file_extension": ".py",
   "mimetype": "text/x-python",
   "name": "python",
   "nbconvert_exporter": "python",
   "pygments_lexer": "ipython3",
   "version": "3.7.4"
  }
 },
 "nbformat": 4,
 "nbformat_minor": 2
}
