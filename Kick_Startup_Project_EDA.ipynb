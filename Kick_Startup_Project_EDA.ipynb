{
 "cells": [
  {
   "cell_type": "code",
   "execution_count": 1,
   "metadata": {},
   "outputs": [],
   "source": [
    "import matplotlib.pyplot as plt \n",
    "import pandas as pd \n",
    "import numpy as np \n",
    "import seaborn as sns\n",
    "from scipy.stats.mstats import winsorize\n",
    "import scipy.stats as stats\n",
    "import warnings\n",
    "warnings.filterwarnings('ignore')\n",
    "\n",
    "pd.options.display.float_format= '{:.3f}'.format"
   ]
  },
  {
   "cell_type": "markdown",
   "metadata": {},
   "source": [
    "# Kickstarter Projects\n",
    "\n",
    "- ID:internal kickstarter id\n",
    "- name:name of project - A project is a finite work with a clear goal that you’d like to bring to life. Think albums, books, or films.\n",
    "- category:category\n",
    "- main_category:category of campaign\n",
    "- currency:currency used to support\n",
    "- deadline:deadline for crowdfunding\n",
    "- goal:fundraising goal The funding goal is the amount of money that a creator needs to complete their project.\n",
    "- launched:date launched\n",
    "- pledged:amount pledged by \"crowd\"\n",
    "- state:Current condition the project is in\n",
    "- backers:number of backers\n",
    "- country:country pledged from\n",
    "- usd pledged:amount of money pledged"
   ]
  },
  {
   "cell_type": "markdown",
   "metadata": {},
   "source": [
    "## Sorular \n",
    "- Bir girişim hangi şartlar altında başarılı olmuş (main question)\n",
    "- Yatırımcılar en çok hangi category ye bağış yapmış(yıllara göre)\n",
    "- En çok hangi yıl yatırım almış \n",
    "- En çok hangi category başarılı olmuş\n",
    "- En çok hangi yıl başarılı girişim var \n",
    "- Ne kadar girişim amaçladıgı parayı toplamış \n",
    "- Kaç tane girişim hedeflediği parayı toplamamasına rağmen başarılı olmuş \n",
    "- kaç tane girişim hedeflediği parayı toplamasına rağmen başarısız olmuş \n",
    "- En çok hangi ülke yatırım almış\n",
    "- hangi ülke başarılı olmuş\n",
    "- ülkeler hangi sektör de başarılılar\n",
    "- ülkelerin yıllara göre başarılı oldugu categoryler\n",
    "- en çok hedeflediği yatırımı alan category ler\n"
   ]
  },
  {
   "cell_type": "code",
   "execution_count": 2,
   "metadata": {},
   "outputs": [
    {
     "data": {
      "text/html": [
       "<div>\n",
       "<style scoped>\n",
       "    .dataframe tbody tr th:only-of-type {\n",
       "        vertical-align: middle;\n",
       "    }\n",
       "\n",
       "    .dataframe tbody tr th {\n",
       "        vertical-align: top;\n",
       "    }\n",
       "\n",
       "    .dataframe thead th {\n",
       "        text-align: right;\n",
       "    }\n",
       "</style>\n",
       "<table border=\"1\" class=\"dataframe\">\n",
       "  <thead>\n",
       "    <tr style=\"text-align: right;\">\n",
       "      <th></th>\n",
       "      <th>ID</th>\n",
       "      <th>name</th>\n",
       "      <th>category</th>\n",
       "      <th>main_category</th>\n",
       "      <th>currency</th>\n",
       "      <th>deadline</th>\n",
       "      <th>goal</th>\n",
       "      <th>launched</th>\n",
       "      <th>pledged</th>\n",
       "      <th>state</th>\n",
       "      <th>backers</th>\n",
       "      <th>country</th>\n",
       "      <th>usd pledged</th>\n",
       "      <th>usd_pledged_real</th>\n",
       "      <th>usd_goal_real</th>\n",
       "    </tr>\n",
       "  </thead>\n",
       "  <tbody>\n",
       "    <tr>\n",
       "      <td>0</td>\n",
       "      <td>1000002330</td>\n",
       "      <td>The Songs of Adelaide &amp; Abullah</td>\n",
       "      <td>Poetry</td>\n",
       "      <td>Publishing</td>\n",
       "      <td>GBP</td>\n",
       "      <td>2015-10-09</td>\n",
       "      <td>1000.000</td>\n",
       "      <td>2015-08-11 12:12:28</td>\n",
       "      <td>0.000</td>\n",
       "      <td>failed</td>\n",
       "      <td>0</td>\n",
       "      <td>GB</td>\n",
       "      <td>0.000</td>\n",
       "      <td>0.000</td>\n",
       "      <td>1533.950</td>\n",
       "    </tr>\n",
       "    <tr>\n",
       "      <td>1</td>\n",
       "      <td>1000003930</td>\n",
       "      <td>Greeting From Earth: ZGAC Arts Capsule For ET</td>\n",
       "      <td>Narrative Film</td>\n",
       "      <td>Film &amp; Video</td>\n",
       "      <td>USD</td>\n",
       "      <td>2017-11-01</td>\n",
       "      <td>30000.000</td>\n",
       "      <td>2017-09-02 04:43:57</td>\n",
       "      <td>2421.000</td>\n",
       "      <td>failed</td>\n",
       "      <td>15</td>\n",
       "      <td>US</td>\n",
       "      <td>100.000</td>\n",
       "      <td>2421.000</td>\n",
       "      <td>30000.000</td>\n",
       "    </tr>\n",
       "    <tr>\n",
       "      <td>2</td>\n",
       "      <td>1000004038</td>\n",
       "      <td>Where is Hank?</td>\n",
       "      <td>Narrative Film</td>\n",
       "      <td>Film &amp; Video</td>\n",
       "      <td>USD</td>\n",
       "      <td>2013-02-26</td>\n",
       "      <td>45000.000</td>\n",
       "      <td>2013-01-12 00:20:50</td>\n",
       "      <td>220.000</td>\n",
       "      <td>failed</td>\n",
       "      <td>3</td>\n",
       "      <td>US</td>\n",
       "      <td>220.000</td>\n",
       "      <td>220.000</td>\n",
       "      <td>45000.000</td>\n",
       "    </tr>\n",
       "    <tr>\n",
       "      <td>3</td>\n",
       "      <td>1000007540</td>\n",
       "      <td>ToshiCapital Rekordz Needs Help to Complete Album</td>\n",
       "      <td>Music</td>\n",
       "      <td>Music</td>\n",
       "      <td>USD</td>\n",
       "      <td>2012-04-16</td>\n",
       "      <td>5000.000</td>\n",
       "      <td>2012-03-17 03:24:11</td>\n",
       "      <td>1.000</td>\n",
       "      <td>failed</td>\n",
       "      <td>1</td>\n",
       "      <td>US</td>\n",
       "      <td>1.000</td>\n",
       "      <td>1.000</td>\n",
       "      <td>5000.000</td>\n",
       "    </tr>\n",
       "    <tr>\n",
       "      <td>4</td>\n",
       "      <td>1000011046</td>\n",
       "      <td>Community Film Project: The Art of Neighborhoo...</td>\n",
       "      <td>Film &amp; Video</td>\n",
       "      <td>Film &amp; Video</td>\n",
       "      <td>USD</td>\n",
       "      <td>2015-08-29</td>\n",
       "      <td>19500.000</td>\n",
       "      <td>2015-07-04 08:35:03</td>\n",
       "      <td>1283.000</td>\n",
       "      <td>canceled</td>\n",
       "      <td>14</td>\n",
       "      <td>US</td>\n",
       "      <td>1283.000</td>\n",
       "      <td>1283.000</td>\n",
       "      <td>19500.000</td>\n",
       "    </tr>\n",
       "  </tbody>\n",
       "</table>\n",
       "</div>"
      ],
      "text/plain": [
       "           ID                                               name  \\\n",
       "0  1000002330                    The Songs of Adelaide & Abullah   \n",
       "1  1000003930      Greeting From Earth: ZGAC Arts Capsule For ET   \n",
       "2  1000004038                                     Where is Hank?   \n",
       "3  1000007540  ToshiCapital Rekordz Needs Help to Complete Album   \n",
       "4  1000011046  Community Film Project: The Art of Neighborhoo...   \n",
       "\n",
       "         category main_category currency    deadline      goal  \\\n",
       "0          Poetry    Publishing      GBP  2015-10-09  1000.000   \n",
       "1  Narrative Film  Film & Video      USD  2017-11-01 30000.000   \n",
       "2  Narrative Film  Film & Video      USD  2013-02-26 45000.000   \n",
       "3           Music         Music      USD  2012-04-16  5000.000   \n",
       "4    Film & Video  Film & Video      USD  2015-08-29 19500.000   \n",
       "\n",
       "              launched  pledged     state  backers country  usd pledged  \\\n",
       "0  2015-08-11 12:12:28    0.000    failed        0      GB        0.000   \n",
       "1  2017-09-02 04:43:57 2421.000    failed       15      US      100.000   \n",
       "2  2013-01-12 00:20:50  220.000    failed        3      US      220.000   \n",
       "3  2012-03-17 03:24:11    1.000    failed        1      US        1.000   \n",
       "4  2015-07-04 08:35:03 1283.000  canceled       14      US     1283.000   \n",
       "\n",
       "   usd_pledged_real  usd_goal_real  \n",
       "0             0.000       1533.950  \n",
       "1          2421.000      30000.000  \n",
       "2           220.000      45000.000  \n",
       "3             1.000       5000.000  \n",
       "4          1283.000      19500.000  "
      ]
     },
     "execution_count": 2,
     "metadata": {},
     "output_type": "execute_result"
    }
   ],
   "source": [
    "starts= pd.read_csv('ks-projects-201801.csv')\n",
    "starts.head()"
   ]
  },
  {
   "cell_type": "code",
   "execution_count": 3,
   "metadata": {},
   "outputs": [
    {
     "data": {
      "text/plain": [
       "ID                 0.000\n",
       "name               0.001\n",
       "category           0.000\n",
       "main_category      0.000\n",
       "currency           0.000\n",
       "deadline           0.000\n",
       "goal               0.000\n",
       "launched           0.000\n",
       "pledged            0.000\n",
       "state              0.000\n",
       "backers            0.000\n",
       "country            0.000\n",
       "usd pledged        1.003\n",
       "usd_pledged_real   0.000\n",
       "usd_goal_real      0.000\n",
       "dtype: float64"
      ]
     },
     "execution_count": 3,
     "metadata": {},
     "output_type": "execute_result"
    }
   ],
   "source": [
    "starts.isnull().sum()*100/starts.shape[0]"
   ]
  },
  {
   "cell_type": "code",
   "execution_count": 4,
   "metadata": {},
   "outputs": [
    {
     "data": {
      "text/plain": [
       "Index(['ID', 'name', 'category', 'main_category', 'currency', 'deadline',\n",
       "       'goal', 'launched', 'pledged', 'state', 'backers', 'country',\n",
       "       'usd pledged', 'usd_pledged_real', 'usd_goal_real'],\n",
       "      dtype='object')"
      ]
     },
     "execution_count": 4,
     "metadata": {},
     "output_type": "execute_result"
    }
   ],
   "source": [
    "starts.columns"
   ]
  },
  {
   "cell_type": "code",
   "execution_count": 5,
   "metadata": {},
   "outputs": [
    {
     "name": "stdout",
     "output_type": "stream",
     "text": [
      "<class 'pandas.core.frame.DataFrame'>\n",
      "RangeIndex: 378661 entries, 0 to 378660\n",
      "Data columns (total 15 columns):\n",
      "ID                  378661 non-null int64\n",
      "name                378657 non-null object\n",
      "category            378661 non-null object\n",
      "main_category       378661 non-null object\n",
      "currency            378661 non-null object\n",
      "deadline            378661 non-null object\n",
      "goal                378661 non-null float64\n",
      "launched            378661 non-null object\n",
      "pledged             378661 non-null float64\n",
      "state               378661 non-null object\n",
      "backers             378661 non-null int64\n",
      "country             378661 non-null object\n",
      "usd pledged         374864 non-null float64\n",
      "usd_pledged_real    378661 non-null float64\n",
      "usd_goal_real       378661 non-null float64\n",
      "dtypes: float64(5), int64(2), object(8)\n",
      "memory usage: 43.3+ MB\n"
     ]
    }
   ],
   "source": [
    "starts.info()"
   ]
  },
  {
   "cell_type": "code",
   "execution_count": 6,
   "metadata": {},
   "outputs": [
    {
     "data": {
      "text/plain": [
       "array([  1000.,  30000.,  45000., ..., 186037.,  33975.,  28559.])"
      ]
     },
     "execution_count": 6,
     "metadata": {},
     "output_type": "execute_result"
    }
   ],
   "source": [
    "starts['goal'].unique()"
   ]
  },
  {
   "cell_type": "code",
   "execution_count": 7,
   "metadata": {},
   "outputs": [
    {
     "data": {
      "text/plain": [
       "array([   0.  ,  100.  ,  220.  , ..., 1732.02, 5019.92, 2698.97])"
      ]
     },
     "execution_count": 7,
     "metadata": {},
     "output_type": "execute_result"
    }
   ],
   "source": [
    "starts['usd pledged'].unique()"
   ]
  },
  {
   "cell_type": "code",
   "execution_count": 8,
   "metadata": {},
   "outputs": [],
   "source": [
    "starts['usd pledged'].fillna(starts['usd_pledged_real'], inplace=True)"
   ]
  },
  {
   "cell_type": "code",
   "execution_count": 9,
   "metadata": {},
   "outputs": [
    {
     "data": {
      "text/plain": [
       "ID                 0.000\n",
       "name               0.001\n",
       "category           0.000\n",
       "main_category      0.000\n",
       "currency           0.000\n",
       "deadline           0.000\n",
       "goal               0.000\n",
       "launched           0.000\n",
       "pledged            0.000\n",
       "state              0.000\n",
       "backers            0.000\n",
       "country            0.000\n",
       "usd pledged        0.000\n",
       "usd_pledged_real   0.000\n",
       "usd_goal_real      0.000\n",
       "dtype: float64"
      ]
     },
     "execution_count": 9,
     "metadata": {},
     "output_type": "execute_result"
    }
   ],
   "source": [
    "starts.isnull().sum()*100/starts.shape[0]"
   ]
  },
  {
   "cell_type": "code",
   "execution_count": 10,
   "metadata": {},
   "outputs": [
    {
     "data": {
      "text/plain": [
       "Int64Index([166851, 307234, 309991, 338931], dtype='int64')"
      ]
     },
     "execution_count": 10,
     "metadata": {},
     "output_type": "execute_result"
    }
   ],
   "source": [
    "# Check missing values in the column \"name\"\n",
    "starts[pd.isnull(starts['name'])].index"
   ]
  },
  {
   "cell_type": "code",
   "execution_count": 11,
   "metadata": {},
   "outputs": [
    {
     "data": {
      "text/html": [
       "<div>\n",
       "<style scoped>\n",
       "    .dataframe tbody tr th:only-of-type {\n",
       "        vertical-align: middle;\n",
       "    }\n",
       "\n",
       "    .dataframe tbody tr th {\n",
       "        vertical-align: top;\n",
       "    }\n",
       "\n",
       "    .dataframe thead th {\n",
       "        text-align: right;\n",
       "    }\n",
       "</style>\n",
       "<table border=\"1\" class=\"dataframe\">\n",
       "  <thead>\n",
       "    <tr style=\"text-align: right;\">\n",
       "      <th></th>\n",
       "      <th>ID</th>\n",
       "      <th>name</th>\n",
       "      <th>category</th>\n",
       "      <th>main_category</th>\n",
       "      <th>currency</th>\n",
       "      <th>deadline</th>\n",
       "      <th>goal</th>\n",
       "      <th>launched</th>\n",
       "      <th>pledged</th>\n",
       "      <th>state</th>\n",
       "      <th>backers</th>\n",
       "      <th>country</th>\n",
       "      <th>usd pledged</th>\n",
       "      <th>usd_pledged_real</th>\n",
       "      <th>usd_goal_real</th>\n",
       "    </tr>\n",
       "  </thead>\n",
       "  <tbody>\n",
       "    <tr>\n",
       "      <td>307234</td>\n",
       "      <td>634871725</td>\n",
       "      <td>NaN</td>\n",
       "      <td>Video Games</td>\n",
       "      <td>Games</td>\n",
       "      <td>GBP</td>\n",
       "      <td>2013-01-06</td>\n",
       "      <td>2000.000</td>\n",
       "      <td>2012-12-19 23:57:48</td>\n",
       "      <td>196.000</td>\n",
       "      <td>failed</td>\n",
       "      <td>12</td>\n",
       "      <td>GB</td>\n",
       "      <td>317.730</td>\n",
       "      <td>316.050</td>\n",
       "      <td>3224.970</td>\n",
       "    </tr>\n",
       "  </tbody>\n",
       "</table>\n",
       "</div>"
      ],
      "text/plain": [
       "               ID name     category main_category currency    deadline  \\\n",
       "307234  634871725  NaN  Video Games         Games      GBP  2013-01-06   \n",
       "\n",
       "           goal             launched  pledged   state  backers country  \\\n",
       "307234 2000.000  2012-12-19 23:57:48  196.000  failed       12      GB   \n",
       "\n",
       "        usd pledged  usd_pledged_real  usd_goal_real  \n",
       "307234      317.730           316.050       3224.970  "
      ]
     },
     "execution_count": 11,
     "metadata": {},
     "output_type": "execute_result"
    }
   ],
   "source": [
    "starts[starts.index == 166851]\n",
    "starts[starts.index == 307234]"
   ]
  },
  {
   "cell_type": "code",
   "execution_count": 12,
   "metadata": {},
   "outputs": [
    {
     "data": {
      "text/plain": [
       "array(['The Songs of Adelaide & Abullah',\n",
       "       'Greeting From Earth: ZGAC Arts Capsule For ET', 'Where is Hank?',\n",
       "       ...,\n",
       "       'Walls of Remedy- New lesbian Romantic Comedy feature unlike any other!!',\n",
       "       'BioDefense Education Kit', 'Nou Renmen Ayiti!  We Love Haiti!'],\n",
       "      dtype=object)"
      ]
     },
     "execution_count": 12,
     "metadata": {},
     "output_type": "execute_result"
    }
   ],
   "source": [
    "starts['name'].unique()"
   ]
  },
  {
   "cell_type": "code",
   "execution_count": 13,
   "metadata": {},
   "outputs": [
    {
     "data": {
      "text/plain": [
       "(378661, 15)"
      ]
     },
     "execution_count": 13,
     "metadata": {},
     "output_type": "execute_result"
    }
   ],
   "source": [
    "starts.shape"
   ]
  },
  {
   "cell_type": "code",
   "execution_count": 14,
   "metadata": {},
   "outputs": [],
   "source": [
    "# we have a lot data so we can delete mising value of name feature but we imputing with 'unknown'\n",
    "starts['name'].fillna('unknown',inplace=True)"
   ]
  },
  {
   "cell_type": "code",
   "execution_count": 15,
   "metadata": {},
   "outputs": [
    {
     "data": {
      "text/plain": [
       "ID                 0.000\n",
       "name               0.000\n",
       "category           0.000\n",
       "main_category      0.000\n",
       "currency           0.000\n",
       "deadline           0.000\n",
       "goal               0.000\n",
       "launched           0.000\n",
       "pledged            0.000\n",
       "state              0.000\n",
       "backers            0.000\n",
       "country            0.000\n",
       "usd pledged        0.000\n",
       "usd_pledged_real   0.000\n",
       "usd_goal_real      0.000\n",
       "dtype: float64"
      ]
     },
     "execution_count": 15,
     "metadata": {},
     "output_type": "execute_result"
    }
   ],
   "source": [
    "starts.isnull().sum()*100/starts.shape[0]"
   ]
  },
  {
   "cell_type": "code",
   "execution_count": 16,
   "metadata": {},
   "outputs": [
    {
     "data": {
      "text/html": [
       "<div>\n",
       "<style scoped>\n",
       "    .dataframe tbody tr th:only-of-type {\n",
       "        vertical-align: middle;\n",
       "    }\n",
       "\n",
       "    .dataframe tbody tr th {\n",
       "        vertical-align: top;\n",
       "    }\n",
       "\n",
       "    .dataframe thead th {\n",
       "        text-align: right;\n",
       "    }\n",
       "</style>\n",
       "<table border=\"1\" class=\"dataframe\">\n",
       "  <thead>\n",
       "    <tr style=\"text-align: right;\">\n",
       "      <th></th>\n",
       "      <th>ID</th>\n",
       "      <th>name</th>\n",
       "      <th>category</th>\n",
       "      <th>main_category</th>\n",
       "      <th>currency</th>\n",
       "      <th>deadline</th>\n",
       "      <th>goal</th>\n",
       "      <th>launched</th>\n",
       "      <th>pledged</th>\n",
       "      <th>state</th>\n",
       "      <th>backers</th>\n",
       "      <th>country</th>\n",
       "      <th>usd pledged</th>\n",
       "      <th>usd_pledged_real</th>\n",
       "      <th>usd_goal_real</th>\n",
       "    </tr>\n",
       "  </thead>\n",
       "  <tbody>\n",
       "    <tr>\n",
       "      <td>0</td>\n",
       "      <td>1000002330</td>\n",
       "      <td>The Songs of Adelaide &amp; Abullah</td>\n",
       "      <td>Poetry</td>\n",
       "      <td>Publishing</td>\n",
       "      <td>GBP</td>\n",
       "      <td>2015-10-09</td>\n",
       "      <td>1000.000</td>\n",
       "      <td>2015-08-11 12:12:28</td>\n",
       "      <td>0.000</td>\n",
       "      <td>failed</td>\n",
       "      <td>0</td>\n",
       "      <td>GB</td>\n",
       "      <td>0.000</td>\n",
       "      <td>0.000</td>\n",
       "      <td>1533.950</td>\n",
       "    </tr>\n",
       "    <tr>\n",
       "      <td>1</td>\n",
       "      <td>1000003930</td>\n",
       "      <td>Greeting From Earth: ZGAC Arts Capsule For ET</td>\n",
       "      <td>Narrative Film</td>\n",
       "      <td>Film &amp; Video</td>\n",
       "      <td>USD</td>\n",
       "      <td>2017-11-01</td>\n",
       "      <td>30000.000</td>\n",
       "      <td>2017-09-02 04:43:57</td>\n",
       "      <td>2421.000</td>\n",
       "      <td>failed</td>\n",
       "      <td>15</td>\n",
       "      <td>US</td>\n",
       "      <td>100.000</td>\n",
       "      <td>2421.000</td>\n",
       "      <td>30000.000</td>\n",
       "    </tr>\n",
       "    <tr>\n",
       "      <td>2</td>\n",
       "      <td>1000004038</td>\n",
       "      <td>Where is Hank?</td>\n",
       "      <td>Narrative Film</td>\n",
       "      <td>Film &amp; Video</td>\n",
       "      <td>USD</td>\n",
       "      <td>2013-02-26</td>\n",
       "      <td>45000.000</td>\n",
       "      <td>2013-01-12 00:20:50</td>\n",
       "      <td>220.000</td>\n",
       "      <td>failed</td>\n",
       "      <td>3</td>\n",
       "      <td>US</td>\n",
       "      <td>220.000</td>\n",
       "      <td>220.000</td>\n",
       "      <td>45000.000</td>\n",
       "    </tr>\n",
       "    <tr>\n",
       "      <td>3</td>\n",
       "      <td>1000007540</td>\n",
       "      <td>ToshiCapital Rekordz Needs Help to Complete Album</td>\n",
       "      <td>Music</td>\n",
       "      <td>Music</td>\n",
       "      <td>USD</td>\n",
       "      <td>2012-04-16</td>\n",
       "      <td>5000.000</td>\n",
       "      <td>2012-03-17 03:24:11</td>\n",
       "      <td>1.000</td>\n",
       "      <td>failed</td>\n",
       "      <td>1</td>\n",
       "      <td>US</td>\n",
       "      <td>1.000</td>\n",
       "      <td>1.000</td>\n",
       "      <td>5000.000</td>\n",
       "    </tr>\n",
       "    <tr>\n",
       "      <td>4</td>\n",
       "      <td>1000011046</td>\n",
       "      <td>Community Film Project: The Art of Neighborhoo...</td>\n",
       "      <td>Film &amp; Video</td>\n",
       "      <td>Film &amp; Video</td>\n",
       "      <td>USD</td>\n",
       "      <td>2015-08-29</td>\n",
       "      <td>19500.000</td>\n",
       "      <td>2015-07-04 08:35:03</td>\n",
       "      <td>1283.000</td>\n",
       "      <td>canceled</td>\n",
       "      <td>14</td>\n",
       "      <td>US</td>\n",
       "      <td>1283.000</td>\n",
       "      <td>1283.000</td>\n",
       "      <td>19500.000</td>\n",
       "    </tr>\n",
       "  </tbody>\n",
       "</table>\n",
       "</div>"
      ],
      "text/plain": [
       "           ID                                               name  \\\n",
       "0  1000002330                    The Songs of Adelaide & Abullah   \n",
       "1  1000003930      Greeting From Earth: ZGAC Arts Capsule For ET   \n",
       "2  1000004038                                     Where is Hank?   \n",
       "3  1000007540  ToshiCapital Rekordz Needs Help to Complete Album   \n",
       "4  1000011046  Community Film Project: The Art of Neighborhoo...   \n",
       "\n",
       "         category main_category currency    deadline      goal  \\\n",
       "0          Poetry    Publishing      GBP  2015-10-09  1000.000   \n",
       "1  Narrative Film  Film & Video      USD  2017-11-01 30000.000   \n",
       "2  Narrative Film  Film & Video      USD  2013-02-26 45000.000   \n",
       "3           Music         Music      USD  2012-04-16  5000.000   \n",
       "4    Film & Video  Film & Video      USD  2015-08-29 19500.000   \n",
       "\n",
       "              launched  pledged     state  backers country  usd pledged  \\\n",
       "0  2015-08-11 12:12:28    0.000    failed        0      GB        0.000   \n",
       "1  2017-09-02 04:43:57 2421.000    failed       15      US      100.000   \n",
       "2  2013-01-12 00:20:50  220.000    failed        3      US      220.000   \n",
       "3  2012-03-17 03:24:11    1.000    failed        1      US        1.000   \n",
       "4  2015-07-04 08:35:03 1283.000  canceled       14      US     1283.000   \n",
       "\n",
       "   usd_pledged_real  usd_goal_real  \n",
       "0             0.000       1533.950  \n",
       "1          2421.000      30000.000  \n",
       "2           220.000      45000.000  \n",
       "3             1.000       5000.000  \n",
       "4          1283.000      19500.000  "
      ]
     },
     "execution_count": 16,
     "metadata": {},
     "output_type": "execute_result"
    }
   ],
   "source": [
    "starts.head()"
   ]
  },
  {
   "cell_type": "markdown",
   "metadata": {},
   "source": [
    "# Aşırı değerler "
   ]
  },
  {
   "cell_type": "code",
   "execution_count": null,
   "metadata": {},
   "outputs": [],
   "source": []
  },
  {
   "cell_type": "code",
   "execution_count": null,
   "metadata": {},
   "outputs": [],
   "source": []
  },
  {
   "cell_type": "code",
   "execution_count": null,
   "metadata": {},
   "outputs": [],
   "source": []
  },
  {
   "cell_type": "code",
   "execution_count": 17,
   "metadata": {},
   "outputs": [
    {
     "data": {
      "image/png": "[encoded data removed]",
      "text/plain": [
       "<Figure size 2160x1080 with 12 Axes>"
      ]
     },
     "metadata": {
      "needs_background": "light"
     },
     "output_type": "display_data"
    }
   ],
   "source": [
    "plt.figure(figsize=(30,15))\n",
    "baslik_font = {'family': 'arial', 'color': 'darkred','weight': 'bold','size': 13 }\n",
    "eksen_font  = {'family': 'arial', 'color': 'darkblue','weight': 'bold','size': 10 }\n",
    "\n",
    "degiskenler = ['goal', 'pledged' , 'backers',\"usd pledged\",\"usd_pledged_real\",\"usd_goal_real\"]\n",
    "\n",
    "for i in range(6):\n",
    "    plt.subplot(2, 6, i+1)\n",
    "    plt.hist(starts[degiskenler[i]])\n",
    "    plt.title(degiskenler[i], fontdict=baslik_font)\n",
    "    \n",
    "for i in range(6):\n",
    "    plt.subplot(2, 6, i+7)\n",
    "    plt.hist(np.log(starts[degiskenler[i]]+1))\n",
    "    plt.title(degiskenler[i] + ' (log dönüşümlü)', fontdict=baslik_font)"
   ]
  },
  {
   "cell_type": "code",
   "execution_count": 18,
   "metadata": {},
   "outputs": [
    {
     "data": {
      "image/png": "[encoded data removed]",
      "text/plain": [
       "<Figure size 2160x1080 with 12 Axes>"
      ]
     },
     "metadata": {
      "needs_background": "light"
     },
     "output_type": "display_data"
    }
   ],
   "source": [
    "plt.figure(figsize=(30,15))\n",
    "baslik_font = {'family': 'arial', 'color': 'darkred','weight': 'bold','size': 13 }\n",
    "eksen_font  = {'family': 'arial', 'color': 'darkblue','weight': 'bold','size': 10 }\n",
    "\n",
    "degiskenler = ['goal', 'pledged' , 'backers',\"usd pledged\",\"usd_pledged_real\",\"usd_goal_real\"]\n",
    "\n",
    "for i in range(6):\n",
    "    plt.subplot(2, 6, i+1)\n",
    "    plt.boxplot(starts[degiskenler[i]])\n",
    "    plt.title(degiskenler[i], fontdict=baslik_font)\n",
    "    \n",
    "for i in range(6):\n",
    "    plt.subplot(2, 6, i+7)\n",
    "    plt.boxplot(np.log(starts[degiskenler[i]]+1))\n",
    "    plt.title(degiskenler[i] + ' (log dönüşümlü)', fontdict=baslik_font)"
   ]
  },
  {
   "cell_type": "code",
   "execution_count": 19,
   "metadata": {},
   "outputs": [],
   "source": [
    "# IQR Method \n",
    "\n",
    "q75,q25= np.percentile(starts['goal'],[75,25])\n",
    "caa= q75-q25"
   ]
  },
  {
   "cell_type": "code",
   "execution_count": 20,
   "metadata": {},
   "outputs": [
    {
     "data": {
      "text/plain": [
       "[(1, 52172), (2, 41784), (3, 28166), (4, 23545)]"
      ]
     },
     "execution_count": 20,
     "metadata": {},
     "output_type": "execute_result"
    }
   ],
   "source": [
    "esik_degerleri=[]\n",
    "for esik_degeri in np.arange(1,5):\n",
    "    min_deger=q25 - (caa*esik_degeri)\n",
    "    max_deger=q75 + (caa*esik_degeri)\n",
    "    \n",
    "    aykiri_deger_sayisi=len((np.where((starts['goal']>max_deger) | (starts['goal']<min_deger))[0]))\n",
    "    esik_degerleri.append((esik_degeri,aykiri_deger_sayisi))\n",
    "esik_degerleri"
   ]
  },
  {
   "cell_type": "code",
   "execution_count": 21,
   "metadata": {},
   "outputs": [
    {
     "name": "stdout",
     "output_type": "stream",
     "text": [
      "----------  goal ----------\n"
     ]
    },
    {
     "data": {
      "text/html": [
       "<div>\n",
       "<style scoped>\n",
       "    .dataframe tbody tr th:only-of-type {\n",
       "        vertical-align: middle;\n",
       "    }\n",
       "\n",
       "    .dataframe tbody tr th {\n",
       "        vertical-align: top;\n",
       "    }\n",
       "\n",
       "    .dataframe thead th {\n",
       "        text-align: right;\n",
       "    }\n",
       "</style>\n",
       "<table border=\"1\" class=\"dataframe\">\n",
       "  <thead>\n",
       "    <tr style=\"text-align: right;\">\n",
       "      <th></th>\n",
       "      <th>aykiri_deger_sayisi</th>\n",
       "      <th>aykiri_deger_sayisi_log</th>\n",
       "      <th>esik_degeri</th>\n",
       "    </tr>\n",
       "  </thead>\n",
       "  <tbody>\n",
       "    <tr>\n",
       "      <td>0</td>\n",
       "      <td>52172.000</td>\n",
       "      <td>22697.000</td>\n",
       "      <td>1.000</td>\n",
       "    </tr>\n",
       "    <tr>\n",
       "      <td>1</td>\n",
       "      <td>41784.000</td>\n",
       "      <td>3582.000</td>\n",
       "      <td>2.000</td>\n",
       "    </tr>\n",
       "    <tr>\n",
       "      <td>2</td>\n",
       "      <td>28166.000</td>\n",
       "      <td>700.000</td>\n",
       "      <td>3.000</td>\n",
       "    </tr>\n",
       "    <tr>\n",
       "      <td>3</td>\n",
       "      <td>23545.000</td>\n",
       "      <td>46.000</td>\n",
       "      <td>4.000</td>\n",
       "    </tr>\n",
       "  </tbody>\n",
       "</table>\n",
       "</div>"
      ],
      "text/plain": [
       "   aykiri_deger_sayisi  aykiri_deger_sayisi_log  esik_degeri\n",
       "0            52172.000                22697.000        1.000\n",
       "1            41784.000                 3582.000        2.000\n",
       "2            28166.000                  700.000        3.000\n",
       "3            23545.000                   46.000        4.000"
      ]
     },
     "metadata": {},
     "output_type": "display_data"
    },
    {
     "name": "stdout",
     "output_type": "stream",
     "text": [
      "----------  pledged ----------\n"
     ]
    },
    {
     "data": {
      "text/html": [
       "<div>\n",
       "<style scoped>\n",
       "    .dataframe tbody tr th:only-of-type {\n",
       "        vertical-align: middle;\n",
       "    }\n",
       "\n",
       "    .dataframe tbody tr th {\n",
       "        vertical-align: top;\n",
       "    }\n",
       "\n",
       "    .dataframe thead th {\n",
       "        text-align: right;\n",
       "    }\n",
       "</style>\n",
       "<table border=\"1\" class=\"dataframe\">\n",
       "  <thead>\n",
       "    <tr style=\"text-align: right;\">\n",
       "      <th></th>\n",
       "      <th>aykiri_deger_sayisi</th>\n",
       "      <th>aykiri_deger_sayisi_log</th>\n",
       "      <th>esik_degeri</th>\n",
       "    </tr>\n",
       "  </thead>\n",
       "  <tbody>\n",
       "    <tr>\n",
       "      <td>0</td>\n",
       "      <td>59490.000</td>\n",
       "      <td>53251.000</td>\n",
       "      <td>1.000</td>\n",
       "    </tr>\n",
       "    <tr>\n",
       "      <td>1</td>\n",
       "      <td>42702.000</td>\n",
       "      <td>52527.000</td>\n",
       "      <td>2.000</td>\n",
       "    </tr>\n",
       "    <tr>\n",
       "      <td>2</td>\n",
       "      <td>33112.000</td>\n",
       "      <td>52527.000</td>\n",
       "      <td>3.000</td>\n",
       "    </tr>\n",
       "    <tr>\n",
       "      <td>3</td>\n",
       "      <td>27613.000</td>\n",
       "      <td>52527.000</td>\n",
       "      <td>4.000</td>\n",
       "    </tr>\n",
       "  </tbody>\n",
       "</table>\n",
       "</div>"
      ],
      "text/plain": [
       "   aykiri_deger_sayisi  aykiri_deger_sayisi_log  esik_degeri\n",
       "0            59490.000                53251.000        1.000\n",
       "1            42702.000                52527.000        2.000\n",
       "2            33112.000                52527.000        3.000\n",
       "3            27613.000                52527.000        4.000"
      ]
     },
     "metadata": {},
     "output_type": "display_data"
    },
    {
     "name": "stdout",
     "output_type": "stream",
     "text": [
      "----------  backers ----------\n"
     ]
    },
    {
     "data": {
      "text/html": [
       "<div>\n",
       "<style scoped>\n",
       "    .dataframe tbody tr th:only-of-type {\n",
       "        vertical-align: middle;\n",
       "    }\n",
       "\n",
       "    .dataframe tbody tr th {\n",
       "        vertical-align: top;\n",
       "    }\n",
       "\n",
       "    .dataframe thead th {\n",
       "        text-align: right;\n",
       "    }\n",
       "</style>\n",
       "<table border=\"1\" class=\"dataframe\">\n",
       "  <thead>\n",
       "    <tr style=\"text-align: right;\">\n",
       "      <th></th>\n",
       "      <th>aykiri_deger_sayisi</th>\n",
       "      <th>aykiri_deger_sayisi_log</th>\n",
       "      <th>esik_degeri</th>\n",
       "    </tr>\n",
       "  </thead>\n",
       "  <tbody>\n",
       "    <tr>\n",
       "      <td>0</td>\n",
       "      <td>55141.000</td>\n",
       "      <td>59197.000</td>\n",
       "      <td>1.000</td>\n",
       "    </tr>\n",
       "    <tr>\n",
       "      <td>1</td>\n",
       "      <td>38255.000</td>\n",
       "      <td>55633.000</td>\n",
       "      <td>2.000</td>\n",
       "    </tr>\n",
       "    <tr>\n",
       "      <td>2</td>\n",
       "      <td>29013.000</td>\n",
       "      <td>55609.000</td>\n",
       "      <td>3.000</td>\n",
       "    </tr>\n",
       "    <tr>\n",
       "      <td>3</td>\n",
       "      <td>23258.000</td>\n",
       "      <td>55609.000</td>\n",
       "      <td>4.000</td>\n",
       "    </tr>\n",
       "  </tbody>\n",
       "</table>\n",
       "</div>"
      ],
      "text/plain": [
       "   aykiri_deger_sayisi  aykiri_deger_sayisi_log  esik_degeri\n",
       "0            55141.000                59197.000        1.000\n",
       "1            38255.000                55633.000        2.000\n",
       "2            29013.000                55609.000        3.000\n",
       "3            23258.000                55609.000        4.000"
      ]
     },
     "metadata": {},
     "output_type": "display_data"
    },
    {
     "name": "stdout",
     "output_type": "stream",
     "text": [
      "----------  usd pledged ----------\n"
     ]
    },
    {
     "data": {
      "text/html": [
       "<div>\n",
       "<style scoped>\n",
       "    .dataframe tbody tr th:only-of-type {\n",
       "        vertical-align: middle;\n",
       "    }\n",
       "\n",
       "    .dataframe tbody tr th {\n",
       "        vertical-align: top;\n",
       "    }\n",
       "\n",
       "    .dataframe thead th {\n",
       "        text-align: right;\n",
       "    }\n",
       "</style>\n",
       "<table border=\"1\" class=\"dataframe\">\n",
       "  <thead>\n",
       "    <tr style=\"text-align: right;\">\n",
       "      <th></th>\n",
       "      <th>aykiri_deger_sayisi</th>\n",
       "      <th>aykiri_deger_sayisi_log</th>\n",
       "      <th>esik_degeri</th>\n",
       "    </tr>\n",
       "  </thead>\n",
       "  <tbody>\n",
       "    <tr>\n",
       "      <td>0</td>\n",
       "      <td>59985.000</td>\n",
       "      <td>69256.000</td>\n",
       "      <td>1.000</td>\n",
       "    </tr>\n",
       "    <tr>\n",
       "      <td>1</td>\n",
       "      <td>44337.000</td>\n",
       "      <td>68830.000</td>\n",
       "      <td>2.000</td>\n",
       "    </tr>\n",
       "    <tr>\n",
       "      <td>2</td>\n",
       "      <td>33973.000</td>\n",
       "      <td>68830.000</td>\n",
       "      <td>3.000</td>\n",
       "    </tr>\n",
       "    <tr>\n",
       "      <td>3</td>\n",
       "      <td>27991.000</td>\n",
       "      <td>68830.000</td>\n",
       "      <td>4.000</td>\n",
       "    </tr>\n",
       "  </tbody>\n",
       "</table>\n",
       "</div>"
      ],
      "text/plain": [
       "   aykiri_deger_sayisi  aykiri_deger_sayisi_log  esik_degeri\n",
       "0            59985.000                69256.000        1.000\n",
       "1            44337.000                68830.000        2.000\n",
       "2            33973.000                68830.000        3.000\n",
       "3            27991.000                68830.000        4.000"
      ]
     },
     "metadata": {},
     "output_type": "display_data"
    },
    {
     "name": "stdout",
     "output_type": "stream",
     "text": [
      "----------  usd_pledged_real ----------\n"
     ]
    },
    {
     "data": {
      "text/html": [
       "<div>\n",
       "<style scoped>\n",
       "    .dataframe tbody tr th:only-of-type {\n",
       "        vertical-align: middle;\n",
       "    }\n",
       "\n",
       "    .dataframe tbody tr th {\n",
       "        vertical-align: top;\n",
       "    }\n",
       "\n",
       "    .dataframe thead th {\n",
       "        text-align: right;\n",
       "    }\n",
       "</style>\n",
       "<table border=\"1\" class=\"dataframe\">\n",
       "  <thead>\n",
       "    <tr style=\"text-align: right;\">\n",
       "      <th></th>\n",
       "      <th>aykiri_deger_sayisi</th>\n",
       "      <th>aykiri_deger_sayisi_log</th>\n",
       "      <th>esik_degeri</th>\n",
       "    </tr>\n",
       "  </thead>\n",
       "  <tbody>\n",
       "    <tr>\n",
       "      <td>0</td>\n",
       "      <td>59139.000</td>\n",
       "      <td>53190.000</td>\n",
       "      <td>1.000</td>\n",
       "    </tr>\n",
       "    <tr>\n",
       "      <td>1</td>\n",
       "      <td>42158.000</td>\n",
       "      <td>52527.000</td>\n",
       "      <td>2.000</td>\n",
       "    </tr>\n",
       "    <tr>\n",
       "      <td>2</td>\n",
       "      <td>32535.000</td>\n",
       "      <td>52527.000</td>\n",
       "      <td>3.000</td>\n",
       "    </tr>\n",
       "    <tr>\n",
       "      <td>3</td>\n",
       "      <td>26846.000</td>\n",
       "      <td>52527.000</td>\n",
       "      <td>4.000</td>\n",
       "    </tr>\n",
       "  </tbody>\n",
       "</table>\n",
       "</div>"
      ],
      "text/plain": [
       "   aykiri_deger_sayisi  aykiri_deger_sayisi_log  esik_degeri\n",
       "0            59139.000                53190.000        1.000\n",
       "1            42158.000                52527.000        2.000\n",
       "2            32535.000                52527.000        3.000\n",
       "3            26846.000                52527.000        4.000"
      ]
     },
     "metadata": {},
     "output_type": "display_data"
    },
    {
     "name": "stdout",
     "output_type": "stream",
     "text": [
      "----------  usd_goal_real ----------\n"
     ]
    },
    {
     "data": {
      "text/html": [
       "<div>\n",
       "<style scoped>\n",
       "    .dataframe tbody tr th:only-of-type {\n",
       "        vertical-align: middle;\n",
       "    }\n",
       "\n",
       "    .dataframe tbody tr th {\n",
       "        vertical-align: top;\n",
       "    }\n",
       "\n",
       "    .dataframe thead th {\n",
       "        text-align: right;\n",
       "    }\n",
       "</style>\n",
       "<table border=\"1\" class=\"dataframe\">\n",
       "  <thead>\n",
       "    <tr style=\"text-align: right;\">\n",
       "      <th></th>\n",
       "      <th>aykiri_deger_sayisi</th>\n",
       "      <th>aykiri_deger_sayisi_log</th>\n",
       "      <th>esik_degeri</th>\n",
       "    </tr>\n",
       "  </thead>\n",
       "  <tbody>\n",
       "    <tr>\n",
       "      <td>0</td>\n",
       "      <td>57848.000</td>\n",
       "      <td>23703.000</td>\n",
       "      <td>1.000</td>\n",
       "    </tr>\n",
       "    <tr>\n",
       "      <td>1</td>\n",
       "      <td>39758.000</td>\n",
       "      <td>3842.000</td>\n",
       "      <td>2.000</td>\n",
       "    </tr>\n",
       "    <tr>\n",
       "      <td>2</td>\n",
       "      <td>26943.000</td>\n",
       "      <td>724.000</td>\n",
       "      <td>3.000</td>\n",
       "    </tr>\n",
       "    <tr>\n",
       "      <td>3</td>\n",
       "      <td>22752.000</td>\n",
       "      <td>47.000</td>\n",
       "      <td>4.000</td>\n",
       "    </tr>\n",
       "  </tbody>\n",
       "</table>\n",
       "</div>"
      ],
      "text/plain": [
       "   aykiri_deger_sayisi  aykiri_deger_sayisi_log  esik_degeri\n",
       "0            57848.000                23703.000        1.000\n",
       "1            39758.000                 3842.000        2.000\n",
       "2            26943.000                  724.000        3.000\n",
       "3            22752.000                   47.000        4.000"
      ]
     },
     "metadata": {},
     "output_type": "display_data"
    }
   ],
   "source": [
    "log_esik_degerleri = pd.DataFrame()\n",
    "degiskenler = ['goal', 'pledged' , 'backers',\"usd pledged\",\"usd_pledged_real\",\"usd_goal_real\"]\n",
    "for j in degiskenler:\n",
    "    for esik_degeri in np.arange(1,5,1):\n",
    "        q75_log, q25_log = np.percentile(np.log(starts[j]), [75 ,25])\n",
    "        caa_log = q75_log - q25_log\n",
    "        q75, q25 = np.percentile(starts[j], [75 ,25])\n",
    "        caa= q75 - q25\n",
    "        min_deger_log = q25_log - (caa_log*esik_degeri) \n",
    "        maks_deger_log = q75_log + (caa_log*esik_degeri)\n",
    "        min_deger= q25 - (caa*esik_degeri) #log dönüşümü olmadan\n",
    "        maks_deger = q75 + (caa*esik_degeri) #log dönüşümü olmadan\n",
    "        aykiri_deger_sayisi_log = len((np.where((np.log(starts[j]) > maks_deger_log)| \n",
    "                                               (np.log(starts[j]) < min_deger_log))[0]))\n",
    "        aykiri_deger_sayisi = len((np.where((starts[j] > maks_deger)| \n",
    "                                               (starts[j] < min_deger))[0]))\n",
    "        log_esik_degerleri = log_esik_degerleri.append({'esik_degeri': esik_degeri,\n",
    "                                                            'aykiri_deger_sayisi' : aykiri_deger_sayisi, #log dönüşümü olmadan\n",
    "                                                            'aykiri_deger_sayisi_log': aykiri_deger_sayisi_log \n",
    "                                                            }, ignore_index=True)\n",
    "    print(\"-\"*10,\"\",j,\"-\"*10)\n",
    "    display(log_esik_degerleri)\n",
    "    log_esik_degerleri = pd.DataFrame()\n",
    "        "
   ]
  },
  {
   "cell_type": "code",
   "execution_count": 22,
   "metadata": {},
   "outputs": [
    {
     "data": {
      "image/png": "[encoded data removed]",
      "text/plain": [
       "<Figure size 432x288 with 1 Axes>"
      ]
     },
     "metadata": {
      "needs_background": "light"
     },
     "output_type": "display_data"
    }
   ],
   "source": [
    "# if we apply interpolite for 'goal' feature becasue it has a lot outlier value\n",
    "plt.boxplot(np.log(starts['goal']),whis=4)\n",
    "plt.show()"
   ]
  },
  {
   "cell_type": "code",
   "execution_count": 25,
   "metadata": {},
   "outputs": [],
   "source": [
    "# starts['success_pleged_ration']= (starts['pledged']*100)/starts['goal']"
   ]
  },
  {
   "cell_type": "code",
   "execution_count": 23,
   "metadata": {},
   "outputs": [
    {
     "data": {
      "text/html": [
       "<div>\n",
       "<style scoped>\n",
       "    .dataframe tbody tr th:only-of-type {\n",
       "        vertical-align: middle;\n",
       "    }\n",
       "\n",
       "    .dataframe tbody tr th {\n",
       "        vertical-align: top;\n",
       "    }\n",
       "\n",
       "    .dataframe thead th {\n",
       "        text-align: right;\n",
       "    }\n",
       "</style>\n",
       "<table border=\"1\" class=\"dataframe\">\n",
       "  <thead>\n",
       "    <tr style=\"text-align: right;\">\n",
       "      <th></th>\n",
       "      <th>ID</th>\n",
       "      <th>name</th>\n",
       "      <th>category</th>\n",
       "      <th>main_category</th>\n",
       "      <th>currency</th>\n",
       "      <th>deadline</th>\n",
       "      <th>goal</th>\n",
       "      <th>launched</th>\n",
       "      <th>pledged</th>\n",
       "      <th>state</th>\n",
       "      <th>backers</th>\n",
       "      <th>country</th>\n",
       "      <th>usd pledged</th>\n",
       "      <th>usd_pledged_real</th>\n",
       "      <th>usd_goal_real</th>\n",
       "    </tr>\n",
       "  </thead>\n",
       "  <tbody>\n",
       "    <tr>\n",
       "      <td>0</td>\n",
       "      <td>1000002330</td>\n",
       "      <td>The Songs of Adelaide &amp; Abullah</td>\n",
       "      <td>Poetry</td>\n",
       "      <td>Publishing</td>\n",
       "      <td>GBP</td>\n",
       "      <td>2015-10-09</td>\n",
       "      <td>1000.000</td>\n",
       "      <td>2015-08-11 12:12:28</td>\n",
       "      <td>0.000</td>\n",
       "      <td>failed</td>\n",
       "      <td>0</td>\n",
       "      <td>GB</td>\n",
       "      <td>0.000</td>\n",
       "      <td>0.000</td>\n",
       "      <td>1533.950</td>\n",
       "    </tr>\n",
       "    <tr>\n",
       "      <td>1</td>\n",
       "      <td>1000003930</td>\n",
       "      <td>Greeting From Earth: ZGAC Arts Capsule For ET</td>\n",
       "      <td>Narrative Film</td>\n",
       "      <td>Film &amp; Video</td>\n",
       "      <td>USD</td>\n",
       "      <td>2017-11-01</td>\n",
       "      <td>30000.000</td>\n",
       "      <td>2017-09-02 04:43:57</td>\n",
       "      <td>2421.000</td>\n",
       "      <td>failed</td>\n",
       "      <td>15</td>\n",
       "      <td>US</td>\n",
       "      <td>100.000</td>\n",
       "      <td>2421.000</td>\n",
       "      <td>30000.000</td>\n",
       "    </tr>\n",
       "    <tr>\n",
       "      <td>2</td>\n",
       "      <td>1000004038</td>\n",
       "      <td>Where is Hank?</td>\n",
       "      <td>Narrative Film</td>\n",
       "      <td>Film &amp; Video</td>\n",
       "      <td>USD</td>\n",
       "      <td>2013-02-26</td>\n",
       "      <td>45000.000</td>\n",
       "      <td>2013-01-12 00:20:50</td>\n",
       "      <td>220.000</td>\n",
       "      <td>failed</td>\n",
       "      <td>3</td>\n",
       "      <td>US</td>\n",
       "      <td>220.000</td>\n",
       "      <td>220.000</td>\n",
       "      <td>45000.000</td>\n",
       "    </tr>\n",
       "    <tr>\n",
       "      <td>3</td>\n",
       "      <td>1000007540</td>\n",
       "      <td>ToshiCapital Rekordz Needs Help to Complete Album</td>\n",
       "      <td>Music</td>\n",
       "      <td>Music</td>\n",
       "      <td>USD</td>\n",
       "      <td>2012-04-16</td>\n",
       "      <td>5000.000</td>\n",
       "      <td>2012-03-17 03:24:11</td>\n",
       "      <td>1.000</td>\n",
       "      <td>failed</td>\n",
       "      <td>1</td>\n",
       "      <td>US</td>\n",
       "      <td>1.000</td>\n",
       "      <td>1.000</td>\n",
       "      <td>5000.000</td>\n",
       "    </tr>\n",
       "    <tr>\n",
       "      <td>4</td>\n",
       "      <td>1000011046</td>\n",
       "      <td>Community Film Project: The Art of Neighborhoo...</td>\n",
       "      <td>Film &amp; Video</td>\n",
       "      <td>Film &amp; Video</td>\n",
       "      <td>USD</td>\n",
       "      <td>2015-08-29</td>\n",
       "      <td>19500.000</td>\n",
       "      <td>2015-07-04 08:35:03</td>\n",
       "      <td>1283.000</td>\n",
       "      <td>canceled</td>\n",
       "      <td>14</td>\n",
       "      <td>US</td>\n",
       "      <td>1283.000</td>\n",
       "      <td>1283.000</td>\n",
       "      <td>19500.000</td>\n",
       "    </tr>\n",
       "  </tbody>\n",
       "</table>\n",
       "</div>"
      ],
      "text/plain": [
       "           ID                                               name  \\\n",
       "0  1000002330                    The Songs of Adelaide & Abullah   \n",
       "1  1000003930      Greeting From Earth: ZGAC Arts Capsule For ET   \n",
       "2  1000004038                                     Where is Hank?   \n",
       "3  1000007540  ToshiCapital Rekordz Needs Help to Complete Album   \n",
       "4  1000011046  Community Film Project: The Art of Neighborhoo...   \n",
       "\n",
       "         category main_category currency    deadline      goal  \\\n",
       "0          Poetry    Publishing      GBP  2015-10-09  1000.000   \n",
       "1  Narrative Film  Film & Video      USD  2017-11-01 30000.000   \n",
       "2  Narrative Film  Film & Video      USD  2013-02-26 45000.000   \n",
       "3           Music         Music      USD  2012-04-16  5000.000   \n",
       "4    Film & Video  Film & Video      USD  2015-08-29 19500.000   \n",
       "\n",
       "              launched  pledged     state  backers country  usd pledged  \\\n",
       "0  2015-08-11 12:12:28    0.000    failed        0      GB        0.000   \n",
       "1  2017-09-02 04:43:57 2421.000    failed       15      US      100.000   \n",
       "2  2013-01-12 00:20:50  220.000    failed        3      US      220.000   \n",
       "3  2012-03-17 03:24:11    1.000    failed        1      US        1.000   \n",
       "4  2015-07-04 08:35:03 1283.000  canceled       14      US     1283.000   \n",
       "\n",
       "   usd_pledged_real  usd_goal_real  \n",
       "0             0.000       1533.950  \n",
       "1          2421.000      30000.000  \n",
       "2           220.000      45000.000  \n",
       "3             1.000       5000.000  \n",
       "4          1283.000      19500.000  "
      ]
     },
     "execution_count": 23,
     "metadata": {},
     "output_type": "execute_result"
    }
   ],
   "source": [
    "starts.head()"
   ]
  },
  {
   "cell_type": "code",
   "execution_count": null,
   "metadata": {},
   "outputs": [],
   "source": []
  },
  {
   "cell_type": "markdown",
   "metadata": {},
   "source": [
    "# backers ı  log yapmıyoruz çünkü kendisi kişi sayısı böylelikle verinin değerini real anlamda tutuyoruz\n",
    "# goal pledged ve success_pledged_ratio yu log alacagız fakat goal ve pledged ın log ifadesini aldıktan sonra succes_pledged_ration alacagız ki log lu ifadenin oranın almış olalım"
   ]
  },
  {
   "cell_type": "code",
   "execution_count": 24,
   "metadata": {},
   "outputs": [],
   "source": [
    "# log ifadeli değerlere dönüştürüyoruz aykırı degerlerden kurtulmak için\n",
    "starts_2= starts.copy()"
   ]
  },
  {
   "cell_type": "code",
   "execution_count": 25,
   "metadata": {},
   "outputs": [],
   "source": [
    "starts_2['goal']= np.log(starts_2['goal'])\n",
    "starts_2['pledged']= np.log(starts_2['pledged']+1) # we have 0.. if there is 0 log will write -inf\n",
    "starts_2['usd pledged']= np.log(starts_2['usd pledged']+1)  \n",
    "starts_2['usd_pledged_real']=np.log(starts_2['usd_pledged_real']+1) \n",
    "starts_2['usd_goal_real']= np.log(starts_2['usd_goal_real'])"
   ]
  },
  {
   "cell_type": "code",
   "execution_count": 26,
   "metadata": {},
   "outputs": [
    {
     "data": {
      "text/plain": [
       "RangeIndex(start=0, stop=378661, step=1)"
      ]
     },
     "execution_count": 26,
     "metadata": {},
     "output_type": "execute_result"
    }
   ],
   "source": [
    "np.log(starts_2['goal']).isnull().index # herhangi bir boş değerimiz yok.. "
   ]
  },
  {
   "cell_type": "code",
   "execution_count": 27,
   "metadata": {},
   "outputs": [
    {
     "data": {
      "text/plain": [
       "0        0.000\n",
       "1        7.792\n",
       "2        5.398\n",
       "3        0.693\n",
       "4        7.158\n",
       "          ... \n",
       "378656   3.258\n",
       "378657   5.050\n",
       "378658   3.045\n",
       "378659   5.303\n",
       "378660   6.263\n",
       "Name: pledged, Length: 378661, dtype: float64"
      ]
     },
     "execution_count": 27,
     "metadata": {},
     "output_type": "execute_result"
    }
   ],
   "source": [
    "starts_2['pledged']"
   ]
  },
  {
   "cell_type": "code",
   "execution_count": 28,
   "metadata": {},
   "outputs": [
    {
     "data": {
      "image/png": "[encoded data removed]",
      "text/plain": [
       "<Figure size 1296x1080 with 10 Axes>"
      ]
     },
     "metadata": {
      "needs_background": "light"
     },
     "output_type": "display_data"
    }
   ],
   "source": [
    "plt.figure(figsize=(18,15))\n",
    "log_columns=['goal','pledged','usd pledged','usd_pledged_real','usd_goal_real']\n",
    "    \n",
    "for i in range(5):\n",
    "    plt.subplot(2, 5, i+1)\n",
    "    plt.hist(starts_2[log_columns[i]])\n",
    "    plt.title(log_columns[i] + ' (log dönüşümlü)', fontdict=baslik_font)\n",
    "for i in range(5):\n",
    "    plt.subplot(2, 5, i+6)\n",
    "    plt.boxplot(starts_2[log_columns[i]])\n",
    "    plt.title(log_columns[i] + ' (log dönüşümlü)', fontdict=baslik_font)"
   ]
  },
  {
   "cell_type": "markdown",
   "metadata": {},
   "source": [
    "# yukarıda göründüğü gibi ifadelerimin log larını aldık ve ayıkırı değerlerden biraz olsun kurtulduk fakat 'goal' değilkeni bizim hedef değişkenlerimizden biri oldugu için onu winsorize edeceğiz ki aykırı değerlerden ne kadar azaltırsak o kadar iyi "
   ]
  },
  {
   "cell_type": "code",
   "execution_count": 29,
   "metadata": {},
   "outputs": [
    {
     "data": {
      "text/plain": [
       "masked_array(data=[ 7.31322039, 10.30895266, 10.71441777, ...,\n",
       "                    9.61580548,  9.61580548,  7.60090246],\n",
       "             mask=False,\n",
       "       fill_value=1e+20)"
      ]
     },
     "execution_count": 29,
     "metadata": {},
     "output_type": "execute_result"
    }
   ],
   "source": [
    "from scipy.stats.mstats import winsorize\n",
    "winsorize_goruntulenme = winsorize(starts_2[\"goal\"], (0.20, 0.10))\n",
    "\n",
    "winsorize_goruntulenme"
   ]
  },
  {
   "cell_type": "code",
   "execution_count": 30,
   "metadata": {},
   "outputs": [
    {
     "data": {
      "text/plain": [
       "{'whiskers': [<matplotlib.lines.Line2D at 0x24e718a3dc8>,\n",
       "  <matplotlib.lines.Line2D at 0x24e718a3ec8>],\n",
       " 'caps': [<matplotlib.lines.Line2D at 0x24e718a6d88>,\n",
       "  <matplotlib.lines.Line2D at 0x24e718a6e88>],\n",
       " 'boxes': [<matplotlib.lines.Line2D at 0x24e718a3448>],\n",
       " 'medians': [<matplotlib.lines.Line2D at 0x24e718a8d08>],\n",
       " 'fliers': [<matplotlib.lines.Line2D at 0x24e718a8c48>],\n",
       " 'means': []}"
      ]
     },
     "execution_count": 30,
     "metadata": {},
     "output_type": "execute_result"
    },
    {
     "data": {
      "image/png": "[encoded data removed]",
      "text/plain": [
       "<Figure size 432x288 with 1 Axes>"
      ]
     },
     "metadata": {
      "needs_background": "light"
     },
     "output_type": "display_data"
    }
   ],
   "source": [
    "plt.boxplot(winsorize_goruntulenme)"
   ]
  },
  {
   "cell_type": "code",
   "execution_count": 31,
   "metadata": {},
   "outputs": [
    {
     "data": {
      "text/plain": [
       "(array([101365.,  32872.,  20284.,  46906.,  23529.,  38889.,  22161.,\n",
       "         19896.,  25561.,  47198.]),\n",
       " array([ 7.31322039,  7.66387618,  8.01453197,  8.36518776,  8.71584355,\n",
       "         9.06649934,  9.41715513,  9.76781092, 10.1184667 , 10.46912249,\n",
       "        10.81977828]),\n",
       " <a list of 10 Patch objects>)"
      ]
     },
     "execution_count": 31,
     "metadata": {},
     "output_type": "execute_result"
    },
    {
     "data": {
      "image/png": "[encoded data removed]",
      "text/plain": [
       "<Figure size 432x288 with 1 Axes>"
      ]
     },
     "metadata": {
      "needs_background": "light"
     },
     "output_type": "display_data"
    }
   ],
   "source": [
    "plt.hist(winsorize_goruntulenme)"
   ]
  },
  {
   "cell_type": "code",
   "execution_count": 50,
   "metadata": {},
   "outputs": [],
   "source": [
    "starts_2['goal']=winsorize(starts_2[\"goal\"], (0.20,0.10))\n",
    "starts_2['usd_goal_real']=winsorize(starts_2[\"usd_goal_real\"], (0.20,0.10))"
   ]
  },
  {
   "cell_type": "code",
   "execution_count": 33,
   "metadata": {},
   "outputs": [
    {
     "data": {
      "text/plain": [
       "{'whiskers': [<matplotlib.lines.Line2D at 0x24e730d3808>,\n",
       "  <matplotlib.lines.Line2D at 0x24e730d3fc8>],\n",
       " 'caps': [<matplotlib.lines.Line2D at 0x24e730d3f48>,\n",
       "  <matplotlib.lines.Line2D at 0x24e730d8f48>],\n",
       " 'boxes': [<matplotlib.lines.Line2D at 0x24e730ced88>],\n",
       " 'medians': [<matplotlib.lines.Line2D at 0x24e730d8e88>],\n",
       " 'fliers': [<matplotlib.lines.Line2D at 0x24e730dd688>],\n",
       " 'means': []}"
      ]
     },
     "execution_count": 33,
     "metadata": {},
     "output_type": "execute_result"
    },
    {
     "data": {
      "image/png": "[encoded data removed]",
      "text/plain": [
       "<Figure size 432x288 with 1 Axes>"
      ]
     },
     "metadata": {
      "needs_background": "light"
     },
     "output_type": "display_data"
    }
   ],
   "source": [
    "plt.boxplot(starts_2['goal'])"
   ]
  },
  {
   "cell_type": "code",
   "execution_count": 34,
   "metadata": {},
   "outputs": [
    {
     "data": {
      "text/plain": [
       "(array([101365.,  32872.,  20284.,  46906.,  23529.,  38889.,  22161.,\n",
       "         19896.,  25561.,  47198.]),\n",
       " array([ 7.31322039,  7.66387618,  8.01453197,  8.36518776,  8.71584355,\n",
       "         9.06649934,  9.41715513,  9.76781092, 10.1184667 , 10.46912249,\n",
       "        10.81977828]),\n",
       " <a list of 10 Patch objects>)"
      ]
     },
     "execution_count": 34,
     "metadata": {},
     "output_type": "execute_result"
    },
    {
     "data": {
      "image/png": "[encoded data removed]",
      "text/plain": [
       "<Figure size 432x288 with 1 Axes>"
      ]
     },
     "metadata": {
      "needs_background": "light"
     },
     "output_type": "display_data"
    }
   ],
   "source": [
    "plt.hist(starts_2['goal'])"
   ]
  },
  {
   "cell_type": "code",
   "execution_count": 35,
   "metadata": {},
   "outputs": [
    {
     "data": {
      "text/html": [
       "<div>\n",
       "<style scoped>\n",
       "    .dataframe tbody tr th:only-of-type {\n",
       "        vertical-align: middle;\n",
       "    }\n",
       "\n",
       "    .dataframe tbody tr th {\n",
       "        vertical-align: top;\n",
       "    }\n",
       "\n",
       "    .dataframe thead th {\n",
       "        text-align: right;\n",
       "    }\n",
       "</style>\n",
       "<table border=\"1\" class=\"dataframe\">\n",
       "  <thead>\n",
       "    <tr style=\"text-align: right;\">\n",
       "      <th></th>\n",
       "      <th>ozellik</th>\n",
       "      <th>jarque_bera_stats</th>\n",
       "      <th>jarque_bera_p_value</th>\n",
       "      <th>normal_stats</th>\n",
       "      <th>normal_p_value</th>\n",
       "    </tr>\n",
       "  </thead>\n",
       "  <tbody>\n",
       "    <tr>\n",
       "      <td>0</td>\n",
       "      <td>goal</td>\n",
       "      <td>27164.98046</td>\n",
       "      <td>0.00000</td>\n",
       "      <td>241288.55998</td>\n",
       "      <td>0.00000</td>\n",
       "    </tr>\n",
       "    <tr>\n",
       "      <td>1</td>\n",
       "      <td>pledged</td>\n",
       "      <td>20771.79666</td>\n",
       "      <td>0.00000</td>\n",
       "      <td>44804.48053</td>\n",
       "      <td>0.00000</td>\n",
       "    </tr>\n",
       "    <tr>\n",
       "      <td>2</td>\n",
       "      <td>usd pledged</td>\n",
       "      <td>21919.76947</td>\n",
       "      <td>0.00000</td>\n",
       "      <td>95660.29753</td>\n",
       "      <td>0.00000</td>\n",
       "    </tr>\n",
       "    <tr>\n",
       "      <td>3</td>\n",
       "      <td>usd_pledged_real</td>\n",
       "      <td>21490.19489</td>\n",
       "      <td>0.00000</td>\n",
       "      <td>46191.14992</td>\n",
       "      <td>0.00000</td>\n",
       "    </tr>\n",
       "    <tr>\n",
       "      <td>4</td>\n",
       "      <td>usd_goal_real</td>\n",
       "      <td>47867.78765</td>\n",
       "      <td>0.00000</td>\n",
       "      <td>16698.75154</td>\n",
       "      <td>0.00000</td>\n",
       "    </tr>\n",
       "  </tbody>\n",
       "</table>\n",
       "</div>"
      ],
      "text/plain": [
       "            ozellik  jarque_bera_stats  jarque_bera_p_value  normal_stats  \\\n",
       "0              goal        27164.98046              0.00000  241288.55998   \n",
       "1           pledged        20771.79666              0.00000   44804.48053   \n",
       "2       usd pledged        21919.76947              0.00000   95660.29753   \n",
       "3  usd_pledged_real        21490.19489              0.00000   46191.14992   \n",
       "4     usd_goal_real        47867.78765              0.00000   16698.75154   \n",
       "\n",
       "   normal_p_value  \n",
       "0         0.00000  \n",
       "1         0.00000  \n",
       "2         0.00000  \n",
       "3         0.00000  \n",
       "4         0.00000  "
      ]
     },
     "execution_count": 35,
     "metadata": {},
     "output_type": "execute_result"
    }
   ],
   "source": [
    "from scipy.stats import jarque_bera\n",
    "from scipy.stats import normaltest\n",
    "\n",
    "pd.options.display.float_format = '{:.5f}'.format\n",
    "\n",
    "ozellikler = [\"goal\", \"pledged\", \"usd pledged\",\"usd_pledged_real\",\"usd_goal_real\"]\n",
    "dagilim_testleri = pd.DataFrame(columns=['ozellik', 'jarque_bera_stats', 'jarque_bera_p_value', \n",
    "                                         'normal_stats', 'normal_p_value'])\n",
    "\n",
    "for ozellik in ozellikler:\n",
    "    jb_stats = jarque_bera(starts_2[ozellik])\n",
    "    norm_stats = normaltest(starts_2[ozellik])\n",
    "    dagilim_testleri = dagilim_testleri.append({\"ozellik\": ozellik,\n",
    "                                                \"jarque_bera_stats\" : jb_stats[0] ,\n",
    "                                                \"jarque_bera_p_value\" : jb_stats[1] ,\n",
    "                                                \"normal_stats\": norm_stats[0] , \n",
    "                                                \"normal_p_value\" : norm_stats[1]\n",
    "                                               }, ignore_index=True)\n",
    "dagilim_testleri"
   ]
  },
  {
   "cell_type": "code",
   "execution_count": 36,
   "metadata": {},
   "outputs": [],
   "source": [
    "# görüldüğü gibi değişkenlerimiz normal dağılımlı değil çünkü p degeri 0 çıkmış halen aykırı değer var mı bakalım ?"
   ]
  },
  {
   "cell_type": "code",
   "execution_count": 37,
   "metadata": {},
   "outputs": [
    {
     "name": "stdout",
     "output_type": "stream",
     "text": [
      "----------  goal ----------\n"
     ]
    },
    {
     "data": {
      "text/html": [
       "<div>\n",
       "<style scoped>\n",
       "    .dataframe tbody tr th:only-of-type {\n",
       "        vertical-align: middle;\n",
       "    }\n",
       "\n",
       "    .dataframe tbody tr th {\n",
       "        vertical-align: top;\n",
       "    }\n",
       "\n",
       "    .dataframe thead th {\n",
       "        text-align: right;\n",
       "    }\n",
       "</style>\n",
       "<table border=\"1\" class=\"dataframe\">\n",
       "  <thead>\n",
       "    <tr style=\"text-align: right;\">\n",
       "      <th></th>\n",
       "      <th>aykiri_deger_sayisi_log</th>\n",
       "      <th>esik_degeri</th>\n",
       "    </tr>\n",
       "  </thead>\n",
       "  <tbody>\n",
       "    <tr>\n",
       "      <td>0</td>\n",
       "      <td>0.00000</td>\n",
       "      <td>1.00000</td>\n",
       "    </tr>\n",
       "    <tr>\n",
       "      <td>1</td>\n",
       "      <td>0.00000</td>\n",
       "      <td>2.00000</td>\n",
       "    </tr>\n",
       "    <tr>\n",
       "      <td>2</td>\n",
       "      <td>0.00000</td>\n",
       "      <td>3.00000</td>\n",
       "    </tr>\n",
       "    <tr>\n",
       "      <td>3</td>\n",
       "      <td>0.00000</td>\n",
       "      <td>4.00000</td>\n",
       "    </tr>\n",
       "  </tbody>\n",
       "</table>\n",
       "</div>"
      ],
      "text/plain": [
       "   aykiri_deger_sayisi_log  esik_degeri\n",
       "0                  0.00000      1.00000\n",
       "1                  0.00000      2.00000\n",
       "2                  0.00000      3.00000\n",
       "3                  0.00000      4.00000"
      ]
     },
     "metadata": {},
     "output_type": "display_data"
    },
    {
     "name": "stdout",
     "output_type": "stream",
     "text": [
      "----------  pledged ----------\n"
     ]
    },
    {
     "data": {
      "text/html": [
       "<div>\n",
       "<style scoped>\n",
       "    .dataframe tbody tr th:only-of-type {\n",
       "        vertical-align: middle;\n",
       "    }\n",
       "\n",
       "    .dataframe tbody tr th {\n",
       "        vertical-align: top;\n",
       "    }\n",
       "\n",
       "    .dataframe thead th {\n",
       "        text-align: right;\n",
       "    }\n",
       "</style>\n",
       "<table border=\"1\" class=\"dataframe\">\n",
       "  <thead>\n",
       "    <tr style=\"text-align: right;\">\n",
       "      <th></th>\n",
       "      <th>aykiri_deger_sayisi_log</th>\n",
       "      <th>esik_degeri</th>\n",
       "    </tr>\n",
       "  </thead>\n",
       "  <tbody>\n",
       "    <tr>\n",
       "      <td>0</td>\n",
       "      <td>724.00000</td>\n",
       "      <td>1.00000</td>\n",
       "    </tr>\n",
       "    <tr>\n",
       "      <td>1</td>\n",
       "      <td>0.00000</td>\n",
       "      <td>2.00000</td>\n",
       "    </tr>\n",
       "    <tr>\n",
       "      <td>2</td>\n",
       "      <td>0.00000</td>\n",
       "      <td>3.00000</td>\n",
       "    </tr>\n",
       "    <tr>\n",
       "      <td>3</td>\n",
       "      <td>0.00000</td>\n",
       "      <td>4.00000</td>\n",
       "    </tr>\n",
       "  </tbody>\n",
       "</table>\n",
       "</div>"
      ],
      "text/plain": [
       "   aykiri_deger_sayisi_log  esik_degeri\n",
       "0                724.00000      1.00000\n",
       "1                  0.00000      2.00000\n",
       "2                  0.00000      3.00000\n",
       "3                  0.00000      4.00000"
      ]
     },
     "metadata": {},
     "output_type": "display_data"
    },
    {
     "name": "stdout",
     "output_type": "stream",
     "text": [
      "----------  usd pledged ----------\n"
     ]
    },
    {
     "data": {
      "text/html": [
       "<div>\n",
       "<style scoped>\n",
       "    .dataframe tbody tr th:only-of-type {\n",
       "        vertical-align: middle;\n",
       "    }\n",
       "\n",
       "    .dataframe tbody tr th {\n",
       "        vertical-align: top;\n",
       "    }\n",
       "\n",
       "    .dataframe thead th {\n",
       "        text-align: right;\n",
       "    }\n",
       "</style>\n",
       "<table border=\"1\" class=\"dataframe\">\n",
       "  <thead>\n",
       "    <tr style=\"text-align: right;\">\n",
       "      <th></th>\n",
       "      <th>aykiri_deger_sayisi_log</th>\n",
       "      <th>esik_degeri</th>\n",
       "    </tr>\n",
       "  </thead>\n",
       "  <tbody>\n",
       "    <tr>\n",
       "      <td>0</td>\n",
       "      <td>426.00000</td>\n",
       "      <td>1.00000</td>\n",
       "    </tr>\n",
       "    <tr>\n",
       "      <td>1</td>\n",
       "      <td>0.00000</td>\n",
       "      <td>2.00000</td>\n",
       "    </tr>\n",
       "    <tr>\n",
       "      <td>2</td>\n",
       "      <td>0.00000</td>\n",
       "      <td>3.00000</td>\n",
       "    </tr>\n",
       "    <tr>\n",
       "      <td>3</td>\n",
       "      <td>0.00000</td>\n",
       "      <td>4.00000</td>\n",
       "    </tr>\n",
       "  </tbody>\n",
       "</table>\n",
       "</div>"
      ],
      "text/plain": [
       "   aykiri_deger_sayisi_log  esik_degeri\n",
       "0                426.00000      1.00000\n",
       "1                  0.00000      2.00000\n",
       "2                  0.00000      3.00000\n",
       "3                  0.00000      4.00000"
      ]
     },
     "metadata": {},
     "output_type": "display_data"
    },
    {
     "name": "stdout",
     "output_type": "stream",
     "text": [
      "----------  usd_pledged_real ----------\n"
     ]
    },
    {
     "data": {
      "text/html": [
       "<div>\n",
       "<style scoped>\n",
       "    .dataframe tbody tr th:only-of-type {\n",
       "        vertical-align: middle;\n",
       "    }\n",
       "\n",
       "    .dataframe tbody tr th {\n",
       "        vertical-align: top;\n",
       "    }\n",
       "\n",
       "    .dataframe thead th {\n",
       "        text-align: right;\n",
       "    }\n",
       "</style>\n",
       "<table border=\"1\" class=\"dataframe\">\n",
       "  <thead>\n",
       "    <tr style=\"text-align: right;\">\n",
       "      <th></th>\n",
       "      <th>aykiri_deger_sayisi_log</th>\n",
       "      <th>esik_degeri</th>\n",
       "    </tr>\n",
       "  </thead>\n",
       "  <tbody>\n",
       "    <tr>\n",
       "      <td>0</td>\n",
       "      <td>663.00000</td>\n",
       "      <td>1.00000</td>\n",
       "    </tr>\n",
       "    <tr>\n",
       "      <td>1</td>\n",
       "      <td>0.00000</td>\n",
       "      <td>2.00000</td>\n",
       "    </tr>\n",
       "    <tr>\n",
       "      <td>2</td>\n",
       "      <td>0.00000</td>\n",
       "      <td>3.00000</td>\n",
       "    </tr>\n",
       "    <tr>\n",
       "      <td>3</td>\n",
       "      <td>0.00000</td>\n",
       "      <td>4.00000</td>\n",
       "    </tr>\n",
       "  </tbody>\n",
       "</table>\n",
       "</div>"
      ],
      "text/plain": [
       "   aykiri_deger_sayisi_log  esik_degeri\n",
       "0                663.00000      1.00000\n",
       "1                  0.00000      2.00000\n",
       "2                  0.00000      3.00000\n",
       "3                  0.00000      4.00000"
      ]
     },
     "metadata": {},
     "output_type": "display_data"
    },
    {
     "name": "stdout",
     "output_type": "stream",
     "text": [
      "----------  usd_goal_real ----------\n"
     ]
    },
    {
     "data": {
      "text/html": [
       "<div>\n",
       "<style scoped>\n",
       "    .dataframe tbody tr th:only-of-type {\n",
       "        vertical-align: middle;\n",
       "    }\n",
       "\n",
       "    .dataframe tbody tr th {\n",
       "        vertical-align: top;\n",
       "    }\n",
       "\n",
       "    .dataframe thead th {\n",
       "        text-align: right;\n",
       "    }\n",
       "</style>\n",
       "<table border=\"1\" class=\"dataframe\">\n",
       "  <thead>\n",
       "    <tr style=\"text-align: right;\">\n",
       "      <th></th>\n",
       "      <th>aykiri_deger_sayisi_log</th>\n",
       "      <th>esik_degeri</th>\n",
       "    </tr>\n",
       "  </thead>\n",
       "  <tbody>\n",
       "    <tr>\n",
       "      <td>0</td>\n",
       "      <td>23703.00000</td>\n",
       "      <td>1.00000</td>\n",
       "    </tr>\n",
       "    <tr>\n",
       "      <td>1</td>\n",
       "      <td>3842.00000</td>\n",
       "      <td>2.00000</td>\n",
       "    </tr>\n",
       "    <tr>\n",
       "      <td>2</td>\n",
       "      <td>724.00000</td>\n",
       "      <td>3.00000</td>\n",
       "    </tr>\n",
       "    <tr>\n",
       "      <td>3</td>\n",
       "      <td>47.00000</td>\n",
       "      <td>4.00000</td>\n",
       "    </tr>\n",
       "  </tbody>\n",
       "</table>\n",
       "</div>"
      ],
      "text/plain": [
       "   aykiri_deger_sayisi_log  esik_degeri\n",
       "0              23703.00000      1.00000\n",
       "1               3842.00000      2.00000\n",
       "2                724.00000      3.00000\n",
       "3                 47.00000      4.00000"
      ]
     },
     "metadata": {},
     "output_type": "display_data"
    }
   ],
   "source": [
    "log_esik_degerleri_starts_2 = pd.DataFrame()\n",
    "degiskenler = ['goal', 'pledged',\"usd pledged\",\"usd_pledged_real\",\"usd_goal_real\"]\n",
    "for j in degiskenler:\n",
    "    for esik_degeri in np.arange(1,5,1):\n",
    "        q75_log, q25_log = np.percentile(np.log(starts[j]), [75 ,25])\n",
    "        caa_log = q75_log - q25_log\n",
    "        q75, q25 = np.percentile(starts[j], [75 ,25])\n",
    "        caa= q75 - q25\n",
    "        min_deger_log = q25_log - (caa_log*esik_degeri) \n",
    "        maks_deger_log = q75_log + (caa_log*esik_degeri)\n",
    "        min_deger= q25 - (caa*esik_degeri) #log dönüşümü olmadan\n",
    "        maks_deger = q75 + (caa*esik_degeri) #log dönüşümü olmadan\n",
    "        aykiri_deger_sayisi_log = len((np.where((starts_2[j] > maks_deger_log)| \n",
    "                                               (starts_2[j] < min_deger_log))[0]))\n",
    "        log_esik_degerleri_starts_2 = log_esik_degerleri_starts_2.append({'esik_degeri': esik_degeri,\n",
    "                                                            'aykiri_deger_sayisi_log': aykiri_deger_sayisi_log \n",
    "                                                            }, ignore_index=True)\n",
    "    print(\"-\"*10,\"\",j,\"-\"*10)\n",
    "    display(log_esik_degerleri_starts_2)\n",
    "    log_esik_degerleri_starts_2 = pd.DataFrame()"
   ]
  },
  {
   "cell_type": "code",
   "execution_count": 38,
   "metadata": {},
   "outputs": [],
   "source": [
    "# görüldüğü gibi goal değişkenini hem log hemde winsorize ederken bütün aykırı değerlerini oradan kaldırmışız. "
   ]
  },
  {
   "cell_type": "code",
   "execution_count": null,
   "metadata": {},
   "outputs": [],
   "source": []
  },
  {
   "cell_type": "code",
   "execution_count": 176,
   "metadata": {},
   "outputs": [],
   "source": [
    "starts_2.to_csv('Winsorize_log_starts',encoding='utf-8')"
   ]
  },
  {
   "cell_type": "markdown",
   "metadata": {},
   "source": [
    "### Özet ; Aykırı değerlerden kurtulmak adına değikenlerimizin log ifadelerinin aldık ve goal değikeni bizim hedef değişkenlerimizden biri oldugu için; log ifadesi alınmış goal değişkeninde bulunan aykırı değerlerden kurtulmak için winsorize ettik fakat mantıklı bir yaklaşım olmadı değişkenimizi normal dağılımdan uzaklaştırdı ve veri gerçekçiliğini kaybetti dolayısıyla bu yakalaşım yanlış sonuçlandı. Şimdi bütün değişkenlerimizi normalize edip aykırı değerlerden kurtulmaya çalışacağız. "
   ]
  },
  {
   "cell_type": "code",
   "execution_count": 39,
   "metadata": {},
   "outputs": [
    {
     "data": {
      "text/html": [
       "<div>\n",
       "<style scoped>\n",
       "    .dataframe tbody tr th:only-of-type {\n",
       "        vertical-align: middle;\n",
       "    }\n",
       "\n",
       "    .dataframe tbody tr th {\n",
       "        vertical-align: top;\n",
       "    }\n",
       "\n",
       "    .dataframe thead th {\n",
       "        text-align: right;\n",
       "    }\n",
       "</style>\n",
       "<table border=\"1\" class=\"dataframe\">\n",
       "  <thead>\n",
       "    <tr style=\"text-align: right;\">\n",
       "      <th></th>\n",
       "      <th>ID</th>\n",
       "      <th>name</th>\n",
       "      <th>category</th>\n",
       "      <th>main_category</th>\n",
       "      <th>currency</th>\n",
       "      <th>deadline</th>\n",
       "      <th>goal</th>\n",
       "      <th>launched</th>\n",
       "      <th>pledged</th>\n",
       "      <th>state</th>\n",
       "      <th>backers</th>\n",
       "      <th>country</th>\n",
       "      <th>usd pledged</th>\n",
       "      <th>usd_pledged_real</th>\n",
       "      <th>usd_goal_real</th>\n",
       "    </tr>\n",
       "  </thead>\n",
       "  <tbody>\n",
       "    <tr>\n",
       "      <td>0</td>\n",
       "      <td>1000002330</td>\n",
       "      <td>The Songs of Adelaide &amp; Abullah</td>\n",
       "      <td>Poetry</td>\n",
       "      <td>Publishing</td>\n",
       "      <td>GBP</td>\n",
       "      <td>2015-10-09</td>\n",
       "      <td>1000.00000</td>\n",
       "      <td>2015-08-11 12:12:28</td>\n",
       "      <td>0.00000</td>\n",
       "      <td>failed</td>\n",
       "      <td>0</td>\n",
       "      <td>GB</td>\n",
       "      <td>0.00000</td>\n",
       "      <td>0.00000</td>\n",
       "      <td>1533.95000</td>\n",
       "    </tr>\n",
       "    <tr>\n",
       "      <td>1</td>\n",
       "      <td>1000003930</td>\n",
       "      <td>Greeting From Earth: ZGAC Arts Capsule For ET</td>\n",
       "      <td>Narrative Film</td>\n",
       "      <td>Film &amp; Video</td>\n",
       "      <td>USD</td>\n",
       "      <td>2017-11-01</td>\n",
       "      <td>30000.00000</td>\n",
       "      <td>2017-09-02 04:43:57</td>\n",
       "      <td>2421.00000</td>\n",
       "      <td>failed</td>\n",
       "      <td>15</td>\n",
       "      <td>US</td>\n",
       "      <td>100.00000</td>\n",
       "      <td>2421.00000</td>\n",
       "      <td>30000.00000</td>\n",
       "    </tr>\n",
       "    <tr>\n",
       "      <td>2</td>\n",
       "      <td>1000004038</td>\n",
       "      <td>Where is Hank?</td>\n",
       "      <td>Narrative Film</td>\n",
       "      <td>Film &amp; Video</td>\n",
       "      <td>USD</td>\n",
       "      <td>2013-02-26</td>\n",
       "      <td>45000.00000</td>\n",
       "      <td>2013-01-12 00:20:50</td>\n",
       "      <td>220.00000</td>\n",
       "      <td>failed</td>\n",
       "      <td>3</td>\n",
       "      <td>US</td>\n",
       "      <td>220.00000</td>\n",
       "      <td>220.00000</td>\n",
       "      <td>45000.00000</td>\n",
       "    </tr>\n",
       "    <tr>\n",
       "      <td>3</td>\n",
       "      <td>1000007540</td>\n",
       "      <td>ToshiCapital Rekordz Needs Help to Complete Album</td>\n",
       "      <td>Music</td>\n",
       "      <td>Music</td>\n",
       "      <td>USD</td>\n",
       "      <td>2012-04-16</td>\n",
       "      <td>5000.00000</td>\n",
       "      <td>2012-03-17 03:24:11</td>\n",
       "      <td>1.00000</td>\n",
       "      <td>failed</td>\n",
       "      <td>1</td>\n",
       "      <td>US</td>\n",
       "      <td>1.00000</td>\n",
       "      <td>1.00000</td>\n",
       "      <td>5000.00000</td>\n",
       "    </tr>\n",
       "    <tr>\n",
       "      <td>4</td>\n",
       "      <td>1000011046</td>\n",
       "      <td>Community Film Project: The Art of Neighborhoo...</td>\n",
       "      <td>Film &amp; Video</td>\n",
       "      <td>Film &amp; Video</td>\n",
       "      <td>USD</td>\n",
       "      <td>2015-08-29</td>\n",
       "      <td>19500.00000</td>\n",
       "      <td>2015-07-04 08:35:03</td>\n",
       "      <td>1283.00000</td>\n",
       "      <td>canceled</td>\n",
       "      <td>14</td>\n",
       "      <td>US</td>\n",
       "      <td>1283.00000</td>\n",
       "      <td>1283.00000</td>\n",
       "      <td>19500.00000</td>\n",
       "    </tr>\n",
       "  </tbody>\n",
       "</table>\n",
       "</div>"
      ],
      "text/plain": [
       "           ID                                               name  \\\n",
       "0  1000002330                    The Songs of Adelaide & Abullah   \n",
       "1  1000003930      Greeting From Earth: ZGAC Arts Capsule For ET   \n",
       "2  1000004038                                     Where is Hank?   \n",
       "3  1000007540  ToshiCapital Rekordz Needs Help to Complete Album   \n",
       "4  1000011046  Community Film Project: The Art of Neighborhoo...   \n",
       "\n",
       "         category main_category currency    deadline        goal  \\\n",
       "0          Poetry    Publishing      GBP  2015-10-09  1000.00000   \n",
       "1  Narrative Film  Film & Video      USD  2017-11-01 30000.00000   \n",
       "2  Narrative Film  Film & Video      USD  2013-02-26 45000.00000   \n",
       "3           Music         Music      USD  2012-04-16  5000.00000   \n",
       "4    Film & Video  Film & Video      USD  2015-08-29 19500.00000   \n",
       "\n",
       "              launched    pledged     state  backers country  usd pledged  \\\n",
       "0  2015-08-11 12:12:28    0.00000    failed        0      GB      0.00000   \n",
       "1  2017-09-02 04:43:57 2421.00000    failed       15      US    100.00000   \n",
       "2  2013-01-12 00:20:50  220.00000    failed        3      US    220.00000   \n",
       "3  2012-03-17 03:24:11    1.00000    failed        1      US      1.00000   \n",
       "4  2015-07-04 08:35:03 1283.00000  canceled       14      US   1283.00000   \n",
       "\n",
       "   usd_pledged_real  usd_goal_real  \n",
       "0           0.00000     1533.95000  \n",
       "1        2421.00000    30000.00000  \n",
       "2         220.00000    45000.00000  \n",
       "3           1.00000     5000.00000  \n",
       "4        1283.00000    19500.00000  "
      ]
     },
     "execution_count": 39,
     "metadata": {},
     "output_type": "execute_result"
    }
   ],
   "source": [
    "starts.head()"
   ]
  },
  {
   "cell_type": "code",
   "execution_count": 40,
   "metadata": {},
   "outputs": [
    {
     "data": {
      "text/plain": [
       "ID                 0.00000\n",
       "name               0.00000\n",
       "category           0.00000\n",
       "main_category      0.00000\n",
       "currency           0.00000\n",
       "deadline           0.00000\n",
       "goal               0.00000\n",
       "launched           0.00000\n",
       "pledged            0.00000\n",
       "state              0.00000\n",
       "backers            0.00000\n",
       "country            0.00000\n",
       "usd pledged        0.00000\n",
       "usd_pledged_real   0.00000\n",
       "usd_goal_real      0.00000\n",
       "dtype: float64"
      ]
     },
     "execution_count": 40,
     "metadata": {},
     "output_type": "execute_result"
    }
   ],
   "source": [
    "starts.isnull().sum()*100/starts.shape[0]"
   ]
  },
  {
   "cell_type": "code",
   "execution_count": 41,
   "metadata": {},
   "outputs": [
    {
     "name": "stdout",
     "output_type": "stream",
     "text": [
      "Minimum Değer\n",
      "-----------------\n",
      "goal                    0.01000\n",
      "norm_goal               0.00000\n",
      "pledged                 0.00000\n",
      "norm_pledged            0.00000\n",
      "usd_pledged_real        0.00000\n",
      "norm_usd_pledged_real   0.00000\n",
      "usd_goal_real           0.01000\n",
      "norm_usd_goal_real      0.00000\n",
      "dtype: float64\n",
      "\n",
      "Maksimum Değer\n",
      "-----------------\n",
      "goal                    100000000.00000\n",
      "norm_goal                       0.13721\n",
      "pledged                  20338986.27000\n",
      "norm_pledged                    0.34385\n",
      "usd_pledged_real         20338986.27000\n",
      "norm_usd_pledged_real           0.36153\n",
      "usd_goal_real           166361390.71000\n",
      "norm_usd_goal_real              0.23430\n",
      "dtype: float64\n"
     ]
    }
   ],
   "source": [
    "from sklearn.preprocessing import normalize\n",
    "\n",
    "starts[\"norm_goal\"] = normalize(np.array(starts[\"goal\"]).reshape(1,-1)).reshape(-1,1)\n",
    "starts[\"norm_pledged\"] = normalize(np.array(starts[\"pledged\"]).reshape(1,-1)).reshape(-1,1)\n",
    "#starts[\"norm_usd_pledged\"] = normalize(np.array(starts[\"usd pledged\"]).reshape(1,-1)).reshape(-1,1)\n",
    "starts[\"norm_usd_pledged_real\"] = normalize(np.array(starts[\"usd_pledged_real\"]).reshape(1,-1)).reshape(-1,1)\n",
    "starts[\"norm_usd_goal_real\"] = normalize(np.array(starts[\"usd_goal_real\"]).reshape(1,-1)).reshape(-1,1)\n",
    "\n",
    "normal_ozellikler=[\"goal\",\"norm_goal\",\"pledged\",\"norm_pledged\",\n",
    "                    \"usd_pledged_real\",\"norm_usd_pledged_real\",\"usd_goal_real\",\"norm_usd_goal_real\"]\n",
    "\n",
    "\n",
    "print('Minimum Değer\\n-----------------',)\n",
    "print(starts[normal_ozellikler].min())\n",
    "print('\\nMaksimum Değer\\n-----------------',)\n",
    "print(starts[normal_ozellikler].max())"
   ]
  },
  {
   "cell_type": "code",
   "execution_count": 42,
   "metadata": {},
   "outputs": [
    {
     "data": {
      "image/png": "[encoded data removed]",
      "text/plain": [
       "<Figure size 1296x360 with 4 Axes>"
      ]
     },
     "metadata": {
      "needs_background": "light"
     },
     "output_type": "display_data"
    }
   ],
   "source": [
    "plt.figure(figsize=(18,5))\n",
    "\n",
    "for i in range(4):\n",
    "    plt.subplot(1,4,i+1)\n",
    "    plt.scatter(starts[normal_ozellikler[2*i]], starts[normal_ozellikler[2*i+1]])\n",
    "    plt.title(\"Orjinal ve Normalize değerler \\n ({})\".format(normal_ozellikler[2*i]), fontdict=baslik_font)\n",
    "    plt.xlabel(\"Orjinal Değerler\", fontdict=eksen_font)\n",
    "    plt.ylabel(\"Normalleştirilmiş değerler\", fontdict=eksen_font)\n",
    "\n",
    "plt.show()"
   ]
  },
  {
   "cell_type": "code",
   "execution_count": 53,
   "metadata": {},
   "outputs": [],
   "source": [
    "# göründüğü gibi ayıkırı değerlerimizin sayısı birkaç adete indi. Şimdi burada winsorize kullanabiliriz. "
   ]
  },
  {
   "cell_type": "code",
   "execution_count": 43,
   "metadata": {},
   "outputs": [
    {
     "data": {
      "text/plain": [
       "(array([227628.,  60789.,  28956.,  14420.,   6676.,  10698.,   3723.,\n",
       "          2226.,   3590.,  19955.]),\n",
       " array([1.37206195e-11, 1.23485699e-05, 2.46971261e-05, 3.70456823e-05,\n",
       "        4.93942385e-05, 6.17427947e-05, 7.40913510e-05, 8.64399072e-05,\n",
       "        9.87884634e-05, 1.11137020e-04, 1.23485576e-04]),\n",
       " <a list of 10 Patch objects>)"
      ]
     },
     "execution_count": 43,
     "metadata": {},
     "output_type": "execute_result"
    },
    {
     "data": {
      "image/png": "[encoded data removed]",
      "text/plain": [
       "<Figure size 432x288 with 1 Axes>"
      ]
     },
     "metadata": {
      "needs_background": "light"
     },
     "output_type": "display_data"
    }
   ],
   "source": [
    "plt.hist(winsorize(starts['norm_goal'], (0,.05)))"
   ]
  },
  {
   "cell_type": "code",
   "execution_count": 44,
   "metadata": {},
   "outputs": [
    {
     "data": {
      "text/plain": [
       "(array([3.78507e+05, 4.40000e+01, 3.20000e+01, 1.40000e+01, 1.60000e+01,\n",
       "        5.00000e+00, 1.00000e+00, 4.00000e+00, 0.00000e+00, 3.80000e+01]),\n",
       " array([1.37206195e-11, 1.37206195e-02, 2.74412391e-02, 4.11618586e-02,\n",
       "        5.48824781e-02, 6.86030977e-02, 8.23237172e-02, 9.60443367e-02,\n",
       "        1.09764956e-01, 1.23485576e-01, 1.37206195e-01]),\n",
       " <a list of 10 Patch objects>)"
      ]
     },
     "execution_count": 44,
     "metadata": {},
     "output_type": "execute_result"
    },
    {
     "data": {
      "image/png": "[encoded data removed]",
      "text/plain": [
       "<Figure size 432x288 with 1 Axes>"
      ]
     },
     "metadata": {
      "needs_background": "light"
     },
     "output_type": "display_data"
    }
   ],
   "source": [
    "plt.hist(starts['norm_goal'])"
   ]
  },
  {
   "cell_type": "markdown",
   "metadata": {},
   "source": [
    "### Evet, görüldüğü gibi normalleşme işleminden sonra hedef deişkenimiz normal dağılımından çok uzaklaştı. Bu veri üzerinden çalışmaktan ziyade log ifadesi alınmış ve hedef değişkeni winsorize edilmiş olan veri seti ile çalışacağız. Bu veri seti bize kolaylık sağşayacaktır."
   ]
  },
  {
   "cell_type": "code",
   "execution_count": 45,
   "metadata": {},
   "outputs": [
    {
     "data": {
      "text/html": [
       "<div>\n",
       "<style scoped>\n",
       "    .dataframe tbody tr th:only-of-type {\n",
       "        vertical-align: middle;\n",
       "    }\n",
       "\n",
       "    .dataframe tbody tr th {\n",
       "        vertical-align: top;\n",
       "    }\n",
       "\n",
       "    .dataframe thead th {\n",
       "        text-align: right;\n",
       "    }\n",
       "</style>\n",
       "<table border=\"1\" class=\"dataframe\">\n",
       "  <thead>\n",
       "    <tr style=\"text-align: right;\">\n",
       "      <th></th>\n",
       "      <th>ID</th>\n",
       "      <th>name</th>\n",
       "      <th>category</th>\n",
       "      <th>main_category</th>\n",
       "      <th>currency</th>\n",
       "      <th>deadline</th>\n",
       "      <th>goal</th>\n",
       "      <th>launched</th>\n",
       "      <th>pledged</th>\n",
       "      <th>state</th>\n",
       "      <th>backers</th>\n",
       "      <th>country</th>\n",
       "      <th>usd pledged</th>\n",
       "      <th>usd_pledged_real</th>\n",
       "      <th>usd_goal_real</th>\n",
       "    </tr>\n",
       "  </thead>\n",
       "  <tbody>\n",
       "    <tr>\n",
       "      <td>0</td>\n",
       "      <td>1000002330</td>\n",
       "      <td>The Songs of Adelaide &amp; Abullah</td>\n",
       "      <td>Poetry</td>\n",
       "      <td>Publishing</td>\n",
       "      <td>GBP</td>\n",
       "      <td>2015-10-09</td>\n",
       "      <td>7.31322</td>\n",
       "      <td>2015-08-11 12:12:28</td>\n",
       "      <td>0.00000</td>\n",
       "      <td>failed</td>\n",
       "      <td>0</td>\n",
       "      <td>GB</td>\n",
       "      <td>0.00000</td>\n",
       "      <td>0.00000</td>\n",
       "      <td>7.33560</td>\n",
       "    </tr>\n",
       "    <tr>\n",
       "      <td>1</td>\n",
       "      <td>1000003930</td>\n",
       "      <td>Greeting From Earth: ZGAC Arts Capsule For ET</td>\n",
       "      <td>Narrative Film</td>\n",
       "      <td>Film &amp; Video</td>\n",
       "      <td>USD</td>\n",
       "      <td>2017-11-01</td>\n",
       "      <td>10.30895</td>\n",
       "      <td>2017-09-02 04:43:57</td>\n",
       "      <td>7.79235</td>\n",
       "      <td>failed</td>\n",
       "      <td>15</td>\n",
       "      <td>US</td>\n",
       "      <td>4.61512</td>\n",
       "      <td>7.79235</td>\n",
       "      <td>10.30895</td>\n",
       "    </tr>\n",
       "    <tr>\n",
       "      <td>2</td>\n",
       "      <td>1000004038</td>\n",
       "      <td>Where is Hank?</td>\n",
       "      <td>Narrative Film</td>\n",
       "      <td>Film &amp; Video</td>\n",
       "      <td>USD</td>\n",
       "      <td>2013-02-26</td>\n",
       "      <td>10.71442</td>\n",
       "      <td>2013-01-12 00:20:50</td>\n",
       "      <td>5.39816</td>\n",
       "      <td>failed</td>\n",
       "      <td>3</td>\n",
       "      <td>US</td>\n",
       "      <td>5.39816</td>\n",
       "      <td>5.39816</td>\n",
       "      <td>10.71442</td>\n",
       "    </tr>\n",
       "    <tr>\n",
       "      <td>3</td>\n",
       "      <td>1000007540</td>\n",
       "      <td>ToshiCapital Rekordz Needs Help to Complete Album</td>\n",
       "      <td>Music</td>\n",
       "      <td>Music</td>\n",
       "      <td>USD</td>\n",
       "      <td>2012-04-16</td>\n",
       "      <td>8.51719</td>\n",
       "      <td>2012-03-17 03:24:11</td>\n",
       "      <td>0.69315</td>\n",
       "      <td>failed</td>\n",
       "      <td>1</td>\n",
       "      <td>US</td>\n",
       "      <td>0.69315</td>\n",
       "      <td>0.69315</td>\n",
       "      <td>8.51719</td>\n",
       "    </tr>\n",
       "    <tr>\n",
       "      <td>4</td>\n",
       "      <td>1000011046</td>\n",
       "      <td>Community Film Project: The Art of Neighborhoo...</td>\n",
       "      <td>Film &amp; Video</td>\n",
       "      <td>Film &amp; Video</td>\n",
       "      <td>USD</td>\n",
       "      <td>2015-08-29</td>\n",
       "      <td>9.87817</td>\n",
       "      <td>2015-07-04 08:35:03</td>\n",
       "      <td>7.15774</td>\n",
       "      <td>canceled</td>\n",
       "      <td>14</td>\n",
       "      <td>US</td>\n",
       "      <td>7.15774</td>\n",
       "      <td>7.15774</td>\n",
       "      <td>9.87817</td>\n",
       "    </tr>\n",
       "  </tbody>\n",
       "</table>\n",
       "</div>"
      ],
      "text/plain": [
       "           ID                                               name  \\\n",
       "0  1000002330                    The Songs of Adelaide & Abullah   \n",
       "1  1000003930      Greeting From Earth: ZGAC Arts Capsule For ET   \n",
       "2  1000004038                                     Where is Hank?   \n",
       "3  1000007540  ToshiCapital Rekordz Needs Help to Complete Album   \n",
       "4  1000011046  Community Film Project: The Art of Neighborhoo...   \n",
       "\n",
       "         category main_category currency    deadline     goal  \\\n",
       "0          Poetry    Publishing      GBP  2015-10-09  7.31322   \n",
       "1  Narrative Film  Film & Video      USD  2017-11-01 10.30895   \n",
       "2  Narrative Film  Film & Video      USD  2013-02-26 10.71442   \n",
       "3           Music         Music      USD  2012-04-16  8.51719   \n",
       "4    Film & Video  Film & Video      USD  2015-08-29  9.87817   \n",
       "\n",
       "              launched  pledged     state  backers country  usd pledged  \\\n",
       "0  2015-08-11 12:12:28  0.00000    failed        0      GB      0.00000   \n",
       "1  2017-09-02 04:43:57  7.79235    failed       15      US      4.61512   \n",
       "2  2013-01-12 00:20:50  5.39816    failed        3      US      5.39816   \n",
       "3  2012-03-17 03:24:11  0.69315    failed        1      US      0.69315   \n",
       "4  2015-07-04 08:35:03  7.15774  canceled       14      US      7.15774   \n",
       "\n",
       "   usd_pledged_real  usd_goal_real  \n",
       "0           0.00000        7.33560  \n",
       "1           7.79235       10.30895  \n",
       "2           5.39816       10.71442  \n",
       "3           0.69315        8.51719  \n",
       "4           7.15774        9.87817  "
      ]
     },
     "execution_count": 45,
     "metadata": {},
     "output_type": "execute_result"
    }
   ],
   "source": [
    "starts_2.head()"
   ]
  },
  {
   "cell_type": "code",
   "execution_count": 46,
   "metadata": {},
   "outputs": [
    {
     "data": {
      "text/plain": [
       "(array([101365.,  32872.,  20284.,  46906.,  23529.,  38889.,  22161.,\n",
       "         19896.,  25561.,  47198.]),\n",
       " array([ 7.31322039,  7.66387618,  8.01453197,  8.36518776,  8.71584355,\n",
       "         9.06649934,  9.41715513,  9.76781092, 10.1184667 , 10.46912249,\n",
       "        10.81977828]),\n",
       " <a list of 10 Patch objects>)"
      ]
     },
     "execution_count": 46,
     "metadata": {},
     "output_type": "execute_result"
    },
    {
     "data": {
      "image/png": "[encoded data removed]",
      "text/plain": [
       "<Figure size 432x288 with 1 Axes>"
      ]
     },
     "metadata": {
      "needs_background": "light"
     },
     "output_type": "display_data"
    }
   ],
   "source": [
    "plt.hist(starts_2['goal'])"
   ]
  },
  {
   "cell_type": "code",
   "execution_count": 47,
   "metadata": {},
   "outputs": [],
   "source": [
    "starts_2['success_pleged_ration']= (starts['pledged']*100)/starts['goal']"
   ]
  },
  {
   "cell_type": "code",
   "execution_count": 56,
   "metadata": {},
   "outputs": [
    {
     "data": {
      "text/html": [
       "<div>\n",
       "<style scoped>\n",
       "    .dataframe tbody tr th:only-of-type {\n",
       "        vertical-align: middle;\n",
       "    }\n",
       "\n",
       "    .dataframe tbody tr th {\n",
       "        vertical-align: top;\n",
       "    }\n",
       "\n",
       "    .dataframe thead th {\n",
       "        text-align: right;\n",
       "    }\n",
       "</style>\n",
       "<table border=\"1\" class=\"dataframe\">\n",
       "  <thead>\n",
       "    <tr style=\"text-align: right;\">\n",
       "      <th></th>\n",
       "      <th>ID</th>\n",
       "      <th>name</th>\n",
       "      <th>category</th>\n",
       "      <th>main_category</th>\n",
       "      <th>currency</th>\n",
       "      <th>deadline</th>\n",
       "      <th>goal</th>\n",
       "      <th>launched</th>\n",
       "      <th>pledged</th>\n",
       "      <th>state</th>\n",
       "      <th>backers</th>\n",
       "      <th>country</th>\n",
       "      <th>usd pledged</th>\n",
       "      <th>usd_pledged_real</th>\n",
       "      <th>usd_goal_real</th>\n",
       "      <th>success_pleged_ration</th>\n",
       "    </tr>\n",
       "  </thead>\n",
       "  <tbody>\n",
       "    <tr>\n",
       "      <td>0</td>\n",
       "      <td>1000002330</td>\n",
       "      <td>The Songs of Adelaide &amp; Abullah</td>\n",
       "      <td>Poetry</td>\n",
       "      <td>Publishing</td>\n",
       "      <td>GBP</td>\n",
       "      <td>2015-10-09</td>\n",
       "      <td>7.31322</td>\n",
       "      <td>2015-08-11 12:12:28</td>\n",
       "      <td>0.00000</td>\n",
       "      <td>failed</td>\n",
       "      <td>0</td>\n",
       "      <td>GB</td>\n",
       "      <td>0.00000</td>\n",
       "      <td>0.00000</td>\n",
       "      <td>7.33560</td>\n",
       "      <td>0.00000</td>\n",
       "    </tr>\n",
       "    <tr>\n",
       "      <td>1</td>\n",
       "      <td>1000003930</td>\n",
       "      <td>Greeting From Earth: ZGAC Arts Capsule For ET</td>\n",
       "      <td>Narrative Film</td>\n",
       "      <td>Film &amp; Video</td>\n",
       "      <td>USD</td>\n",
       "      <td>2017-11-01</td>\n",
       "      <td>10.30895</td>\n",
       "      <td>2017-09-02 04:43:57</td>\n",
       "      <td>7.79235</td>\n",
       "      <td>failed</td>\n",
       "      <td>15</td>\n",
       "      <td>US</td>\n",
       "      <td>4.61512</td>\n",
       "      <td>7.79235</td>\n",
       "      <td>10.30895</td>\n",
       "      <td>8.07000</td>\n",
       "    </tr>\n",
       "    <tr>\n",
       "      <td>2</td>\n",
       "      <td>1000004038</td>\n",
       "      <td>Where is Hank?</td>\n",
       "      <td>Narrative Film</td>\n",
       "      <td>Film &amp; Video</td>\n",
       "      <td>USD</td>\n",
       "      <td>2013-02-26</td>\n",
       "      <td>10.71442</td>\n",
       "      <td>2013-01-12 00:20:50</td>\n",
       "      <td>5.39816</td>\n",
       "      <td>failed</td>\n",
       "      <td>3</td>\n",
       "      <td>US</td>\n",
       "      <td>5.39816</td>\n",
       "      <td>5.39816</td>\n",
       "      <td>10.71442</td>\n",
       "      <td>0.48889</td>\n",
       "    </tr>\n",
       "    <tr>\n",
       "      <td>3</td>\n",
       "      <td>1000007540</td>\n",
       "      <td>ToshiCapital Rekordz Needs Help to Complete Album</td>\n",
       "      <td>Music</td>\n",
       "      <td>Music</td>\n",
       "      <td>USD</td>\n",
       "      <td>2012-04-16</td>\n",
       "      <td>8.51719</td>\n",
       "      <td>2012-03-17 03:24:11</td>\n",
       "      <td>0.69315</td>\n",
       "      <td>failed</td>\n",
       "      <td>1</td>\n",
       "      <td>US</td>\n",
       "      <td>0.69315</td>\n",
       "      <td>0.69315</td>\n",
       "      <td>8.51719</td>\n",
       "      <td>0.02000</td>\n",
       "    </tr>\n",
       "    <tr>\n",
       "      <td>4</td>\n",
       "      <td>1000011046</td>\n",
       "      <td>Community Film Project: The Art of Neighborhoo...</td>\n",
       "      <td>Film &amp; Video</td>\n",
       "      <td>Film &amp; Video</td>\n",
       "      <td>USD</td>\n",
       "      <td>2015-08-29</td>\n",
       "      <td>9.87817</td>\n",
       "      <td>2015-07-04 08:35:03</td>\n",
       "      <td>7.15774</td>\n",
       "      <td>canceled</td>\n",
       "      <td>14</td>\n",
       "      <td>US</td>\n",
       "      <td>7.15774</td>\n",
       "      <td>7.15774</td>\n",
       "      <td>9.87817</td>\n",
       "      <td>6.57949</td>\n",
       "    </tr>\n",
       "  </tbody>\n",
       "</table>\n",
       "</div>"
      ],
      "text/plain": [
       "           ID                                               name  \\\n",
       "0  1000002330                    The Songs of Adelaide & Abullah   \n",
       "1  1000003930      Greeting From Earth: ZGAC Arts Capsule For ET   \n",
       "2  1000004038                                     Where is Hank?   \n",
       "3  1000007540  ToshiCapital Rekordz Needs Help to Complete Album   \n",
       "4  1000011046  Community Film Project: The Art of Neighborhoo...   \n",
       "\n",
       "         category main_category currency    deadline     goal  \\\n",
       "0          Poetry    Publishing      GBP  2015-10-09  7.31322   \n",
       "1  Narrative Film  Film & Video      USD  2017-11-01 10.30895   \n",
       "2  Narrative Film  Film & Video      USD  2013-02-26 10.71442   \n",
       "3           Music         Music      USD  2012-04-16  8.51719   \n",
       "4    Film & Video  Film & Video      USD  2015-08-29  9.87817   \n",
       "\n",
       "              launched  pledged     state  backers country  usd pledged  \\\n",
       "0  2015-08-11 12:12:28  0.00000    failed        0      GB      0.00000   \n",
       "1  2017-09-02 04:43:57  7.79235    failed       15      US      4.61512   \n",
       "2  2013-01-12 00:20:50  5.39816    failed        3      US      5.39816   \n",
       "3  2012-03-17 03:24:11  0.69315    failed        1      US      0.69315   \n",
       "4  2015-07-04 08:35:03  7.15774  canceled       14      US      7.15774   \n",
       "\n",
       "   usd_pledged_real  usd_goal_real  success_pleged_ration  \n",
       "0           0.00000        7.33560                0.00000  \n",
       "1           7.79235       10.30895                8.07000  \n",
       "2           5.39816       10.71442                0.48889  \n",
       "3           0.69315        8.51719                0.02000  \n",
       "4           7.15774        9.87817                6.57949  "
      ]
     },
     "execution_count": 56,
     "metadata": {},
     "output_type": "execute_result"
    }
   ],
   "source": [
    "starts_2.head()"
   ]
  },
  {
   "cell_type": "code",
   "execution_count": 55,
   "metadata": {},
   "outputs": [
    {
     "data": {
      "image/png": "[encoded data removed]",
      "text/plain": [
       "<Figure size 1296x1080 with 10 Axes>"
      ]
     },
     "metadata": {
      "needs_background": "light"
     },
     "output_type": "display_data"
    }
   ],
   "source": [
    "plt.figure(figsize=(18,15))\n",
    "log_columns=['goal','pledged','usd pledged','usd_pledged_real','usd_goal_real','success_pleged_ration']\n",
    "    \n",
    "for i in range(5):\n",
    "    plt.subplot(2, 5, i+1)\n",
    "    plt.hist(starts_2[log_columns[i]])\n",
    "    plt.title(log_columns[i] + ' (log dönüşümlü)', fontdict=baslik_font)\n",
    "for i in range(5):\n",
    "    plt.subplot(2, 5, i+6)\n",
    "    plt.boxplot(starts_2[log_columns[i]])\n",
    "    plt.title(log_columns[i] + ' (log dönüşümlü)', fontdict=baslik_font)"
   ]
  },
  {
   "cell_type": "code",
   "execution_count": 59,
   "metadata": {},
   "outputs": [
    {
     "data": {
      "text/html": [
       "<div>\n",
       "<style scoped>\n",
       "    .dataframe tbody tr th:only-of-type {\n",
       "        vertical-align: middle;\n",
       "    }\n",
       "\n",
       "    .dataframe tbody tr th {\n",
       "        vertical-align: top;\n",
       "    }\n",
       "\n",
       "    .dataframe thead th {\n",
       "        text-align: right;\n",
       "    }\n",
       "</style>\n",
       "<table border=\"1\" class=\"dataframe\">\n",
       "  <thead>\n",
       "    <tr style=\"text-align: right;\">\n",
       "      <th></th>\n",
       "      <th>ID</th>\n",
       "      <th>goal</th>\n",
       "      <th>pledged</th>\n",
       "      <th>backers</th>\n",
       "      <th>usd pledged</th>\n",
       "      <th>usd_pledged_real</th>\n",
       "      <th>usd_goal_real</th>\n",
       "      <th>success_pleged_ration</th>\n",
       "    </tr>\n",
       "  </thead>\n",
       "  <tbody>\n",
       "    <tr>\n",
       "      <td>ID</td>\n",
       "      <td>1.00000</td>\n",
       "      <td>-0.00023</td>\n",
       "      <td>-0.00127</td>\n",
       "      <td>0.00065</td>\n",
       "      <td>-0.00570</td>\n",
       "      <td>-0.00142</td>\n",
       "      <td>-0.00062</td>\n",
       "      <td>-0.00084</td>\n",
       "    </tr>\n",
       "    <tr>\n",
       "      <td>goal</td>\n",
       "      <td>-0.00023</td>\n",
       "      <td>1.00000</td>\n",
       "      <td>0.13613</td>\n",
       "      <td>0.08855</td>\n",
       "      <td>0.10863</td>\n",
       "      <td>0.12260</td>\n",
       "      <td>0.97763</td>\n",
       "      <td>-0.01197</td>\n",
       "    </tr>\n",
       "    <tr>\n",
       "      <td>pledged</td>\n",
       "      <td>-0.00127</td>\n",
       "      <td>0.13613</td>\n",
       "      <td>1.00000</td>\n",
       "      <td>0.18537</td>\n",
       "      <td>0.92398</td>\n",
       "      <td>0.99618</td>\n",
       "      <td>0.13106</td>\n",
       "      <td>0.01363</td>\n",
       "    </tr>\n",
       "    <tr>\n",
       "      <td>backers</td>\n",
       "      <td>0.00065</td>\n",
       "      <td>0.08855</td>\n",
       "      <td>0.18537</td>\n",
       "      <td>1.00000</td>\n",
       "      <td>0.17490</td>\n",
       "      <td>0.18614</td>\n",
       "      <td>0.08950</td>\n",
       "      <td>0.01661</td>\n",
       "    </tr>\n",
       "    <tr>\n",
       "      <td>usd pledged</td>\n",
       "      <td>-0.00570</td>\n",
       "      <td>0.10863</td>\n",
       "      <td>0.92398</td>\n",
       "      <td>0.17490</td>\n",
       "      <td>1.00000</td>\n",
       "      <td>0.93112</td>\n",
       "      <td>0.12469</td>\n",
       "      <td>0.01200</td>\n",
       "    </tr>\n",
       "    <tr>\n",
       "      <td>usd_pledged_real</td>\n",
       "      <td>-0.00142</td>\n",
       "      <td>0.12260</td>\n",
       "      <td>0.99618</td>\n",
       "      <td>0.18614</td>\n",
       "      <td>0.93112</td>\n",
       "      <td>1.00000</td>\n",
       "      <td>0.13210</td>\n",
       "      <td>0.01367</td>\n",
       "    </tr>\n",
       "    <tr>\n",
       "      <td>usd_goal_real</td>\n",
       "      <td>-0.00062</td>\n",
       "      <td>0.97763</td>\n",
       "      <td>0.13106</td>\n",
       "      <td>0.08950</td>\n",
       "      <td>0.12469</td>\n",
       "      <td>0.13210</td>\n",
       "      <td>1.00000</td>\n",
       "      <td>-0.01209</td>\n",
       "    </tr>\n",
       "    <tr>\n",
       "      <td>success_pleged_ration</td>\n",
       "      <td>-0.00084</td>\n",
       "      <td>-0.01197</td>\n",
       "      <td>0.01363</td>\n",
       "      <td>0.01661</td>\n",
       "      <td>0.01200</td>\n",
       "      <td>0.01367</td>\n",
       "      <td>-0.01209</td>\n",
       "      <td>1.00000</td>\n",
       "    </tr>\n",
       "  </tbody>\n",
       "</table>\n",
       "</div>"
      ],
      "text/plain": [
       "                            ID     goal  pledged  backers  usd pledged  \\\n",
       "ID                     1.00000 -0.00023 -0.00127  0.00065     -0.00570   \n",
       "goal                  -0.00023  1.00000  0.13613  0.08855      0.10863   \n",
       "pledged               -0.00127  0.13613  1.00000  0.18537      0.92398   \n",
       "backers                0.00065  0.08855  0.18537  1.00000      0.17490   \n",
       "usd pledged           -0.00570  0.10863  0.92398  0.17490      1.00000   \n",
       "usd_pledged_real      -0.00142  0.12260  0.99618  0.18614      0.93112   \n",
       "usd_goal_real         -0.00062  0.97763  0.13106  0.08950      0.12469   \n",
       "success_pleged_ration -0.00084 -0.01197  0.01363  0.01661      0.01200   \n",
       "\n",
       "                       usd_pledged_real  usd_goal_real  success_pleged_ration  \n",
       "ID                             -0.00142       -0.00062               -0.00084  \n",
       "goal                            0.12260        0.97763               -0.01197  \n",
       "pledged                         0.99618        0.13106                0.01363  \n",
       "backers                         0.18614        0.08950                0.01661  \n",
       "usd pledged                     0.93112        0.12469                0.01200  \n",
       "usd_pledged_real                1.00000        0.13210                0.01367  \n",
       "usd_goal_real                   0.13210        1.00000               -0.01209  \n",
       "success_pleged_ration           0.01367       -0.01209                1.00000  "
      ]
     },
     "metadata": {},
     "output_type": "display_data"
    }
   ],
   "source": [
    "corr_starts_2=starts_2.corr()\n",
    "display(corr_starts_2)"
   ]
  },
  {
   "cell_type": "code",
   "execution_count": 61,
   "metadata": {},
   "outputs": [
    {
     "data": {
      "image/png": "[encoded data removed]",
      "text/plain": [
       "<Figure size 1296x360 with 2 Axes>"
      ]
     },
     "metadata": {
      "needs_background": "light"
     },
     "output_type": "display_data"
    }
   ],
   "source": [
    "plt.figure(figsize=(18,5))\n",
    "sns.heatmap(corr_starts_2, square=True, annot=True, linewidths=.5, vmin=0, vmax=1, cmap='viridis')\n",
    "plt.title(\"Korelasyon Matrisi (Starts_2)\", fontdict=baslik_font)\n",
    "\n",
    "plt.show()"
   ]
  },
  {
   "cell_type": "code",
   "execution_count": null,
   "metadata": {},
   "outputs": [],
   "source": []
  }
 ],
 "metadata": {
  "kernelspec": {
   "display_name": "Python 3",
   "language": "python",
   "name": "python3"
  },
  "language_info": {
   "codemirror_mode": {
    "name": "ipython",
    "version": 3
   },
   "file_extension": ".py",
   "mimetype": "text/x-python",
   "name": "python",
   "nbconvert_exporter": "python",
   "pygments_lexer": "ipython3",
   "version": "3.7.4"
  }
 },
 "nbformat": 4,
 "nbformat_minor": 2
}
