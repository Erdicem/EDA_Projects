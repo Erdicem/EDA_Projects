{
 "cells": [
  {
   "cell_type": "code",
   "execution_count": 6,
   "metadata": {},
   "outputs": [],
   "source": [
    "import numpy as np\n",
    "import pandas as pd \n",
    "import matplotlib.pyplot as plt \n",
    "import seaborn as sns\n",
    "import statsmodels.api as sm \n",
    "import warnings\n",
    "warnings.filterwarnings('ignore')"
   ]
  },
  {
   "cell_type": "markdown",
   "metadata": {},
   "source": [
    "# Brazilian Houses To Rent "
   ]
  },
  {
   "cell_type": "markdown",
   "metadata": {},
   "source": [
    "# Columns\n",
    "- id\n",
    "- city: City where the property is located\n",
    "- area:Area do imovel / Property area\n",
    "- rooms:Numero de quartos/ Quantity of rooms\n",
    "- bathroom:Numero de banheiros / Quantity of bathroom\n",
    "- parking spaces:Numero de vagas / Quantity of parking spaces\n",
    "- floor:Andar / Floor\n",
    "- animal:Aceita animais? / Acept animals?\n",
    "- furniture: Mobilhada? / Furniture?\n",
    "- hoa: Valor do condominio / Homeowners association tax\n",
    "- rent amount: Valor do Aluguel / Rent amount\n",
    "- property tax: IPTU / Property tax\n",
    "- fire insurance: Seguro Incendio / Fire Insurance\n",
    "- total: Valor total / Total"
   ]
  },
  {
   "cell_type": "code",
   "execution_count": 7,
   "metadata": {},
   "outputs": [
    {
     "data": {
      "text/html": [
       "<div>\n",
       "<style scoped>\n",
       "    .dataframe tbody tr th:only-of-type {\n",
       "        vertical-align: middle;\n",
       "    }\n",
       "\n",
       "    .dataframe tbody tr th {\n",
       "        vertical-align: top;\n",
       "    }\n",
       "\n",
       "    .dataframe thead th {\n",
       "        text-align: right;\n",
       "    }\n",
       "</style>\n",
       "<table border=\"1\" class=\"dataframe\">\n",
       "  <thead>\n",
       "    <tr style=\"text-align: right;\">\n",
       "      <th></th>\n",
       "      <th>city</th>\n",
       "      <th>area</th>\n",
       "      <th>rooms</th>\n",
       "      <th>bathroom</th>\n",
       "      <th>parking spaces</th>\n",
       "      <th>floor</th>\n",
       "      <th>animal</th>\n",
       "      <th>furniture</th>\n",
       "      <th>hoa (R$)</th>\n",
       "      <th>rent amount (R$)</th>\n",
       "      <th>property tax (R$)</th>\n",
       "      <th>fire insurance (R$)</th>\n",
       "      <th>total (R$)</th>\n",
       "    </tr>\n",
       "  </thead>\n",
       "  <tbody>\n",
       "    <tr>\n",
       "      <td>0</td>\n",
       "      <td>São Paulo</td>\n",
       "      <td>70</td>\n",
       "      <td>2</td>\n",
       "      <td>1</td>\n",
       "      <td>1</td>\n",
       "      <td>7</td>\n",
       "      <td>acept</td>\n",
       "      <td>furnished</td>\n",
       "      <td>2065</td>\n",
       "      <td>3300</td>\n",
       "      <td>211</td>\n",
       "      <td>42</td>\n",
       "      <td>5618</td>\n",
       "    </tr>\n",
       "    <tr>\n",
       "      <td>1</td>\n",
       "      <td>São Paulo</td>\n",
       "      <td>320</td>\n",
       "      <td>4</td>\n",
       "      <td>4</td>\n",
       "      <td>0</td>\n",
       "      <td>20</td>\n",
       "      <td>acept</td>\n",
       "      <td>not furnished</td>\n",
       "      <td>1200</td>\n",
       "      <td>4960</td>\n",
       "      <td>1750</td>\n",
       "      <td>63</td>\n",
       "      <td>7973</td>\n",
       "    </tr>\n",
       "    <tr>\n",
       "      <td>2</td>\n",
       "      <td>Porto Alegre</td>\n",
       "      <td>80</td>\n",
       "      <td>1</td>\n",
       "      <td>1</td>\n",
       "      <td>1</td>\n",
       "      <td>6</td>\n",
       "      <td>acept</td>\n",
       "      <td>not furnished</td>\n",
       "      <td>1000</td>\n",
       "      <td>2800</td>\n",
       "      <td>0</td>\n",
       "      <td>41</td>\n",
       "      <td>3841</td>\n",
       "    </tr>\n",
       "    <tr>\n",
       "      <td>3</td>\n",
       "      <td>Porto Alegre</td>\n",
       "      <td>51</td>\n",
       "      <td>2</td>\n",
       "      <td>1</td>\n",
       "      <td>0</td>\n",
       "      <td>2</td>\n",
       "      <td>acept</td>\n",
       "      <td>not furnished</td>\n",
       "      <td>270</td>\n",
       "      <td>1112</td>\n",
       "      <td>22</td>\n",
       "      <td>17</td>\n",
       "      <td>1421</td>\n",
       "    </tr>\n",
       "    <tr>\n",
       "      <td>4</td>\n",
       "      <td>São Paulo</td>\n",
       "      <td>25</td>\n",
       "      <td>1</td>\n",
       "      <td>1</td>\n",
       "      <td>0</td>\n",
       "      <td>1</td>\n",
       "      <td>not acept</td>\n",
       "      <td>not furnished</td>\n",
       "      <td>0</td>\n",
       "      <td>800</td>\n",
       "      <td>25</td>\n",
       "      <td>11</td>\n",
       "      <td>836</td>\n",
       "    </tr>\n",
       "  </tbody>\n",
       "</table>\n",
       "</div>"
      ],
      "text/plain": [
       "           city  area  rooms  bathroom  parking spaces floor     animal  \\\n",
       "0     São Paulo    70      2         1               1     7      acept   \n",
       "1     São Paulo   320      4         4               0    20      acept   \n",
       "2  Porto Alegre    80      1         1               1     6      acept   \n",
       "3  Porto Alegre    51      2         1               0     2      acept   \n",
       "4     São Paulo    25      1         1               0     1  not acept   \n",
       "\n",
       "       furniture  hoa (R$)  rent amount (R$)  property tax (R$)  \\\n",
       "0      furnished      2065              3300                211   \n",
       "1  not furnished      1200              4960               1750   \n",
       "2  not furnished      1000              2800                  0   \n",
       "3  not furnished       270              1112                 22   \n",
       "4  not furnished         0               800                 25   \n",
       "\n",
       "   fire insurance (R$)  total (R$)  \n",
       "0                   42        5618  \n",
       "1                   63        7973  \n",
       "2                   41        3841  \n",
       "3                   17        1421  \n",
       "4                   11         836  "
      ]
     },
     "execution_count": 7,
     "metadata": {},
     "output_type": "execute_result"
    }
   ],
   "source": [
    "df = pd.read_csv('houses_to_rent_v2.csv')\n",
    "df.head()"
   ]
  },
  {
   "cell_type": "code",
   "execution_count": 8,
   "metadata": {},
   "outputs": [
    {
     "data": {
      "text/plain": [
       "(10692, 13)"
      ]
     },
     "execution_count": 8,
     "metadata": {},
     "output_type": "execute_result"
    }
   ],
   "source": [
    "df.shape"
   ]
  },
  {
   "cell_type": "code",
   "execution_count": 9,
   "metadata": {},
   "outputs": [
    {
     "name": "stdout",
     "output_type": "stream",
     "text": [
      "<class 'pandas.core.frame.DataFrame'>\n",
      "RangeIndex: 10692 entries, 0 to 10691\n",
      "Data columns (total 13 columns):\n",
      "city                   10692 non-null object\n",
      "area                   10692 non-null int64\n",
      "rooms                  10692 non-null int64\n",
      "bathroom               10692 non-null int64\n",
      "parking spaces         10692 non-null int64\n",
      "floor                  10692 non-null object\n",
      "animal                 10692 non-null object\n",
      "furniture              10692 non-null object\n",
      "hoa (R$)               10692 non-null int64\n",
      "rent amount (R$)       10692 non-null int64\n",
      "property tax (R$)      10692 non-null int64\n",
      "fire insurance (R$)    10692 non-null int64\n",
      "total (R$)             10692 non-null int64\n",
      "dtypes: int64(9), object(4)\n",
      "memory usage: 1.1+ MB\n"
     ]
    }
   ],
   "source": [
    "df.info()"
   ]
  },
  {
   "cell_type": "code",
   "execution_count": 10,
   "metadata": {},
   "outputs": [
    {
     "data": {
      "text/plain": [
       "array(['7', '20', '6', '2', '1', '-', '4', '3', '10', '11', '24', '9',\n",
       "       '8', '17', '18', '5', '13', '15', '16', '14', '26', '12', '21',\n",
       "       '19', '22', '27', '23', '35', '25', '46', '28', '29', '301', '51',\n",
       "       '32'], dtype=object)"
      ]
     },
     "execution_count": 10,
     "metadata": {},
     "output_type": "execute_result"
    }
   ],
   "source": [
    "df.floor.unique()"
   ]
  },
  {
   "cell_type": "code",
   "execution_count": 11,
   "metadata": {},
   "outputs": [],
   "source": [
    "df[\"floor\"] = df[\"floor\"].apply(str.strip).replace(\"-\", np.nan)\n",
    "df[\"floor\"] = pd.to_numeric(df[\"floor\"], downcast=\"float\")"
   ]
  },
  {
   "cell_type": "code",
   "execution_count": 12,
   "metadata": {},
   "outputs": [
    {
     "name": "stdout",
     "output_type": "stream",
     "text": [
      "<class 'pandas.core.frame.DataFrame'>\n",
      "RangeIndex: 10692 entries, 0 to 10691\n",
      "Data columns (total 13 columns):\n",
      "city                   10692 non-null object\n",
      "area                   10692 non-null int64\n",
      "rooms                  10692 non-null int64\n",
      "bathroom               10692 non-null int64\n",
      "parking spaces         10692 non-null int64\n",
      "floor                  8231 non-null float32\n",
      "animal                 10692 non-null object\n",
      "furniture              10692 non-null object\n",
      "hoa (R$)               10692 non-null int64\n",
      "rent amount (R$)       10692 non-null int64\n",
      "property tax (R$)      10692 non-null int64\n",
      "fire insurance (R$)    10692 non-null int64\n",
      "total (R$)             10692 non-null int64\n",
      "dtypes: float32(1), int64(9), object(3)\n",
      "memory usage: 1.0+ MB\n"
     ]
    }
   ],
   "source": [
    "df.info()"
   ]
  },
  {
   "cell_type": "markdown",
   "metadata": {},
   "source": [
    "# Missing Value "
   ]
  },
  {
   "cell_type": "code",
   "execution_count": 13,
   "metadata": {},
   "outputs": [
    {
     "data": {
      "text/plain": [
       "city                    0.000000\n",
       "area                    0.000000\n",
       "rooms                   0.000000\n",
       "bathroom                0.000000\n",
       "parking spaces          0.000000\n",
       "floor                  23.017209\n",
       "animal                  0.000000\n",
       "furniture               0.000000\n",
       "hoa (R$)                0.000000\n",
       "rent amount (R$)        0.000000\n",
       "property tax (R$)       0.000000\n",
       "fire insurance (R$)     0.000000\n",
       "total (R$)              0.000000\n",
       "dtype: float64"
      ]
     },
     "execution_count": 13,
     "metadata": {},
     "output_type": "execute_result"
    }
   ],
   "source": [
    "df.isnull().sum()*100/df.shape[0]"
   ]
  },
  {
   "cell_type": "code",
   "execution_count": 14,
   "metadata": {},
   "outputs": [],
   "source": [
    "df[\"floor\"].interpolate(method ='linear', limit_direction ='forward',inplace=True)"
   ]
  },
  {
   "cell_type": "code",
   "execution_count": 15,
   "metadata": {},
   "outputs": [
    {
     "data": {
      "text/plain": [
       "city                   0.0\n",
       "area                   0.0\n",
       "rooms                  0.0\n",
       "bathroom               0.0\n",
       "parking spaces         0.0\n",
       "floor                  0.0\n",
       "animal                 0.0\n",
       "furniture              0.0\n",
       "hoa (R$)               0.0\n",
       "rent amount (R$)       0.0\n",
       "property tax (R$)      0.0\n",
       "fire insurance (R$)    0.0\n",
       "total (R$)             0.0\n",
       "dtype: float64"
      ]
     },
     "execution_count": 15,
     "metadata": {},
     "output_type": "execute_result"
    }
   ],
   "source": [
    "df.isnull().sum()*100/df.shape[0]"
   ]
  },
  {
   "cell_type": "markdown",
   "metadata": {},
   "source": [
    "# Outliner Values"
   ]
  },
  {
   "cell_type": "code",
   "execution_count": 16,
   "metadata": {},
   "outputs": [
    {
     "data": {
      "image/png": "[encoded data removed]",
      "text/plain": [
       "<Figure size 576x360 with 1 Axes>"
      ]
     },
     "metadata": {
      "needs_background": "light"
     },
     "output_type": "display_data"
    }
   ],
   "source": [
    "plt.figure(figsize=(8,5))\n",
    "plt.boxplot(df['total (R$)'])\n",
    "plt.show()"
   ]
  },
  {
   "cell_type": "code",
   "execution_count": 17,
   "metadata": {},
   "outputs": [
    {
     "data": {
      "image/png": "[encoded data removed]",
      "text/plain": [
       "<Figure size 2016x1296 with 20 Axes>"
      ]
     },
     "metadata": {
      "needs_background": "light"
     },
     "output_type": "display_data"
    }
   ],
   "source": [
    "title_font = {'family': 'arial', 'color': 'darkred','weight': 'bold','size': 13 }\n",
    "curve_font  = {'family': 'arial', 'color': 'darkblue','weight': 'bold','size': 10 }\n",
    "\n",
    "plt.figure(figsize=(28,18))\n",
    "columns=[ 'area', 'rooms', 'bathroom', 'parking spaces', 'floor',\n",
    "         'hoa (R$)', 'rent amount (R$)',\n",
    "       'property tax (R$)', 'fire insurance (R$)', 'total (R$)']\n",
    "    \n",
    "for i in range(10):\n",
    "    plt.subplot(2, 10, i+1)\n",
    "    plt.hist(df[columns[i]])\n",
    "    plt.title(columns[i] , fontdict=title_font)\n",
    "for i in range(10):\n",
    "    plt.subplot(2, 10, i+11)\n",
    "    plt.boxplot(df[columns[i]])\n",
    "    plt.title(columns[i]  , fontdict=title_font)"
   ]
  },
  {
   "cell_type": "markdown",
   "metadata": {},
   "source": [
    "# Logarithm Expressive Outliner Values"
   ]
  },
  {
   "cell_type": "code",
   "execution_count": 18,
   "metadata": {},
   "outputs": [
    {
     "data": {
      "image/png": "[encoded data removed]",
      "text/plain": [
       "<Figure size 2016x1296 with 20 Axes>"
      ]
     },
     "metadata": {
      "needs_background": "light"
     },
     "output_type": "display_data"
    }
   ],
   "source": [
    "plt.figure(figsize=(28,18))\n",
    "columns=[ 'area', 'rooms', 'bathroom', 'parking spaces', 'floor',\n",
    "         'hoa (R$)', 'rent amount (R$)',\n",
    "       'property tax (R$)', 'fire insurance (R$)', 'total (R$)']\n",
    "    \n",
    "for i in range(10):\n",
    "    plt.subplot(2, 10, i+1)\n",
    "    plt.hist(np.log(df[columns[i]]+1))\n",
    "    plt.title(columns[i] , fontdict=title_font)\n",
    "for i in range(10):\n",
    "    plt.subplot(2, 10, i+11)\n",
    "    plt.boxplot(np.log(df[columns[i]]+1))\n",
    "    plt.title(columns[i]  , fontdict=title_font)"
   ]
  },
  {
   "cell_type": "markdown",
   "metadata": {},
   "source": [
    "# IQR Method"
   ]
  },
  {
   "cell_type": "code",
   "execution_count": 19,
   "metadata": {},
   "outputs": [
    {
     "name": "stdout",
     "output_type": "stream",
     "text": [
      "----------  area ----------\n"
     ]
    },
    {
     "data": {
      "text/html": [
       "<div>\n",
       "<style scoped>\n",
       "    .dataframe tbody tr th:only-of-type {\n",
       "        vertical-align: middle;\n",
       "    }\n",
       "\n",
       "    .dataframe tbody tr th {\n",
       "        vertical-align: top;\n",
       "    }\n",
       "\n",
       "    .dataframe thead th {\n",
       "        text-align: right;\n",
       "    }\n",
       "</style>\n",
       "<table border=\"1\" class=\"dataframe\">\n",
       "  <thead>\n",
       "    <tr style=\"text-align: right;\">\n",
       "      <th></th>\n",
       "      <th>number_of_outliers</th>\n",
       "      <th>number_of_outliers_log</th>\n",
       "      <th>threshold_worth</th>\n",
       "    </tr>\n",
       "  </thead>\n",
       "  <tbody>\n",
       "    <tr>\n",
       "      <td>0</td>\n",
       "      <td>1038.0</td>\n",
       "      <td>208.0</td>\n",
       "      <td>1.0</td>\n",
       "    </tr>\n",
       "    <tr>\n",
       "      <td>1</td>\n",
       "      <td>418.0</td>\n",
       "      <td>5.0</td>\n",
       "      <td>2.0</td>\n",
       "    </tr>\n",
       "    <tr>\n",
       "      <td>2</td>\n",
       "      <td>180.0</td>\n",
       "      <td>3.0</td>\n",
       "      <td>3.0</td>\n",
       "    </tr>\n",
       "    <tr>\n",
       "      <td>3</td>\n",
       "      <td>96.0</td>\n",
       "      <td>2.0</td>\n",
       "      <td>4.0</td>\n",
       "    </tr>\n",
       "  </tbody>\n",
       "</table>\n",
       "</div>"
      ],
      "text/plain": [
       "   number_of_outliers  number_of_outliers_log  threshold_worth\n",
       "0              1038.0                   208.0              1.0\n",
       "1               418.0                     5.0              2.0\n",
       "2               180.0                     3.0              3.0\n",
       "3                96.0                     2.0              4.0"
      ]
     },
     "metadata": {},
     "output_type": "display_data"
    },
    {
     "name": "stdout",
     "output_type": "stream",
     "text": [
      "----------  rooms ----------\n"
     ]
    },
    {
     "data": {
      "text/html": [
       "<div>\n",
       "<style scoped>\n",
       "    .dataframe tbody tr th:only-of-type {\n",
       "        vertical-align: middle;\n",
       "    }\n",
       "\n",
       "    .dataframe tbody tr th {\n",
       "        vertical-align: top;\n",
       "    }\n",
       "\n",
       "    .dataframe thead th {\n",
       "        text-align: right;\n",
       "    }\n",
       "</style>\n",
       "<table border=\"1\" class=\"dataframe\">\n",
       "  <thead>\n",
       "    <tr style=\"text-align: right;\">\n",
       "      <th></th>\n",
       "      <th>number_of_outliers</th>\n",
       "      <th>number_of_outliers_log</th>\n",
       "      <th>threshold_worth</th>\n",
       "    </tr>\n",
       "  </thead>\n",
       "  <tbody>\n",
       "    <tr>\n",
       "      <td>0</td>\n",
       "      <td>408.0</td>\n",
       "      <td>2862.0</td>\n",
       "      <td>1.0</td>\n",
       "    </tr>\n",
       "    <tr>\n",
       "      <td>1</td>\n",
       "      <td>120.0</td>\n",
       "      <td>52.0</td>\n",
       "      <td>2.0</td>\n",
       "    </tr>\n",
       "    <tr>\n",
       "      <td>2</td>\n",
       "      <td>52.0</td>\n",
       "      <td>1.0</td>\n",
       "      <td>3.0</td>\n",
       "    </tr>\n",
       "    <tr>\n",
       "      <td>3</td>\n",
       "      <td>16.0</td>\n",
       "      <td>0.0</td>\n",
       "      <td>4.0</td>\n",
       "    </tr>\n",
       "  </tbody>\n",
       "</table>\n",
       "</div>"
      ],
      "text/plain": [
       "   number_of_outliers  number_of_outliers_log  threshold_worth\n",
       "0               408.0                  2862.0              1.0\n",
       "1               120.0                    52.0              2.0\n",
       "2                52.0                     1.0              3.0\n",
       "3                16.0                     0.0              4.0"
      ]
     },
     "metadata": {},
     "output_type": "display_data"
    },
    {
     "name": "stdout",
     "output_type": "stream",
     "text": [
      "----------  bathroom ----------\n"
     ]
    },
    {
     "data": {
      "text/html": [
       "<div>\n",
       "<style scoped>\n",
       "    .dataframe tbody tr th:only-of-type {\n",
       "        vertical-align: middle;\n",
       "    }\n",
       "\n",
       "    .dataframe tbody tr th {\n",
       "        vertical-align: top;\n",
       "    }\n",
       "\n",
       "    .dataframe thead th {\n",
       "        text-align: right;\n",
       "    }\n",
       "</style>\n",
       "<table border=\"1\" class=\"dataframe\">\n",
       "  <thead>\n",
       "    <tr style=\"text-align: right;\">\n",
       "      <th></th>\n",
       "      <th>number_of_outliers</th>\n",
       "      <th>number_of_outliers_log</th>\n",
       "      <th>threshold_worth</th>\n",
       "    </tr>\n",
       "  </thead>\n",
       "  <tbody>\n",
       "    <tr>\n",
       "      <td>0</td>\n",
       "      <td>318.0</td>\n",
       "      <td>3.0</td>\n",
       "      <td>1.0</td>\n",
       "    </tr>\n",
       "    <tr>\n",
       "      <td>1</td>\n",
       "      <td>18.0</td>\n",
       "      <td>0.0</td>\n",
       "      <td>2.0</td>\n",
       "    </tr>\n",
       "    <tr>\n",
       "      <td>2</td>\n",
       "      <td>3.0</td>\n",
       "      <td>0.0</td>\n",
       "      <td>3.0</td>\n",
       "    </tr>\n",
       "    <tr>\n",
       "      <td>3</td>\n",
       "      <td>0.0</td>\n",
       "      <td>0.0</td>\n",
       "      <td>4.0</td>\n",
       "    </tr>\n",
       "  </tbody>\n",
       "</table>\n",
       "</div>"
      ],
      "text/plain": [
       "   number_of_outliers  number_of_outliers_log  threshold_worth\n",
       "0               318.0                     3.0              1.0\n",
       "1                18.0                     0.0              2.0\n",
       "2                 3.0                     0.0              3.0\n",
       "3                 0.0                     0.0              4.0"
      ]
     },
     "metadata": {},
     "output_type": "display_data"
    },
    {
     "name": "stdout",
     "output_type": "stream",
     "text": [
      "----------  parking spaces ----------\n"
     ]
    },
    {
     "data": {
      "text/html": [
       "<div>\n",
       "<style scoped>\n",
       "    .dataframe tbody tr th:only-of-type {\n",
       "        vertical-align: middle;\n",
       "    }\n",
       "\n",
       "    .dataframe tbody tr th {\n",
       "        vertical-align: top;\n",
       "    }\n",
       "\n",
       "    .dataframe thead th {\n",
       "        text-align: right;\n",
       "    }\n",
       "</style>\n",
       "<table border=\"1\" class=\"dataframe\">\n",
       "  <thead>\n",
       "    <tr style=\"text-align: right;\">\n",
       "      <th></th>\n",
       "      <th>number_of_outliers</th>\n",
       "      <th>number_of_outliers_log</th>\n",
       "      <th>threshold_worth</th>\n",
       "    </tr>\n",
       "  </thead>\n",
       "  <tbody>\n",
       "    <tr>\n",
       "      <td>0</td>\n",
       "      <td>552.0</td>\n",
       "      <td>0.0</td>\n",
       "      <td>1.0</td>\n",
       "    </tr>\n",
       "    <tr>\n",
       "      <td>1</td>\n",
       "      <td>159.0</td>\n",
       "      <td>0.0</td>\n",
       "      <td>2.0</td>\n",
       "    </tr>\n",
       "    <tr>\n",
       "      <td>2</td>\n",
       "      <td>3.0</td>\n",
       "      <td>0.0</td>\n",
       "      <td>3.0</td>\n",
       "    </tr>\n",
       "    <tr>\n",
       "      <td>3</td>\n",
       "      <td>1.0</td>\n",
       "      <td>0.0</td>\n",
       "      <td>4.0</td>\n",
       "    </tr>\n",
       "  </tbody>\n",
       "</table>\n",
       "</div>"
      ],
      "text/plain": [
       "   number_of_outliers  number_of_outliers_log  threshold_worth\n",
       "0               552.0                     0.0              1.0\n",
       "1               159.0                     0.0              2.0\n",
       "2                 3.0                     0.0              3.0\n",
       "3                 1.0                     0.0              4.0"
      ]
     },
     "metadata": {},
     "output_type": "display_data"
    },
    {
     "name": "stdout",
     "output_type": "stream",
     "text": [
      "----------  floor ----------\n"
     ]
    },
    {
     "data": {
      "text/html": [
       "<div>\n",
       "<style scoped>\n",
       "    .dataframe tbody tr th:only-of-type {\n",
       "        vertical-align: middle;\n",
       "    }\n",
       "\n",
       "    .dataframe tbody tr th {\n",
       "        vertical-align: top;\n",
       "    }\n",
       "\n",
       "    .dataframe thead th {\n",
       "        text-align: right;\n",
       "    }\n",
       "</style>\n",
       "<table border=\"1\" class=\"dataframe\">\n",
       "  <thead>\n",
       "    <tr style=\"text-align: right;\">\n",
       "      <th></th>\n",
       "      <th>number_of_outliers</th>\n",
       "      <th>number_of_outliers_log</th>\n",
       "      <th>threshold_worth</th>\n",
       "    </tr>\n",
       "  </thead>\n",
       "  <tbody>\n",
       "    <tr>\n",
       "      <td>0</td>\n",
       "      <td>621.0</td>\n",
       "      <td>19.0</td>\n",
       "      <td>1.0</td>\n",
       "    </tr>\n",
       "    <tr>\n",
       "      <td>1</td>\n",
       "      <td>142.0</td>\n",
       "      <td>3.0</td>\n",
       "      <td>2.0</td>\n",
       "    </tr>\n",
       "    <tr>\n",
       "      <td>2</td>\n",
       "      <td>19.0</td>\n",
       "      <td>1.0</td>\n",
       "      <td>3.0</td>\n",
       "    </tr>\n",
       "    <tr>\n",
       "      <td>3</td>\n",
       "      <td>6.0</td>\n",
       "      <td>0.0</td>\n",
       "      <td>4.0</td>\n",
       "    </tr>\n",
       "  </tbody>\n",
       "</table>\n",
       "</div>"
      ],
      "text/plain": [
       "   number_of_outliers  number_of_outliers_log  threshold_worth\n",
       "0               621.0                    19.0              1.0\n",
       "1               142.0                     3.0              2.0\n",
       "2                19.0                     1.0              3.0\n",
       "3                 6.0                     0.0              4.0"
      ]
     },
     "metadata": {},
     "output_type": "display_data"
    },
    {
     "name": "stdout",
     "output_type": "stream",
     "text": [
      "----------  hoa (R$) ----------\n"
     ]
    },
    {
     "data": {
      "text/html": [
       "<div>\n",
       "<style scoped>\n",
       "    .dataframe tbody tr th:only-of-type {\n",
       "        vertical-align: middle;\n",
       "    }\n",
       "\n",
       "    .dataframe tbody tr th {\n",
       "        vertical-align: top;\n",
       "    }\n",
       "\n",
       "    .dataframe thead th {\n",
       "        text-align: right;\n",
       "    }\n",
       "</style>\n",
       "<table border=\"1\" class=\"dataframe\">\n",
       "  <thead>\n",
       "    <tr style=\"text-align: right;\">\n",
       "      <th></th>\n",
       "      <th>number_of_outliers</th>\n",
       "      <th>number_of_outliers_log</th>\n",
       "      <th>threshold_worth</th>\n",
       "    </tr>\n",
       "  </thead>\n",
       "  <tbody>\n",
       "    <tr>\n",
       "      <td>0</td>\n",
       "      <td>1085.0</td>\n",
       "      <td>2424.0</td>\n",
       "      <td>1.0</td>\n",
       "    </tr>\n",
       "    <tr>\n",
       "      <td>1</td>\n",
       "      <td>446.0</td>\n",
       "      <td>2409.0</td>\n",
       "      <td>2.0</td>\n",
       "    </tr>\n",
       "    <tr>\n",
       "      <td>2</td>\n",
       "      <td>174.0</td>\n",
       "      <td>2375.0</td>\n",
       "      <td>3.0</td>\n",
       "    </tr>\n",
       "    <tr>\n",
       "      <td>3</td>\n",
       "      <td>80.0</td>\n",
       "      <td>2373.0</td>\n",
       "      <td>4.0</td>\n",
       "    </tr>\n",
       "  </tbody>\n",
       "</table>\n",
       "</div>"
      ],
      "text/plain": [
       "   number_of_outliers  number_of_outliers_log  threshold_worth\n",
       "0              1085.0                  2424.0              1.0\n",
       "1               446.0                  2409.0              2.0\n",
       "2               174.0                  2375.0              3.0\n",
       "3                80.0                  2373.0              4.0"
      ]
     },
     "metadata": {},
     "output_type": "display_data"
    },
    {
     "name": "stdout",
     "output_type": "stream",
     "text": [
      "----------  rent amount (R$) ----------\n"
     ]
    },
    {
     "data": {
      "text/html": [
       "<div>\n",
       "<style scoped>\n",
       "    .dataframe tbody tr th:only-of-type {\n",
       "        vertical-align: middle;\n",
       "    }\n",
       "\n",
       "    .dataframe tbody tr th {\n",
       "        vertical-align: top;\n",
       "    }\n",
       "\n",
       "    .dataframe thead th {\n",
       "        text-align: right;\n",
       "    }\n",
       "</style>\n",
       "<table border=\"1\" class=\"dataframe\">\n",
       "  <thead>\n",
       "    <tr style=\"text-align: right;\">\n",
       "      <th></th>\n",
       "      <th>number_of_outliers</th>\n",
       "      <th>number_of_outliers_log</th>\n",
       "      <th>threshold_worth</th>\n",
       "    </tr>\n",
       "  </thead>\n",
       "  <tbody>\n",
       "    <tr>\n",
       "      <td>0</td>\n",
       "      <td>1191.0</td>\n",
       "      <td>14.0</td>\n",
       "      <td>1.0</td>\n",
       "    </tr>\n",
       "    <tr>\n",
       "      <td>1</td>\n",
       "      <td>569.0</td>\n",
       "      <td>0.0</td>\n",
       "      <td>2.0</td>\n",
       "    </tr>\n",
       "    <tr>\n",
       "      <td>2</td>\n",
       "      <td>13.0</td>\n",
       "      <td>0.0</td>\n",
       "      <td>3.0</td>\n",
       "    </tr>\n",
       "    <tr>\n",
       "      <td>3</td>\n",
       "      <td>11.0</td>\n",
       "      <td>0.0</td>\n",
       "      <td>4.0</td>\n",
       "    </tr>\n",
       "  </tbody>\n",
       "</table>\n",
       "</div>"
      ],
      "text/plain": [
       "   number_of_outliers  number_of_outliers_log  threshold_worth\n",
       "0              1191.0                    14.0              1.0\n",
       "1               569.0                     0.0              2.0\n",
       "2                13.0                     0.0              3.0\n",
       "3                11.0                     0.0              4.0"
      ]
     },
     "metadata": {},
     "output_type": "display_data"
    },
    {
     "name": "stdout",
     "output_type": "stream",
     "text": [
      "----------  property tax (R$) ----------\n"
     ]
    },
    {
     "data": {
      "text/html": [
       "<div>\n",
       "<style scoped>\n",
       "    .dataframe tbody tr th:only-of-type {\n",
       "        vertical-align: middle;\n",
       "    }\n",
       "\n",
       "    .dataframe tbody tr th {\n",
       "        vertical-align: top;\n",
       "    }\n",
       "\n",
       "    .dataframe thead th {\n",
       "        text-align: right;\n",
       "    }\n",
       "</style>\n",
       "<table border=\"1\" class=\"dataframe\">\n",
       "  <thead>\n",
       "    <tr style=\"text-align: right;\">\n",
       "      <th></th>\n",
       "      <th>number_of_outliers</th>\n",
       "      <th>number_of_outliers_log</th>\n",
       "      <th>threshold_worth</th>\n",
       "    </tr>\n",
       "  </thead>\n",
       "  <tbody>\n",
       "    <tr>\n",
       "      <td>0</td>\n",
       "      <td>1414.0</td>\n",
       "      <td>1683.0</td>\n",
       "      <td>1.0</td>\n",
       "    </tr>\n",
       "    <tr>\n",
       "      <td>1</td>\n",
       "      <td>842.0</td>\n",
       "      <td>1597.0</td>\n",
       "      <td>2.0</td>\n",
       "    </tr>\n",
       "    <tr>\n",
       "      <td>2</td>\n",
       "      <td>520.0</td>\n",
       "      <td>1596.0</td>\n",
       "      <td>3.0</td>\n",
       "    </tr>\n",
       "    <tr>\n",
       "      <td>3</td>\n",
       "      <td>331.0</td>\n",
       "      <td>1596.0</td>\n",
       "      <td>4.0</td>\n",
       "    </tr>\n",
       "  </tbody>\n",
       "</table>\n",
       "</div>"
      ],
      "text/plain": [
       "   number_of_outliers  number_of_outliers_log  threshold_worth\n",
       "0              1414.0                  1683.0              1.0\n",
       "1               842.0                  1597.0              2.0\n",
       "2               520.0                  1596.0              3.0\n",
       "3               331.0                  1596.0              4.0"
      ]
     },
     "metadata": {},
     "output_type": "display_data"
    },
    {
     "name": "stdout",
     "output_type": "stream",
     "text": [
      "----------  fire insurance (R$) ----------\n"
     ]
    },
    {
     "data": {
      "text/html": [
       "<div>\n",
       "<style scoped>\n",
       "    .dataframe tbody tr th:only-of-type {\n",
       "        vertical-align: middle;\n",
       "    }\n",
       "\n",
       "    .dataframe tbody tr th {\n",
       "        vertical-align: top;\n",
       "    }\n",
       "\n",
       "    .dataframe thead th {\n",
       "        text-align: right;\n",
       "    }\n",
       "</style>\n",
       "<table border=\"1\" class=\"dataframe\">\n",
       "  <thead>\n",
       "    <tr style=\"text-align: right;\">\n",
       "      <th></th>\n",
       "      <th>number_of_outliers</th>\n",
       "      <th>number_of_outliers_log</th>\n",
       "      <th>threshold_worth</th>\n",
       "    </tr>\n",
       "  </thead>\n",
       "  <tbody>\n",
       "    <tr>\n",
       "      <td>0</td>\n",
       "      <td>1189.0</td>\n",
       "      <td>134.0</td>\n",
       "      <td>1.0</td>\n",
       "    </tr>\n",
       "    <tr>\n",
       "      <td>1</td>\n",
       "      <td>514.0</td>\n",
       "      <td>0.0</td>\n",
       "      <td>2.0</td>\n",
       "    </tr>\n",
       "    <tr>\n",
       "      <td>2</td>\n",
       "      <td>143.0</td>\n",
       "      <td>0.0</td>\n",
       "      <td>3.0</td>\n",
       "    </tr>\n",
       "    <tr>\n",
       "      <td>3</td>\n",
       "      <td>10.0</td>\n",
       "      <td>0.0</td>\n",
       "      <td>4.0</td>\n",
       "    </tr>\n",
       "  </tbody>\n",
       "</table>\n",
       "</div>"
      ],
      "text/plain": [
       "   number_of_outliers  number_of_outliers_log  threshold_worth\n",
       "0              1189.0                   134.0              1.0\n",
       "1               514.0                     0.0              2.0\n",
       "2               143.0                     0.0              3.0\n",
       "3                10.0                     0.0              4.0"
      ]
     },
     "metadata": {},
     "output_type": "display_data"
    },
    {
     "name": "stdout",
     "output_type": "stream",
     "text": [
      "----------  total (R$) ----------\n"
     ]
    },
    {
     "data": {
      "text/html": [
       "<div>\n",
       "<style scoped>\n",
       "    .dataframe tbody tr th:only-of-type {\n",
       "        vertical-align: middle;\n",
       "    }\n",
       "\n",
       "    .dataframe tbody tr th {\n",
       "        vertical-align: top;\n",
       "    }\n",
       "\n",
       "    .dataframe thead th {\n",
       "        text-align: right;\n",
       "    }\n",
       "</style>\n",
       "<table border=\"1\" class=\"dataframe\">\n",
       "  <thead>\n",
       "    <tr style=\"text-align: right;\">\n",
       "      <th></th>\n",
       "      <th>number_of_outliers</th>\n",
       "      <th>number_of_outliers_log</th>\n",
       "      <th>threshold_worth</th>\n",
       "    </tr>\n",
       "  </thead>\n",
       "  <tbody>\n",
       "    <tr>\n",
       "      <td>0</td>\n",
       "      <td>1100.0</td>\n",
       "      <td>76.0</td>\n",
       "      <td>1.0</td>\n",
       "    </tr>\n",
       "    <tr>\n",
       "      <td>1</td>\n",
       "      <td>413.0</td>\n",
       "      <td>6.0</td>\n",
       "      <td>2.0</td>\n",
       "    </tr>\n",
       "    <tr>\n",
       "      <td>2</td>\n",
       "      <td>92.0</td>\n",
       "      <td>3.0</td>\n",
       "      <td>3.0</td>\n",
       "    </tr>\n",
       "    <tr>\n",
       "      <td>3</td>\n",
       "      <td>23.0</td>\n",
       "      <td>2.0</td>\n",
       "      <td>4.0</td>\n",
       "    </tr>\n",
       "  </tbody>\n",
       "</table>\n",
       "</div>"
      ],
      "text/plain": [
       "   number_of_outliers  number_of_outliers_log  threshold_worth\n",
       "0              1100.0                    76.0              1.0\n",
       "1               413.0                     6.0              2.0\n",
       "2                92.0                     3.0              3.0\n",
       "3                23.0                     2.0              4.0"
      ]
     },
     "metadata": {},
     "output_type": "display_data"
    }
   ],
   "source": [
    "log_threshold_variables= pd.DataFrame()\n",
    "variables = [ 'area', 'rooms', 'bathroom', 'parking spaces', 'floor',\n",
    "         'hoa (R$)', 'rent amount (R$)',\n",
    "       'property tax (R$)', 'fire insurance (R$)', 'total (R$)']\n",
    "for j in variables:\n",
    "    for threshold_worth in np.arange(1,5,1):\n",
    "        q75_log, q25_log = np.percentile(np.log(df[j]), [75 ,25])\n",
    "        caa_log = q75_log - q25_log\n",
    "        q75, q25 = np.percentile(df[j], [75 ,25])\n",
    "        caa= q75 - q25\n",
    "        min_worth_log = q25_log - (caa_log*threshold_worth) \n",
    "        max_worth_log = q75_log + (caa_log*threshold_worth)\n",
    "        min_worth= q25 - (caa*threshold_worth) #logarithm expression\n",
    "        max_worth = q75 + (caa*threshold_worth) #logarithm expression\n",
    "        number_of_outliers_log = len((np.where((np.log(df[j]) > max_worth_log)| \n",
    "                                               (np.log(df[j]) < min_worth_log))[0]))\n",
    "        number_of_outliers = len((np.where((df[j] > max_worth)| \n",
    "                                               (df[j] < min_worth))[0]))\n",
    "        log_threshold_variables = log_threshold_variables.append({'threshold_worth': threshold_worth,\n",
    "                                                            'number_of_outliers' : number_of_outliers, #logarithm expression\n",
    "                                                            'number_of_outliers_log': number_of_outliers_log \n",
    "                                                            }, ignore_index=True)\n",
    "    print(\"-\"*10,\"\",j,\"-\"*10)\n",
    "    display(log_threshold_variables)\n",
    "    log_threshold_variables = pd.DataFrame()"
   ]
  },
  {
   "cell_type": "code",
   "execution_count": 20,
   "metadata": {},
   "outputs": [
    {
     "data": {
      "image/png": "[encoded data removed]",
      "text/plain": [
       "<Figure size 432x288 with 1 Axes>"
      ]
     },
     "metadata": {
      "needs_background": "light"
     },
     "output_type": "display_data"
    }
   ],
   "source": [
    "plt.boxplot(df['total (R$)'], whis=4)\n",
    "plt.show()"
   ]
  },
  {
   "cell_type": "markdown",
   "metadata": {},
   "source": [
    "# Arrange Whis Values "
   ]
  },
  {
   "cell_type": "code",
   "execution_count": 21,
   "metadata": {},
   "outputs": [
    {
     "data": {
      "text/plain": [
       "(-4997.625, 25593.0)"
      ]
     },
     "execution_count": 21,
     "metadata": {},
     "output_type": "execute_result"
    }
   ],
   "source": [
    "q1 = df['total (R$)'].quantile(0.25)\n",
    "q3 = df['total (R$)'].quantile(0.75)\n",
    "iqr = q3-q1 #Interquartile range\n",
    "low  = q1-1.5*iqr #acceptable range\n",
    "high = q3+4*iqr #acceptable range\n",
    "low,high"
   ]
  },
  {
   "cell_type": "code",
   "execution_count": 22,
   "metadata": {},
   "outputs": [],
   "source": [
    "df['total (R$)']=np.where(df['total (R$)'] > high,high,df['total (R$)']) # upper limit"
   ]
  },
  {
   "cell_type": "code",
   "execution_count": 23,
   "metadata": {},
   "outputs": [
    {
     "data": {
      "image/png": "[encoded data removed]",
      "text/plain": [
       "<Figure size 432x288 with 1 Axes>"
      ]
     },
     "metadata": {
      "needs_background": "light"
     },
     "output_type": "display_data"
    }
   ],
   "source": [
    "plt.boxplot(df['total (R$)'])\n",
    "plt.show()"
   ]
  },
  {
   "cell_type": "markdown",
   "metadata": {},
   "source": [
    "# Target Variable Log Expression with data"
   ]
  },
  {
   "cell_type": "code",
   "execution_count": 35,
   "metadata": {},
   "outputs": [
    {
     "data": {
      "text/plain": [
       "(1.815122775575988, 2.756048895403505)"
      ]
     },
     "execution_count": 35,
     "metadata": {},
     "output_type": "execute_result"
    }
   ],
   "source": [
    "df= np.log(df) # log expression \n",
    "\n",
    "q1 = df['total (R$)'].quantile(0.25)\n",
    "q3 = df['total (R$)'].quantile(0.75)\n",
    "iqr = q3-q1 #Interquartile range\n",
    "low  = q1-1.5*iqr #acceptable range\n",
    "high = q3+4*iqr #acceptable range\n",
    "low,high"
   ]
  },
  {
   "cell_type": "code",
   "execution_count": 37,
   "metadata": {},
   "outputs": [
    {
     "data": {
      "image/png": "[encoded data removed]",
      "text/plain": [
       "<Figure size 432x288 with 1 Axes>"
      ]
     },
     "metadata": {
      "needs_background": "light"
     },
     "output_type": "display_data"
    }
   ],
   "source": [
    "df['total (R$)']=np.where(df['total (R$)'] > high,high,df['total (R$)']) # upper limit\n",
    "\n",
    "plt.boxplot(df['total (R$)'])\n",
    "plt.show()"
   ]
  },
  {
   "cell_type": "markdown",
   "metadata": {},
   "source": [
    "# From Categorical Variable To Numerical Variable"
   ]
  },
  {
   "cell_type": "code",
   "execution_count": 24,
   "metadata": {},
   "outputs": [],
   "source": [
    "df[\"city\"]= df[\"city\"].replace({\"São Paulo\":0, 'Porto Alegre':1, 'Rio de Janeiro':2, 'Campinas':3,\n",
    "       'Belo Horizonte':4})\n",
    "df['animal']= pd.get_dummies(df['animal'],drop_first=True)\n",
    "df['furniture']= pd.get_dummies(df['furniture'],drop_first=True)"
   ]
  },
  {
   "cell_type": "code",
   "execution_count": 25,
   "metadata": {},
   "outputs": [
    {
     "data": {
      "text/html": [
       "<div>\n",
       "<style scoped>\n",
       "    .dataframe tbody tr th:only-of-type {\n",
       "        vertical-align: middle;\n",
       "    }\n",
       "\n",
       "    .dataframe tbody tr th {\n",
       "        vertical-align: top;\n",
       "    }\n",
       "\n",
       "    .dataframe thead th {\n",
       "        text-align: right;\n",
       "    }\n",
       "</style>\n",
       "<table border=\"1\" class=\"dataframe\">\n",
       "  <thead>\n",
       "    <tr style=\"text-align: right;\">\n",
       "      <th></th>\n",
       "      <th>city</th>\n",
       "      <th>area</th>\n",
       "      <th>rooms</th>\n",
       "      <th>bathroom</th>\n",
       "      <th>parking spaces</th>\n",
       "      <th>floor</th>\n",
       "      <th>animal</th>\n",
       "      <th>furniture</th>\n",
       "      <th>hoa (R$)</th>\n",
       "      <th>rent amount (R$)</th>\n",
       "      <th>property tax (R$)</th>\n",
       "      <th>fire insurance (R$)</th>\n",
       "      <th>total (R$)</th>\n",
       "    </tr>\n",
       "  </thead>\n",
       "  <tbody>\n",
       "    <tr>\n",
       "      <td>0</td>\n",
       "      <td>0</td>\n",
       "      <td>70</td>\n",
       "      <td>2</td>\n",
       "      <td>1</td>\n",
       "      <td>1</td>\n",
       "      <td>7.0</td>\n",
       "      <td>0</td>\n",
       "      <td>0</td>\n",
       "      <td>2065</td>\n",
       "      <td>3300</td>\n",
       "      <td>211</td>\n",
       "      <td>42</td>\n",
       "      <td>5618.0</td>\n",
       "    </tr>\n",
       "    <tr>\n",
       "      <td>1</td>\n",
       "      <td>0</td>\n",
       "      <td>320</td>\n",
       "      <td>4</td>\n",
       "      <td>4</td>\n",
       "      <td>0</td>\n",
       "      <td>20.0</td>\n",
       "      <td>0</td>\n",
       "      <td>1</td>\n",
       "      <td>1200</td>\n",
       "      <td>4960</td>\n",
       "      <td>1750</td>\n",
       "      <td>63</td>\n",
       "      <td>7973.0</td>\n",
       "    </tr>\n",
       "    <tr>\n",
       "      <td>2</td>\n",
       "      <td>1</td>\n",
       "      <td>80</td>\n",
       "      <td>1</td>\n",
       "      <td>1</td>\n",
       "      <td>1</td>\n",
       "      <td>6.0</td>\n",
       "      <td>0</td>\n",
       "      <td>1</td>\n",
       "      <td>1000</td>\n",
       "      <td>2800</td>\n",
       "      <td>0</td>\n",
       "      <td>41</td>\n",
       "      <td>3841.0</td>\n",
       "    </tr>\n",
       "    <tr>\n",
       "      <td>3</td>\n",
       "      <td>1</td>\n",
       "      <td>51</td>\n",
       "      <td>2</td>\n",
       "      <td>1</td>\n",
       "      <td>0</td>\n",
       "      <td>2.0</td>\n",
       "      <td>0</td>\n",
       "      <td>1</td>\n",
       "      <td>270</td>\n",
       "      <td>1112</td>\n",
       "      <td>22</td>\n",
       "      <td>17</td>\n",
       "      <td>1421.0</td>\n",
       "    </tr>\n",
       "    <tr>\n",
       "      <td>4</td>\n",
       "      <td>0</td>\n",
       "      <td>25</td>\n",
       "      <td>1</td>\n",
       "      <td>1</td>\n",
       "      <td>0</td>\n",
       "      <td>1.0</td>\n",
       "      <td>1</td>\n",
       "      <td>1</td>\n",
       "      <td>0</td>\n",
       "      <td>800</td>\n",
       "      <td>25</td>\n",
       "      <td>11</td>\n",
       "      <td>836.0</td>\n",
       "    </tr>\n",
       "  </tbody>\n",
       "</table>\n",
       "</div>"
      ],
      "text/plain": [
       "   city  area  rooms  bathroom  parking spaces  floor  animal  furniture  \\\n",
       "0     0    70      2         1               1    7.0       0          0   \n",
       "1     0   320      4         4               0   20.0       0          1   \n",
       "2     1    80      1         1               1    6.0       0          1   \n",
       "3     1    51      2         1               0    2.0       0          1   \n",
       "4     0    25      1         1               0    1.0       1          1   \n",
       "\n",
       "   hoa (R$)  rent amount (R$)  property tax (R$)  fire insurance (R$)  \\\n",
       "0      2065              3300                211                   42   \n",
       "1      1200              4960               1750                   63   \n",
       "2      1000              2800                  0                   41   \n",
       "3       270              1112                 22                   17   \n",
       "4         0               800                 25                   11   \n",
       "\n",
       "   total (R$)  \n",
       "0      5618.0  \n",
       "1      7973.0  \n",
       "2      3841.0  \n",
       "3      1421.0  \n",
       "4       836.0  "
      ]
     },
     "execution_count": 25,
     "metadata": {},
     "output_type": "execute_result"
    }
   ],
   "source": [
    "df.head()"
   ]
  },
  {
   "cell_type": "markdown",
   "metadata": {},
   "source": [
    "# Correlation"
   ]
  },
  {
   "cell_type": "code",
   "execution_count": 26,
   "metadata": {},
   "outputs": [
    {
     "data": {
      "text/html": [
       "<div>\n",
       "<style scoped>\n",
       "    .dataframe tbody tr th:only-of-type {\n",
       "        vertical-align: middle;\n",
       "    }\n",
       "\n",
       "    .dataframe tbody tr th {\n",
       "        vertical-align: top;\n",
       "    }\n",
       "\n",
       "    .dataframe thead th {\n",
       "        text-align: right;\n",
       "    }\n",
       "</style>\n",
       "<table border=\"1\" class=\"dataframe\">\n",
       "  <thead>\n",
       "    <tr style=\"text-align: right;\">\n",
       "      <th></th>\n",
       "      <th>city</th>\n",
       "      <th>area</th>\n",
       "      <th>rooms</th>\n",
       "      <th>bathroom</th>\n",
       "      <th>parking spaces</th>\n",
       "      <th>floor</th>\n",
       "      <th>animal</th>\n",
       "      <th>furniture</th>\n",
       "      <th>hoa (R$)</th>\n",
       "      <th>rent amount (R$)</th>\n",
       "      <th>property tax (R$)</th>\n",
       "      <th>fire insurance (R$)</th>\n",
       "      <th>total (R$)</th>\n",
       "    </tr>\n",
       "  </thead>\n",
       "  <tbody>\n",
       "    <tr>\n",
       "      <td>city</td>\n",
       "      <td>1.000000</td>\n",
       "      <td>0.009334</td>\n",
       "      <td>0.054564</td>\n",
       "      <td>-0.089320</td>\n",
       "      <td>-0.068015</td>\n",
       "      <td>-0.122921</td>\n",
       "      <td>-0.008014</td>\n",
       "      <td>0.106381</td>\n",
       "      <td>0.013775</td>\n",
       "      <td>-0.170962</td>\n",
       "      <td>-0.034662</td>\n",
       "      <td>-0.142254</td>\n",
       "      <td>-0.188998</td>\n",
       "    </tr>\n",
       "    <tr>\n",
       "      <td>area</td>\n",
       "      <td>0.009334</td>\n",
       "      <td>1.000000</td>\n",
       "      <td>0.193796</td>\n",
       "      <td>0.226766</td>\n",
       "      <td>0.193983</td>\n",
       "      <td>0.027297</td>\n",
       "      <td>-0.039626</td>\n",
       "      <td>-0.008175</td>\n",
       "      <td>0.006890</td>\n",
       "      <td>0.180742</td>\n",
       "      <td>0.039059</td>\n",
       "      <td>0.188078</td>\n",
       "      <td>0.187955</td>\n",
       "    </tr>\n",
       "    <tr>\n",
       "      <td>rooms</td>\n",
       "      <td>0.054564</td>\n",
       "      <td>0.193796</td>\n",
       "      <td>1.000000</td>\n",
       "      <td>0.733763</td>\n",
       "      <td>0.617510</td>\n",
       "      <td>0.041730</td>\n",
       "      <td>-0.172190</td>\n",
       "      <td>0.080694</td>\n",
       "      <td>0.007139</td>\n",
       "      <td>0.541758</td>\n",
       "      <td>0.075252</td>\n",
       "      <td>0.565148</td>\n",
       "      <td>0.547857</td>\n",
       "    </tr>\n",
       "    <tr>\n",
       "      <td>bathroom</td>\n",
       "      <td>-0.089320</td>\n",
       "      <td>0.226766</td>\n",
       "      <td>0.733763</td>\n",
       "      <td>1.000000</td>\n",
       "      <td>0.697379</td>\n",
       "      <td>0.111535</td>\n",
       "      <td>-0.118255</td>\n",
       "      <td>-0.017938</td>\n",
       "      <td>0.050271</td>\n",
       "      <td>0.668504</td>\n",
       "      <td>0.109253</td>\n",
       "      <td>0.676399</td>\n",
       "      <td>0.695338</td>\n",
       "    </tr>\n",
       "    <tr>\n",
       "      <td>parking spaces</td>\n",
       "      <td>-0.068015</td>\n",
       "      <td>0.193983</td>\n",
       "      <td>0.617510</td>\n",
       "      <td>0.697379</td>\n",
       "      <td>1.000000</td>\n",
       "      <td>0.108815</td>\n",
       "      <td>-0.127432</td>\n",
       "      <td>0.004720</td>\n",
       "      <td>0.009321</td>\n",
       "      <td>0.578361</td>\n",
       "      <td>0.098378</td>\n",
       "      <td>0.597348</td>\n",
       "      <td>0.586738</td>\n",
       "    </tr>\n",
       "    <tr>\n",
       "      <td>floor</td>\n",
       "      <td>-0.122921</td>\n",
       "      <td>0.027297</td>\n",
       "      <td>0.041730</td>\n",
       "      <td>0.111535</td>\n",
       "      <td>0.108815</td>\n",
       "      <td>1.000000</td>\n",
       "      <td>-0.000552</td>\n",
       "      <td>-0.046840</td>\n",
       "      <td>0.003026</td>\n",
       "      <td>0.152717</td>\n",
       "      <td>0.019911</td>\n",
       "      <td>0.137007</td>\n",
       "      <td>0.163791</td>\n",
       "    </tr>\n",
       "    <tr>\n",
       "      <td>animal</td>\n",
       "      <td>-0.008014</td>\n",
       "      <td>-0.039626</td>\n",
       "      <td>-0.172190</td>\n",
       "      <td>-0.118255</td>\n",
       "      <td>-0.127432</td>\n",
       "      <td>-0.000552</td>\n",
       "      <td>1.000000</td>\n",
       "      <td>-0.087972</td>\n",
       "      <td>0.022008</td>\n",
       "      <td>-0.067754</td>\n",
       "      <td>0.003006</td>\n",
       "      <td>-0.079152</td>\n",
       "      <td>-0.064660</td>\n",
       "    </tr>\n",
       "    <tr>\n",
       "      <td>furniture</td>\n",
       "      <td>0.106381</td>\n",
       "      <td>-0.008175</td>\n",
       "      <td>0.080694</td>\n",
       "      <td>-0.017938</td>\n",
       "      <td>0.004720</td>\n",
       "      <td>-0.046840</td>\n",
       "      <td>-0.087972</td>\n",
       "      <td>1.000000</td>\n",
       "      <td>-0.003413</td>\n",
       "      <td>-0.164235</td>\n",
       "      <td>-0.000985</td>\n",
       "      <td>-0.141768</td>\n",
       "      <td>-0.161952</td>\n",
       "    </tr>\n",
       "    <tr>\n",
       "      <td>hoa (R$)</td>\n",
       "      <td>0.013775</td>\n",
       "      <td>0.006890</td>\n",
       "      <td>0.007139</td>\n",
       "      <td>0.050271</td>\n",
       "      <td>0.009321</td>\n",
       "      <td>0.003026</td>\n",
       "      <td>0.022008</td>\n",
       "      <td>-0.003413</td>\n",
       "      <td>1.000000</td>\n",
       "      <td>0.036490</td>\n",
       "      <td>0.007627</td>\n",
       "      <td>0.029535</td>\n",
       "      <td>0.122887</td>\n",
       "    </tr>\n",
       "    <tr>\n",
       "      <td>rent amount (R$)</td>\n",
       "      <td>-0.170962</td>\n",
       "      <td>0.180742</td>\n",
       "      <td>0.541758</td>\n",
       "      <td>0.668504</td>\n",
       "      <td>0.578361</td>\n",
       "      <td>0.152717</td>\n",
       "      <td>-0.067754</td>\n",
       "      <td>-0.164235</td>\n",
       "      <td>0.036490</td>\n",
       "      <td>1.000000</td>\n",
       "      <td>0.107884</td>\n",
       "      <td>0.987343</td>\n",
       "      <td>0.951123</td>\n",
       "    </tr>\n",
       "    <tr>\n",
       "      <td>property tax (R$)</td>\n",
       "      <td>-0.034662</td>\n",
       "      <td>0.039059</td>\n",
       "      <td>0.075252</td>\n",
       "      <td>0.109253</td>\n",
       "      <td>0.098378</td>\n",
       "      <td>0.019911</td>\n",
       "      <td>0.003006</td>\n",
       "      <td>-0.000985</td>\n",
       "      <td>0.007627</td>\n",
       "      <td>0.107884</td>\n",
       "      <td>1.000000</td>\n",
       "      <td>0.105661</td>\n",
       "      <td>0.182937</td>\n",
       "    </tr>\n",
       "    <tr>\n",
       "      <td>fire insurance (R$)</td>\n",
       "      <td>-0.142254</td>\n",
       "      <td>0.188078</td>\n",
       "      <td>0.565148</td>\n",
       "      <td>0.676399</td>\n",
       "      <td>0.597348</td>\n",
       "      <td>0.137007</td>\n",
       "      <td>-0.079152</td>\n",
       "      <td>-0.141768</td>\n",
       "      <td>0.029535</td>\n",
       "      <td>0.987343</td>\n",
       "      <td>0.105661</td>\n",
       "      <td>1.000000</td>\n",
       "      <td>0.918820</td>\n",
       "    </tr>\n",
       "    <tr>\n",
       "      <td>total (R$)</td>\n",
       "      <td>-0.188998</td>\n",
       "      <td>0.187955</td>\n",
       "      <td>0.547857</td>\n",
       "      <td>0.695338</td>\n",
       "      <td>0.586738</td>\n",
       "      <td>0.163791</td>\n",
       "      <td>-0.064660</td>\n",
       "      <td>-0.161952</td>\n",
       "      <td>0.122887</td>\n",
       "      <td>0.951123</td>\n",
       "      <td>0.182937</td>\n",
       "      <td>0.918820</td>\n",
       "      <td>1.000000</td>\n",
       "    </tr>\n",
       "  </tbody>\n",
       "</table>\n",
       "</div>"
      ],
      "text/plain": [
       "                         city      area     rooms  bathroom  parking spaces  \\\n",
       "city                 1.000000  0.009334  0.054564 -0.089320       -0.068015   \n",
       "area                 0.009334  1.000000  0.193796  0.226766        0.193983   \n",
       "rooms                0.054564  0.193796  1.000000  0.733763        0.617510   \n",
       "bathroom            -0.089320  0.226766  0.733763  1.000000        0.697379   \n",
       "parking spaces      -0.068015  0.193983  0.617510  0.697379        1.000000   \n",
       "floor               -0.122921  0.027297  0.041730  0.111535        0.108815   \n",
       "animal              -0.008014 -0.039626 -0.172190 -0.118255       -0.127432   \n",
       "furniture            0.106381 -0.008175  0.080694 -0.017938        0.004720   \n",
       "hoa (R$)             0.013775  0.006890  0.007139  0.050271        0.009321   \n",
       "rent amount (R$)    -0.170962  0.180742  0.541758  0.668504        0.578361   \n",
       "property tax (R$)   -0.034662  0.039059  0.075252  0.109253        0.098378   \n",
       "fire insurance (R$) -0.142254  0.188078  0.565148  0.676399        0.597348   \n",
       "total (R$)          -0.188998  0.187955  0.547857  0.695338        0.586738   \n",
       "\n",
       "                        floor    animal  furniture  hoa (R$)  \\\n",
       "city                -0.122921 -0.008014   0.106381  0.013775   \n",
       "area                 0.027297 -0.039626  -0.008175  0.006890   \n",
       "rooms                0.041730 -0.172190   0.080694  0.007139   \n",
       "bathroom             0.111535 -0.118255  -0.017938  0.050271   \n",
       "parking spaces       0.108815 -0.127432   0.004720  0.009321   \n",
       "floor                1.000000 -0.000552  -0.046840  0.003026   \n",
       "animal              -0.000552  1.000000  -0.087972  0.022008   \n",
       "furniture           -0.046840 -0.087972   1.000000 -0.003413   \n",
       "hoa (R$)             0.003026  0.022008  -0.003413  1.000000   \n",
       "rent amount (R$)     0.152717 -0.067754  -0.164235  0.036490   \n",
       "property tax (R$)    0.019911  0.003006  -0.000985  0.007627   \n",
       "fire insurance (R$)  0.137007 -0.079152  -0.141768  0.029535   \n",
       "total (R$)           0.163791 -0.064660  -0.161952  0.122887   \n",
       "\n",
       "                     rent amount (R$)  property tax (R$)  fire insurance (R$)  \\\n",
       "city                        -0.170962          -0.034662            -0.142254   \n",
       "area                         0.180742           0.039059             0.188078   \n",
       "rooms                        0.541758           0.075252             0.565148   \n",
       "bathroom                     0.668504           0.109253             0.676399   \n",
       "parking spaces               0.578361           0.098378             0.597348   \n",
       "floor                        0.152717           0.019911             0.137007   \n",
       "animal                      -0.067754           0.003006            -0.079152   \n",
       "furniture                   -0.164235          -0.000985            -0.141768   \n",
       "hoa (R$)                     0.036490           0.007627             0.029535   \n",
       "rent amount (R$)             1.000000           0.107884             0.987343   \n",
       "property tax (R$)            0.107884           1.000000             0.105661   \n",
       "fire insurance (R$)          0.987343           0.105661             1.000000   \n",
       "total (R$)                   0.951123           0.182937             0.918820   \n",
       "\n",
       "                     total (R$)  \n",
       "city                  -0.188998  \n",
       "area                   0.187955  \n",
       "rooms                  0.547857  \n",
       "bathroom               0.695338  \n",
       "parking spaces         0.586738  \n",
       "floor                  0.163791  \n",
       "animal                -0.064660  \n",
       "furniture             -0.161952  \n",
       "hoa (R$)               0.122887  \n",
       "rent amount (R$)       0.951123  \n",
       "property tax (R$)      0.182937  \n",
       "fire insurance (R$)    0.918820  \n",
       "total (R$)             1.000000  "
      ]
     },
     "execution_count": 26,
     "metadata": {},
     "output_type": "execute_result"
    }
   ],
   "source": [
    "df_corr=df.corr()\n",
    "df_corr"
   ]
  },
  {
   "cell_type": "code",
   "execution_count": 27,
   "metadata": {},
   "outputs": [
    {
     "data": {
      "image/png": "[encoded data removed]",
      "text/plain": [
       "<Figure size 1296x720 with 2 Axes>"
      ]
     },
     "metadata": {
      "needs_background": "light"
     },
     "output_type": "display_data"
    }
   ],
   "source": [
    "plt.figure(figsize=(18,10))\n",
    "sns.heatmap(df_corr, square=True, annot=True, linewidths=.5, vmin=0, vmax=1, cmap='viridis')\n",
    "plt.title(\"Correlation Matrix (Starts_2)\", fontdict=title_font)\n",
    "\n",
    "plt.show()"
   ]
  },
  {
   "cell_type": "code",
   "execution_count": 28,
   "metadata": {},
   "outputs": [
    {
     "data": {
      "text/plain": [
       "city                  -0.188998\n",
       "area                   0.187955\n",
       "rooms                  0.547857\n",
       "bathroom               0.695338\n",
       "parking spaces         0.586738\n",
       "floor                  0.163791\n",
       "animal                -0.064660\n",
       "furniture             -0.161952\n",
       "hoa (R$)               0.122887\n",
       "rent amount (R$)       0.951123\n",
       "property tax (R$)      0.182937\n",
       "fire insurance (R$)    0.918820\n",
       "total (R$)             1.000000\n",
       "Name: total (R$), dtype: float64"
      ]
     },
     "execution_count": 28,
     "metadata": {},
     "output_type": "execute_result"
    }
   ],
   "source": [
    "df_corr['total (R$)']"
   ]
  },
  {
   "cell_type": "markdown",
   "metadata": {},
   "source": [
    "# Machine Learning"
   ]
  },
  {
   "cell_type": "markdown",
   "metadata": {},
   "source": [
    "### This model QIR*4 (total) \n",
    "### (model 1) "
   ]
  },
  {
   "cell_type": "code",
   "execution_count": 29,
   "metadata": {},
   "outputs": [],
   "source": [
    "import pandas as pd \n",
    "import numpy as np \n",
    "import matplotlib.pyplot as plt\n",
    "import seaborn as sns \n",
    "import statsmodels.api as sm \n",
    "import warnings\n",
    "warnings.filterwarnings('ignore')\n",
    "from sklearn.metrics import mean_squared_error ,r2_score,explained_variance_score,max_error\n",
    "from sklearn.model_selection import train_test_split, cross_val_score ,cross_val_predict,GridSearchCV\n",
    "from statsmodels.tools.eval_measures import mse, rmse\n",
    "from sklearn.preprocessing import StandardScaler\n",
    "from sklearn.linear_model import LinearRegression\n",
    "from sklearn.neighbors import KNeighborsRegressor\n",
    "from sklearn.tree import DecisionTreeRegressor\n",
    "from sklearn.ensemble import RandomForestRegressor"
   ]
  },
  {
   "cell_type": "code",
   "execution_count": 30,
   "metadata": {},
   "outputs": [
    {
     "data": {
      "text/html": [
       "<table class=\"simpletable\">\n",
       "<caption>OLS Regression Results</caption>\n",
       "<tr>\n",
       "  <th>Dep. Variable:</th>       <td>total (R$)</td>    <th>  R-squared:         </th> <td>   0.944</td> \n",
       "</tr>\n",
       "<tr>\n",
       "  <th>Model:</th>                   <td>OLS</td>       <th>  Adj. R-squared:    </th> <td>   0.944</td> \n",
       "</tr>\n",
       "<tr>\n",
       "  <th>Method:</th>             <td>Least Squares</td>  <th>  F-statistic:       </th> <td>1.209e+04</td>\n",
       "</tr>\n",
       "<tr>\n",
       "  <th>Date:</th>             <td>Sun, 28 Jun 2020</td> <th>  Prob (F-statistic):</th>  <td>  0.00</td>  \n",
       "</tr>\n",
       "<tr>\n",
       "  <th>Time:</th>                 <td>08:45:11</td>     <th>  Log-Likelihood:    </th> <td> -71690.</td> \n",
       "</tr>\n",
       "<tr>\n",
       "  <th>No. Observations:</th>      <td>  8553</td>      <th>  AIC:               </th> <td>1.434e+05</td>\n",
       "</tr>\n",
       "<tr>\n",
       "  <th>Df Residuals:</th>          <td>  8540</td>      <th>  BIC:               </th> <td>1.435e+05</td>\n",
       "</tr>\n",
       "<tr>\n",
       "  <th>Df Model:</th>              <td>    12</td>      <th>                     </th>     <td> </td>    \n",
       "</tr>\n",
       "<tr>\n",
       "  <th>Covariance Type:</th>      <td>nonrobust</td>    <th>                     </th>     <td> </td>    \n",
       "</tr>\n",
       "</table>\n",
       "<table class=\"simpletable\">\n",
       "<tr>\n",
       "           <td></td>              <th>coef</th>     <th>std err</th>      <th>t</th>      <th>P>|t|</th>  <th>[0.025</th>    <th>0.975]</th>  \n",
       "</tr>\n",
       "<tr>\n",
       "  <th>const</th>               <td> -202.9870</td> <td>   38.837</td> <td>   -5.227</td> <td> 0.000</td> <td> -279.116</td> <td> -126.858</td>\n",
       "</tr>\n",
       "<tr>\n",
       "  <th>city</th>                <td>  -31.4611</td> <td>    8.365</td> <td>   -3.761</td> <td> 0.000</td> <td>  -47.859</td> <td>  -15.063</td>\n",
       "</tr>\n",
       "<tr>\n",
       "  <th>area</th>                <td>    0.0659</td> <td>    0.020</td> <td>    3.350</td> <td> 0.001</td> <td>    0.027</td> <td>    0.104</td>\n",
       "</tr>\n",
       "<tr>\n",
       "  <th>rooms</th>               <td>   95.8237</td> <td>   15.539</td> <td>    6.167</td> <td> 0.000</td> <td>   65.363</td> <td>  126.284</td>\n",
       "</tr>\n",
       "<tr>\n",
       "  <th>bathroom</th>            <td>  277.1087</td> <td>   14.619</td> <td>   18.955</td> <td> 0.000</td> <td>  248.452</td> <td>  305.766</td>\n",
       "</tr>\n",
       "<tr>\n",
       "  <th>parking spaces</th>      <td>  106.8199</td> <td>   10.673</td> <td>   10.008</td> <td> 0.000</td> <td>   85.898</td> <td>  127.742</td>\n",
       "</tr>\n",
       "<tr>\n",
       "  <th>floor</th>               <td>    2.9034</td> <td>    1.844</td> <td>    1.574</td> <td> 0.115</td> <td>   -0.711</td> <td>    6.518</td>\n",
       "</tr>\n",
       "<tr>\n",
       "  <th>animal</th>              <td>  -18.9479</td> <td>   28.117</td> <td>   -0.674</td> <td> 0.500</td> <td>  -74.065</td> <td>   36.169</td>\n",
       "</tr>\n",
       "<tr>\n",
       "  <th>furniture</th>           <td>  -48.7875</td> <td>   27.900</td> <td>   -1.749</td> <td> 0.080</td> <td> -103.478</td> <td>    5.903</td>\n",
       "</tr>\n",
       "<tr>\n",
       "  <th>hoa (R$)</th>            <td>    0.0227</td> <td>    0.001</td> <td>   34.237</td> <td> 0.000</td> <td>    0.021</td> <td>    0.024</td>\n",
       "</tr>\n",
       "<tr>\n",
       "  <th>rent amount (R$)</th>    <td>    2.2576</td> <td>    0.022</td> <td>  102.592</td> <td> 0.000</td> <td>    2.214</td> <td>    2.301</td>\n",
       "</tr>\n",
       "<tr>\n",
       "  <th>property tax (R$)</th>   <td>    0.1036</td> <td>    0.003</td> <td>   31.194</td> <td> 0.000</td> <td>    0.097</td> <td>    0.110</td>\n",
       "</tr>\n",
       "<tr>\n",
       "  <th>fire insurance (R$)</th> <td>  -83.2237</td> <td>    1.575</td> <td>  -52.828</td> <td> 0.000</td> <td>  -86.312</td> <td>  -80.136</td>\n",
       "</tr>\n",
       "</table>\n",
       "<table class=\"simpletable\">\n",
       "<tr>\n",
       "  <th>Omnibus:</th>       <td>4510.961</td> <th>  Durbin-Watson:     </th>  <td>   1.986</td>  \n",
       "</tr>\n",
       "<tr>\n",
       "  <th>Prob(Omnibus):</th>  <td> 0.000</td>  <th>  Jarque-Bera (JB):  </th> <td>1504434.572</td>\n",
       "</tr>\n",
       "<tr>\n",
       "  <th>Skew:</th>           <td> 1.290</td>  <th>  Prob(JB):          </th>  <td>    0.00</td>  \n",
       "</tr>\n",
       "<tr>\n",
       "  <th>Kurtosis:</th>       <td>67.922</td>  <th>  Cond. No.          </th>  <td>6.65e+04</td>  \n",
       "</tr>\n",
       "</table><br/><br/>Warnings:<br/>[1] Standard Errors assume that the covariance matrix of the errors is correctly specified.<br/>[2] The condition number is large, 6.65e+04. This might indicate that there are<br/>strong multicollinearity or other numerical problems."
      ],
      "text/plain": [
       "<class 'statsmodels.iolib.summary.Summary'>\n",
       "\"\"\"\n",
       "                            OLS Regression Results                            \n",
       "==============================================================================\n",
       "Dep. Variable:             total (R$)   R-squared:                       0.944\n",
       "Model:                            OLS   Adj. R-squared:                  0.944\n",
       "Method:                 Least Squares   F-statistic:                 1.209e+04\n",
       "Date:                Sun, 28 Jun 2020   Prob (F-statistic):               0.00\n",
       "Time:                        08:45:11   Log-Likelihood:                -71690.\n",
       "No. Observations:                8553   AIC:                         1.434e+05\n",
       "Df Residuals:                    8540   BIC:                         1.435e+05\n",
       "Df Model:                          12                                         \n",
       "Covariance Type:            nonrobust                                         \n",
       "=======================================================================================\n",
       "                          coef    std err          t      P>|t|      [0.025      0.975]\n",
       "---------------------------------------------------------------------------------------\n",
       "const                -202.9870     38.837     -5.227      0.000    -279.116    -126.858\n",
       "city                  -31.4611      8.365     -3.761      0.000     -47.859     -15.063\n",
       "area                    0.0659      0.020      3.350      0.001       0.027       0.104\n",
       "rooms                  95.8237     15.539      6.167      0.000      65.363     126.284\n",
       "bathroom              277.1087     14.619     18.955      0.000     248.452     305.766\n",
       "parking spaces        106.8199     10.673     10.008      0.000      85.898     127.742\n",
       "floor                   2.9034      1.844      1.574      0.115      -0.711       6.518\n",
       "animal                -18.9479     28.117     -0.674      0.500     -74.065      36.169\n",
       "furniture             -48.7875     27.900     -1.749      0.080    -103.478       5.903\n",
       "hoa (R$)                0.0227      0.001     34.237      0.000       0.021       0.024\n",
       "rent amount (R$)        2.2576      0.022    102.592      0.000       2.214       2.301\n",
       "property tax (R$)       0.1036      0.003     31.194      0.000       0.097       0.110\n",
       "fire insurance (R$)   -83.2237      1.575    -52.828      0.000     -86.312     -80.136\n",
       "==============================================================================\n",
       "Omnibus:                     4510.961   Durbin-Watson:                   1.986\n",
       "Prob(Omnibus):                  0.000   Jarque-Bera (JB):          1504434.572\n",
       "Skew:                           1.290   Prob(JB):                         0.00\n",
       "Kurtosis:                      67.922   Cond. No.                     6.65e+04\n",
       "==============================================================================\n",
       "\n",
       "Warnings:\n",
       "[1] Standard Errors assume that the covariance matrix of the errors is correctly specified.\n",
       "[2] The condition number is large, 6.65e+04. This might indicate that there are\n",
       "strong multicollinearity or other numerical problems.\n",
       "\"\"\""
      ]
     },
     "execution_count": 30,
     "metadata": {},
     "output_type": "execute_result"
    }
   ],
   "source": [
    "X = df.drop([\"total (R$)\"], axis=1)\n",
    "y = df['total (R$)']\n",
    "\n",
    "X_train , X_test , y_train , y_test = train_test_split(X,y, test_size=0.2 , random_state= 40 )\n",
    "\n",
    "X_train = sm.add_constant(X_train)\n",
    "result = sm.OLS(y_train, X_train).fit()\n",
    "result.summary()"
   ]
  },
  {
   "cell_type": "code",
   "execution_count": 31,
   "metadata": {},
   "outputs": [
    {
     "name": "stdout",
     "output_type": "stream",
     "text": [
      "                            OLS Regression Results                            \n",
      "==============================================================================\n",
      "Dep. Variable:             total (R$)   R-squared:                       0.944\n",
      "Model:                            OLS   Adj. R-squared:                  0.944\n",
      "Method:                 Least Squares   F-statistic:                 1.209e+04\n",
      "Date:                Sun, 28 Jun 2020   Prob (F-statistic):               0.00\n",
      "Time:                        08:45:23   Log-Likelihood:                -71690.\n",
      "No. Observations:                8553   AIC:                         1.434e+05\n",
      "Df Residuals:                    8540   BIC:                         1.435e+05\n",
      "Df Model:                          12                                         \n",
      "Covariance Type:            nonrobust                                         \n",
      "=======================================================================================\n",
      "                          coef    std err          t      P>|t|      [0.025      0.975]\n",
      "---------------------------------------------------------------------------------------\n",
      "const                -202.9870     38.837     -5.227      0.000    -279.116    -126.858\n",
      "city                  -31.4611      8.365     -3.761      0.000     -47.859     -15.063\n",
      "area                    0.0659      0.020      3.350      0.001       0.027       0.104\n",
      "rooms                  95.8237     15.539      6.167      0.000      65.363     126.284\n",
      "bathroom              277.1087     14.619     18.955      0.000     248.452     305.766\n",
      "parking spaces        106.8199     10.673     10.008      0.000      85.898     127.742\n",
      "floor                   2.9034      1.844      1.574      0.115      -0.711       6.518\n",
      "animal                -18.9479     28.117     -0.674      0.500     -74.065      36.169\n",
      "furniture             -48.7875     27.900     -1.749      0.080    -103.478       5.903\n",
      "hoa (R$)                0.0227      0.001     34.237      0.000       0.021       0.024\n",
      "rent amount (R$)        2.2576      0.022    102.592      0.000       2.214       2.301\n",
      "property tax (R$)       0.1036      0.003     31.194      0.000       0.097       0.110\n",
      "fire insurance (R$)   -83.2237      1.575    -52.828      0.000     -86.312     -80.136\n",
      "==============================================================================\n",
      "Omnibus:                     4510.961   Durbin-Watson:                   1.986\n",
      "Prob(Omnibus):                  0.000   Jarque-Bera (JB):          1504434.572\n",
      "Skew:                           1.290   Prob(JB):                         0.00\n",
      "Kurtosis:                      67.922   Cond. No.                     6.65e+04\n",
      "==============================================================================\n",
      "\n",
      "Warnings:\n",
      "[1] Standard Errors assume that the covariance matrix of the errors is correctly specified.\n",
      "[2] The condition number is large, 6.65e+04. This might indicate that there are\n",
      "strong multicollinearity or other numerical problems.\n"
     ]
    }
   ],
   "source": [
    "print(result.summary())"
   ]
  },
  {
   "cell_type": "code",
   "execution_count": null,
   "metadata": {},
   "outputs": [],
   "source": []
  }
 ],
 "metadata": {
  "kernelspec": {
   "display_name": "Python 3",
   "language": "python",
   "name": "python3"
  },
  "language_info": {
   "codemirror_mode": {
    "name": "ipython",
    "version": 3
   },
   "file_extension": ".py",
   "mimetype": "text/x-python",
   "name": "python",
   "nbconvert_exporter": "python",
   "pygments_lexer": "ipython3",
   "version": "3.7.4"
  }
 },
 "nbformat": 4,
 "nbformat_minor": 4
}
